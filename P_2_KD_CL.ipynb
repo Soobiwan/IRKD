{
 "cells": [
  {
   "cell_type": "markdown",
   "metadata": {},
   "source": [
    "\n",
    "# VIT-TINY_Training_VIA_ViT_SMALL_KD+CL\n",
    "\n",
    "*Configuration*  \n",
    "- Input resolution: *12-16-20-24-28-32*  \n",
    "- Patch size: *2*\n",
    "\n",
    "---\n",
    "\n",
    "### Models & Parameters\n",
    "\n",
    "- *Student (ViT‑Tiny)*  \n",
    "  - Parameters: 5M  \n",
    "  - Curriculum: 10 epochs per resolution stage  \n",
    "  - 🎯 *Accuracy:* 79.92%"
   ]
  },
  {
   "cell_type": "code",
   "execution_count": 2,
   "metadata": {
    "_cell_guid": "b1076dfc-b9ad-4769-8c92-a6c4dae69d19",
    "_uuid": "8f2839f25d086af736a60e9eeb907d3b93b6e0e5",
    "execution": {
     "iopub.execute_input": "2025-05-06T18:30:17.688713Z",
     "iopub.status.busy": "2025-05-06T18:30:17.688093Z",
     "iopub.status.idle": "2025-05-06T20:33:04.909544Z",
     "shell.execute_reply": "2025-05-06T20:33:04.908220Z",
     "shell.execute_reply.started": "2025-05-06T18:30:17.688684Z"
    },
    "trusted": true
   },
   "outputs": [
    {
     "name": "stderr",
     "output_type": "stream",
     "text": [
      "/tmp/ipykernel_31/283011062.py:91: FutureWarning: You are using `torch.load` with `weights_only=False` (the current default value), which uses the default pickle module implicitly. It is possible to construct malicious pickle data which will execute arbitrary code during unpickling (See https://github.com/pytorch/pytorch/blob/main/SECURITY.md#untrusted-models for more details). In a future release, the default value for `weights_only` will be flipped to `True`. This limits the functions that could be executed during unpickling. Arbitrary objects will no longer be allowed to be loaded via this mode unless they are explicitly allowlisted by the user via `torch.serialization.add_safe_globals`. We recommend you start setting `weights_only=True` for any use case where you don't have full control of the loaded file. Please open an issue on GitHub for any issues related to this experimental feature.\n",
      "  ckpt = torch.load(\n"
     ]
    },
    {
     "name": "stdout",
     "output_type": "stream",
     "text": [
      "Files already downloaded and verified\n",
      "\n",
      "--- Curriculum Stage: Crop 12px for 10 epochs ---\n"
     ]
    },
    {
     "name": "stderr",
     "output_type": "stream",
     "text": [
      "Stage 12px Ep1/10: 100%|██████████| 352/352 [00:33<00:00, 10.58it/s]\n",
      "Val Stage 12px Ep1/10: 100%|██████████| 40/40 [00:00<00:00, 42.29it/s]\n"
     ]
    },
    {
     "name": "stdout",
     "output_type": "stream",
     "text": [
      "Stage 12px Ep1 val acc: 26.86%\n"
     ]
    },
    {
     "name": "stderr",
     "output_type": "stream",
     "text": [
      "Stage 12px Ep2/10: 100%|██████████| 352/352 [00:33<00:00, 10.60it/s]\n",
      "Val Stage 12px Ep2/10: 100%|██████████| 40/40 [00:01<00:00, 38.48it/s]\n"
     ]
    },
    {
     "name": "stdout",
     "output_type": "stream",
     "text": [
      "Stage 12px Ep2 val acc: 32.48%\n"
     ]
    },
    {
     "name": "stderr",
     "output_type": "stream",
     "text": [
      "Stage 12px Ep3/10: 100%|██████████| 352/352 [00:33<00:00, 10.60it/s]\n",
      "Val Stage 12px Ep3/10: 100%|██████████| 40/40 [00:00<00:00, 42.35it/s]\n"
     ]
    },
    {
     "name": "stdout",
     "output_type": "stream",
     "text": [
      "Stage 12px Ep3 val acc: 33.96%\n"
     ]
    },
    {
     "name": "stderr",
     "output_type": "stream",
     "text": [
      "Stage 12px Ep4/10: 100%|██████████| 352/352 [00:33<00:00, 10.60it/s]\n",
      "Val Stage 12px Ep4/10: 100%|██████████| 40/40 [00:00<00:00, 42.29it/s]\n"
     ]
    },
    {
     "name": "stdout",
     "output_type": "stream",
     "text": [
      "Stage 12px Ep4 val acc: 34.38%\n"
     ]
    },
    {
     "name": "stderr",
     "output_type": "stream",
     "text": [
      "Stage 12px Ep5/10: 100%|██████████| 352/352 [00:33<00:00, 10.60it/s]\n",
      "Val Stage 12px Ep5/10: 100%|██████████| 40/40 [00:00<00:00, 41.95it/s]\n"
     ]
    },
    {
     "name": "stdout",
     "output_type": "stream",
     "text": [
      "Stage 12px Ep5 val acc: 37.22%\n"
     ]
    },
    {
     "name": "stderr",
     "output_type": "stream",
     "text": [
      "Stage 12px Ep6/10: 100%|██████████| 352/352 [00:33<00:00, 10.59it/s]\n",
      "Val Stage 12px Ep6/10: 100%|██████████| 40/40 [00:00<00:00, 41.94it/s]\n"
     ]
    },
    {
     "name": "stdout",
     "output_type": "stream",
     "text": [
      "Stage 12px Ep6 val acc: 36.66%\n"
     ]
    },
    {
     "name": "stderr",
     "output_type": "stream",
     "text": [
      "Stage 12px Ep7/10: 100%|██████████| 352/352 [00:33<00:00, 10.59it/s]\n",
      "Val Stage 12px Ep7/10: 100%|██████████| 40/40 [00:00<00:00, 41.42it/s]\n"
     ]
    },
    {
     "name": "stdout",
     "output_type": "stream",
     "text": [
      "Stage 12px Ep7 val acc: 37.74%\n"
     ]
    },
    {
     "name": "stderr",
     "output_type": "stream",
     "text": [
      "Stage 12px Ep8/10: 100%|██████████| 352/352 [00:33<00:00, 10.58it/s]\n",
      "Val Stage 12px Ep8/10: 100%|██████████| 40/40 [00:00<00:00, 42.56it/s]\n"
     ]
    },
    {
     "name": "stdout",
     "output_type": "stream",
     "text": [
      "Stage 12px Ep8 val acc: 38.26%\n"
     ]
    },
    {
     "name": "stderr",
     "output_type": "stream",
     "text": [
      "Stage 12px Ep9/10: 100%|██████████| 352/352 [00:33<00:00, 10.59it/s]\n",
      "Val Stage 12px Ep9/10: 100%|██████████| 40/40 [00:00<00:00, 41.18it/s]\n"
     ]
    },
    {
     "name": "stdout",
     "output_type": "stream",
     "text": [
      "Stage 12px Ep9 val acc: 38.72%\n"
     ]
    },
    {
     "name": "stderr",
     "output_type": "stream",
     "text": [
      "Stage 12px Ep10/10: 100%|██████████| 352/352 [00:33<00:00, 10.58it/s]\n",
      "Val Stage 12px Ep10/10: 100%|██████████| 40/40 [00:01<00:00, 34.83it/s]\n"
     ]
    },
    {
     "name": "stdout",
     "output_type": "stream",
     "text": [
      "Stage 12px Ep10 val acc: 40.74%\n",
      "\n",
      "--- Curriculum Stage: Crop 16px for 10 epochs ---\n"
     ]
    },
    {
     "name": "stderr",
     "output_type": "stream",
     "text": [
      "Stage 16px Ep1/10: 100%|██████████| 352/352 [01:00<00:00,  5.80it/s]\n",
      "Val Stage 16px Ep1/10: 100%|██████████| 40/40 [00:01<00:00, 29.00it/s]\n"
     ]
    },
    {
     "name": "stdout",
     "output_type": "stream",
     "text": [
      "Stage 16px Ep1 val acc: 48.12%\n"
     ]
    },
    {
     "name": "stderr",
     "output_type": "stream",
     "text": [
      "Stage 16px Ep2/10: 100%|██████████| 352/352 [01:00<00:00,  5.81it/s]\n",
      "Val Stage 16px Ep2/10: 100%|██████████| 40/40 [00:01<00:00, 29.73it/s]\n"
     ]
    },
    {
     "name": "stdout",
     "output_type": "stream",
     "text": [
      "Stage 16px Ep2 val acc: 51.64%\n"
     ]
    },
    {
     "name": "stderr",
     "output_type": "stream",
     "text": [
      "Stage 16px Ep3/10: 100%|██████████| 352/352 [01:00<00:00,  5.81it/s]\n",
      "Val Stage 16px Ep3/10: 100%|██████████| 40/40 [00:01<00:00, 29.69it/s]\n"
     ]
    },
    {
     "name": "stdout",
     "output_type": "stream",
     "text": [
      "Stage 16px Ep3 val acc: 51.46%\n"
     ]
    },
    {
     "name": "stderr",
     "output_type": "stream",
     "text": [
      "Stage 16px Ep4/10: 100%|██████████| 352/352 [01:00<00:00,  5.81it/s]\n",
      "Val Stage 16px Ep4/10: 100%|██████████| 40/40 [00:01<00:00, 29.49it/s]\n"
     ]
    },
    {
     "name": "stdout",
     "output_type": "stream",
     "text": [
      "Stage 16px Ep4 val acc: 53.58%\n"
     ]
    },
    {
     "name": "stderr",
     "output_type": "stream",
     "text": [
      "Stage 16px Ep5/10: 100%|██████████| 352/352 [01:00<00:00,  5.81it/s]\n",
      "Val Stage 16px Ep5/10: 100%|██████████| 40/40 [00:01<00:00, 29.81it/s]\n"
     ]
    },
    {
     "name": "stdout",
     "output_type": "stream",
     "text": [
      "Stage 16px Ep5 val acc: 53.62%\n"
     ]
    },
    {
     "name": "stderr",
     "output_type": "stream",
     "text": [
      "Stage 16px Ep6/10: 100%|██████████| 352/352 [01:00<00:00,  5.81it/s]\n",
      "Val Stage 16px Ep6/10: 100%|██████████| 40/40 [00:01<00:00, 29.51it/s]\n"
     ]
    },
    {
     "name": "stdout",
     "output_type": "stream",
     "text": [
      "Stage 16px Ep6 val acc: 55.32%\n"
     ]
    },
    {
     "name": "stderr",
     "output_type": "stream",
     "text": [
      "Stage 16px Ep7/10: 100%|██████████| 352/352 [01:00<00:00,  5.81it/s]\n",
      "Val Stage 16px Ep7/10: 100%|██████████| 40/40 [00:01<00:00, 29.52it/s]\n"
     ]
    },
    {
     "name": "stdout",
     "output_type": "stream",
     "text": [
      "Stage 16px Ep7 val acc: 54.40%\n"
     ]
    },
    {
     "name": "stderr",
     "output_type": "stream",
     "text": [
      "Stage 16px Ep8/10: 100%|██████████| 352/352 [01:00<00:00,  5.81it/s]\n",
      "Val Stage 16px Ep8/10: 100%|██████████| 40/40 [00:01<00:00, 29.55it/s]\n"
     ]
    },
    {
     "name": "stdout",
     "output_type": "stream",
     "text": [
      "Stage 16px Ep8 val acc: 55.06%\n"
     ]
    },
    {
     "name": "stderr",
     "output_type": "stream",
     "text": [
      "Stage 16px Ep9/10: 100%|██████████| 352/352 [01:00<00:00,  5.81it/s]\n",
      "Val Stage 16px Ep9/10: 100%|██████████| 40/40 [00:01<00:00, 29.67it/s]\n"
     ]
    },
    {
     "name": "stdout",
     "output_type": "stream",
     "text": [
      "Stage 16px Ep9 val acc: 56.98%\n"
     ]
    },
    {
     "name": "stderr",
     "output_type": "stream",
     "text": [
      "Stage 16px Ep10/10: 100%|██████████| 352/352 [01:00<00:00,  5.81it/s]\n",
      "Val Stage 16px Ep10/10: 100%|██████████| 40/40 [00:01<00:00, 29.45it/s]\n"
     ]
    },
    {
     "name": "stdout",
     "output_type": "stream",
     "text": [
      "Stage 16px Ep10 val acc: 56.96%\n",
      "\n",
      "--- Curriculum Stage: Crop 20px for 10 epochs ---\n"
     ]
    },
    {
     "name": "stderr",
     "output_type": "stream",
     "text": [
      "Stage 20px Ep1/10: 100%|██████████| 352/352 [01:31<00:00,  3.84it/s]\n",
      "Val Stage 20px Ep1/10: 100%|██████████| 40/40 [00:01<00:00, 22.21it/s]\n"
     ]
    },
    {
     "name": "stdout",
     "output_type": "stream",
     "text": [
      "Stage 20px Ep1 val acc: 63.94%\n"
     ]
    },
    {
     "name": "stderr",
     "output_type": "stream",
     "text": [
      "Stage 20px Ep2/10: 100%|██████████| 352/352 [01:31<00:00,  3.84it/s]\n",
      "Val Stage 20px Ep2/10: 100%|██████████| 40/40 [00:01<00:00, 22.31it/s]\n"
     ]
    },
    {
     "name": "stdout",
     "output_type": "stream",
     "text": [
      "Stage 20px Ep2 val acc: 65.42%\n"
     ]
    },
    {
     "name": "stderr",
     "output_type": "stream",
     "text": [
      "Stage 20px Ep3/10: 100%|██████████| 352/352 [01:31<00:00,  3.85it/s]\n",
      "Val Stage 20px Ep3/10: 100%|██████████| 40/40 [00:01<00:00, 22.40it/s]\n"
     ]
    },
    {
     "name": "stdout",
     "output_type": "stream",
     "text": [
      "Stage 20px Ep3 val acc: 65.44%\n"
     ]
    },
    {
     "name": "stderr",
     "output_type": "stream",
     "text": [
      "Stage 20px Ep4/10: 100%|██████████| 352/352 [01:31<00:00,  3.84it/s]\n",
      "Val Stage 20px Ep4/10: 100%|██████████| 40/40 [00:01<00:00, 22.53it/s]\n"
     ]
    },
    {
     "name": "stdout",
     "output_type": "stream",
     "text": [
      "Stage 20px Ep4 val acc: 65.78%\n"
     ]
    },
    {
     "name": "stderr",
     "output_type": "stream",
     "text": [
      "Stage 20px Ep6/10: 100%|██████████| 352/352 [01:31<00:00,  3.84it/s]\n",
      "Val Stage 20px Ep6/10: 100%|██████████| 40/40 [00:01<00:00, 22.21it/s]\n"
     ]
    },
    {
     "name": "stdout",
     "output_type": "stream",
     "text": [
      "Stage 20px Ep6 val acc: 66.00%\n"
     ]
    },
    {
     "name": "stderr",
     "output_type": "stream",
     "text": [
      "Stage 20px Ep7/10: 100%|██████████| 352/352 [01:31<00:00,  3.84it/s]\n",
      "Val Stage 20px Ep7/10: 100%|██████████| 40/40 [00:01<00:00, 22.45it/s]\n"
     ]
    },
    {
     "name": "stdout",
     "output_type": "stream",
     "text": [
      "Stage 20px Ep7 val acc: 67.74%\n"
     ]
    },
    {
     "name": "stderr",
     "output_type": "stream",
     "text": [
      "Stage 20px Ep8/10: 100%|██████████| 352/352 [01:31<00:00,  3.84it/s]\n",
      "Val Stage 20px Ep8/10: 100%|██████████| 40/40 [00:01<00:00, 22.26it/s]\n"
     ]
    },
    {
     "name": "stdout",
     "output_type": "stream",
     "text": [
      "Stage 20px Ep8 val acc: 67.40%\n"
     ]
    },
    {
     "name": "stderr",
     "output_type": "stream",
     "text": [
      "Stage 20px Ep9/10: 100%|██████████| 352/352 [01:31<00:00,  3.84it/s]\n",
      "Val Stage 20px Ep9/10: 100%|██████████| 40/40 [00:01<00:00, 22.22it/s]\n"
     ]
    },
    {
     "name": "stdout",
     "output_type": "stream",
     "text": [
      "Stage 20px Ep9 val acc: 69.96%\n"
     ]
    },
    {
     "name": "stderr",
     "output_type": "stream",
     "text": [
      "Stage 20px Ep10/10: 100%|██████████| 352/352 [01:31<00:00,  3.84it/s]\n",
      "Val Stage 20px Ep10/10: 100%|██████████| 40/40 [00:01<00:00, 22.47it/s]\n"
     ]
    },
    {
     "name": "stdout",
     "output_type": "stream",
     "text": [
      "Stage 20px Ep10 val acc: 69.22%\n",
      "\n",
      "--- Curriculum Stage: Crop 24px for 10 epochs ---\n"
     ]
    },
    {
     "name": "stderr",
     "output_type": "stream",
     "text": [
      "Stage 24px Ep1/10: 100%|██████████| 352/352 [02:16<00:00,  2.58it/s]\n",
      "Val Stage 24px Ep1/10: 100%|██████████| 40/40 [00:02<00:00, 16.16it/s]\n"
     ]
    },
    {
     "name": "stdout",
     "output_type": "stream",
     "text": [
      "Stage 24px Ep1 val acc: 73.98%\n"
     ]
    },
    {
     "name": "stderr",
     "output_type": "stream",
     "text": [
      "Stage 24px Ep2/10: 100%|██████████| 352/352 [02:16<00:00,  2.58it/s]\n",
      "Val Stage 24px Ep2/10: 100%|██████████| 40/40 [00:02<00:00, 16.13it/s]\n"
     ]
    },
    {
     "name": "stdout",
     "output_type": "stream",
     "text": [
      "Stage 24px Ep2 val acc: 71.88%\n"
     ]
    },
    {
     "name": "stderr",
     "output_type": "stream",
     "text": [
      "Stage 24px Ep3/10: 100%|██████████| 352/352 [02:16<00:00,  2.58it/s]\n",
      "Val Stage 24px Ep3/10: 100%|██████████| 40/40 [00:02<00:00, 16.19it/s]\n"
     ]
    },
    {
     "name": "stdout",
     "output_type": "stream",
     "text": [
      "Stage 24px Ep3 val acc: 73.26%\n"
     ]
    },
    {
     "name": "stderr",
     "output_type": "stream",
     "text": [
      "Stage 24px Ep4/10: 100%|██████████| 352/352 [02:16<00:00,  2.58it/s]\n",
      "Val Stage 24px Ep4/10: 100%|██████████| 40/40 [00:02<00:00, 15.94it/s]\n"
     ]
    },
    {
     "name": "stdout",
     "output_type": "stream",
     "text": [
      "Stage 24px Ep4 val acc: 76.14%\n"
     ]
    },
    {
     "name": "stderr",
     "output_type": "stream",
     "text": [
      "Stage 24px Ep5/10: 100%|██████████| 352/352 [02:16<00:00,  2.58it/s]\n",
      "Val Stage 24px Ep5/10: 100%|██████████| 40/40 [00:02<00:00, 15.91it/s]\n"
     ]
    },
    {
     "name": "stdout",
     "output_type": "stream",
     "text": [
      "Stage 24px Ep5 val acc: 75.46%\n"
     ]
    },
    {
     "name": "stderr",
     "output_type": "stream",
     "text": [
      "Stage 24px Ep6/10: 100%|██████████| 352/352 [02:16<00:00,  2.58it/s]\n",
      "Val Stage 24px Ep6/10: 100%|██████████| 40/40 [00:02<00:00, 15.78it/s]\n"
     ]
    },
    {
     "name": "stdout",
     "output_type": "stream",
     "text": [
      "Stage 24px Ep6 val acc: 75.10%\n"
     ]
    },
    {
     "name": "stderr",
     "output_type": "stream",
     "text": [
      "Stage 24px Ep7/10: 100%|██████████| 352/352 [02:16<00:00,  2.58it/s]\n",
      "Val Stage 24px Ep7/10: 100%|██████████| 40/40 [00:02<00:00, 15.77it/s]\n"
     ]
    },
    {
     "name": "stdout",
     "output_type": "stream",
     "text": [
      "Stage 24px Ep7 val acc: 75.62%\n"
     ]
    },
    {
     "name": "stderr",
     "output_type": "stream",
     "text": [
      "Stage 24px Ep8/10: 100%|██████████| 352/352 [02:16<00:00,  2.58it/s]\n",
      "Val Stage 24px Ep8/10: 100%|██████████| 40/40 [00:02<00:00, 16.17it/s]\n"
     ]
    },
    {
     "name": "stdout",
     "output_type": "stream",
     "text": [
      "Stage 24px Ep8 val acc: 75.94%\n"
     ]
    },
    {
     "name": "stderr",
     "output_type": "stream",
     "text": [
      "Stage 24px Ep9/10: 100%|██████████| 352/352 [02:16<00:00,  2.58it/s]\n",
      "Val Stage 24px Ep9/10: 100%|██████████| 40/40 [00:02<00:00, 16.03it/s]\n"
     ]
    },
    {
     "name": "stdout",
     "output_type": "stream",
     "text": [
      "Stage 24px Ep9 val acc: 76.54%\n"
     ]
    },
    {
     "name": "stderr",
     "output_type": "stream",
     "text": [
      "Stage 24px Ep10/10: 100%|██████████| 352/352 [02:16<00:00,  2.58it/s]\n",
      "Val Stage 24px Ep10/10: 100%|██████████| 40/40 [00:02<00:00, 16.13it/s]\n"
     ]
    },
    {
     "name": "stdout",
     "output_type": "stream",
     "text": [
      "Stage 24px Ep10 val acc: 76.38%\n",
      "\n",
      "--- Curriculum Stage: Crop 28px for 10 epochs ---\n"
     ]
    },
    {
     "name": "stderr",
     "output_type": "stream",
     "text": [
      "Stage 28px Ep1/10: 100%|██████████| 352/352 [03:22<00:00,  1.74it/s]\n",
      "Val Stage 28px Ep1/10: 100%|██████████| 40/40 [00:03<00:00, 11.74it/s]\n"
     ]
    },
    {
     "name": "stdout",
     "output_type": "stream",
     "text": [
      "Stage 28px Ep1 val acc: 77.86%\n"
     ]
    },
    {
     "name": "stderr",
     "output_type": "stream",
     "text": [
      "Stage 28px Ep2/10: 100%|██████████| 352/352 [03:22<00:00,  1.74it/s]\n",
      "Val Stage 28px Ep2/10: 100%|██████████| 40/40 [00:03<00:00, 11.74it/s]\n"
     ]
    },
    {
     "name": "stdout",
     "output_type": "stream",
     "text": [
      "Stage 28px Ep2 val acc: 78.74%\n"
     ]
    },
    {
     "name": "stderr",
     "output_type": "stream",
     "text": [
      "Stage 28px Ep3/10: 100%|██████████| 352/352 [03:22<00:00,  1.74it/s]\n",
      "Val Stage 28px Ep3/10: 100%|██████████| 40/40 [00:03<00:00, 11.77it/s]\n"
     ]
    },
    {
     "name": "stdout",
     "output_type": "stream",
     "text": [
      "Stage 28px Ep3 val acc: 79.68%\n"
     ]
    },
    {
     "name": "stderr",
     "output_type": "stream",
     "text": [
      "Stage 28px Ep4/10: 100%|██████████| 352/352 [03:22<00:00,  1.74it/s]\n",
      "Val Stage 28px Ep4/10: 100%|██████████| 40/40 [00:03<00:00, 11.73it/s]\n"
     ]
    },
    {
     "name": "stdout",
     "output_type": "stream",
     "text": [
      "Stage 28px Ep4 val acc: 79.56%\n"
     ]
    },
    {
     "name": "stderr",
     "output_type": "stream",
     "text": [
      "Stage 28px Ep5/10: 100%|██████████| 352/352 [03:22<00:00,  1.74it/s]\n",
      "Val Stage 28px Ep5/10: 100%|██████████| 40/40 [00:03<00:00, 11.74it/s]\n"
     ]
    },
    {
     "name": "stdout",
     "output_type": "stream",
     "text": [
      "Stage 28px Ep5 val acc: 80.22%\n"
     ]
    },
    {
     "name": "stderr",
     "output_type": "stream",
     "text": [
      "Stage 28px Ep6/10: 100%|██████████| 352/352 [03:22<00:00,  1.74it/s]\n",
      "Val Stage 28px Ep6/10: 100%|██████████| 40/40 [00:03<00:00, 11.75it/s]\n"
     ]
    },
    {
     "name": "stdout",
     "output_type": "stream",
     "text": [
      "Stage 28px Ep6 val acc: 80.30%\n"
     ]
    },
    {
     "name": "stderr",
     "output_type": "stream",
     "text": [
      "Stage 28px Ep7/10: 100%|██████████| 352/352 [03:22<00:00,  1.74it/s]\n",
      "Val Stage 28px Ep7/10: 100%|██████████| 40/40 [00:03<00:00, 11.75it/s]\n"
     ]
    },
    {
     "name": "stdout",
     "output_type": "stream",
     "text": [
      "Stage 28px Ep7 val acc: 79.32%\n"
     ]
    },
    {
     "name": "stderr",
     "output_type": "stream",
     "text": [
      "Stage 28px Ep8/10: 100%|██████████| 352/352 [03:22<00:00,  1.74it/s]\n",
      "Val Stage 28px Ep8/10: 100%|██████████| 40/40 [00:03<00:00, 11.68it/s]\n"
     ]
    },
    {
     "name": "stdout",
     "output_type": "stream",
     "text": [
      "Stage 28px Ep8 val acc: 80.56%\n"
     ]
    },
    {
     "name": "stderr",
     "output_type": "stream",
     "text": [
      "Stage 28px Ep9/10: 100%|██████████| 352/352 [03:22<00:00,  1.74it/s]\n",
      "Val Stage 28px Ep9/10: 100%|██████████| 40/40 [00:03<00:00, 11.74it/s]\n"
     ]
    },
    {
     "name": "stdout",
     "output_type": "stream",
     "text": [
      "Stage 28px Ep9 val acc: 79.62%\n"
     ]
    },
    {
     "name": "stderr",
     "output_type": "stream",
     "text": [
      "Stage 28px Ep10/10: 100%|██████████| 352/352 [03:22<00:00,  1.74it/s]\n",
      "Val Stage 28px Ep10/10: 100%|██████████| 40/40 [00:03<00:00, 11.65it/s]\n"
     ]
    },
    {
     "name": "stdout",
     "output_type": "stream",
     "text": [
      "Stage 28px Ep10 val acc: 79.60%\n",
      "\n",
      "--- Curriculum Stage: Crop 32px for 10 epochs ---\n"
     ]
    },
    {
     "name": "stderr",
     "output_type": "stream",
     "text": [
      "Stage 32px Ep1/10: 100%|██████████| 352/352 [04:42<00:00,  1.25it/s]\n",
      "Val Stage 32px Ep1/10: 100%|██████████| 40/40 [00:04<00:00,  8.92it/s]\n"
     ]
    },
    {
     "name": "stdout",
     "output_type": "stream",
     "text": [
      "Stage 32px Ep1 val acc: 80.98%\n"
     ]
    },
    {
     "name": "stderr",
     "output_type": "stream",
     "text": [
      "Stage 32px Ep2/10: 100%|██████████| 352/352 [04:42<00:00,  1.25it/s]\n",
      "Val Stage 32px Ep2/10: 100%|██████████| 40/40 [00:04<00:00,  8.90it/s]\n"
     ]
    },
    {
     "name": "stdout",
     "output_type": "stream",
     "text": [
      "Stage 32px Ep2 val acc: 80.84%\n"
     ]
    },
    {
     "name": "stderr",
     "output_type": "stream",
     "text": [
      "Stage 32px Ep3/10: 100%|██████████| 352/352 [04:42<00:00,  1.25it/s]\n",
      "Val Stage 32px Ep3/10: 100%|██████████| 40/40 [00:04<00:00,  8.87it/s]\n"
     ]
    },
    {
     "name": "stdout",
     "output_type": "stream",
     "text": [
      "Stage 32px Ep3 val acc: 80.42%\n"
     ]
    },
    {
     "name": "stderr",
     "output_type": "stream",
     "text": [
      "Stage 32px Ep4/10: 100%|██████████| 352/352 [04:42<00:00,  1.25it/s]\n",
      "Val Stage 32px Ep4/10: 100%|██████████| 40/40 [00:04<00:00,  8.87it/s]\n"
     ]
    },
    {
     "name": "stdout",
     "output_type": "stream",
     "text": [
      "Stage 32px Ep4 val acc: 80.32%\n"
     ]
    },
    {
     "name": "stderr",
     "output_type": "stream",
     "text": [
      "Stage 32px Ep5/10: 100%|██████████| 352/352 [04:42<00:00,  1.25it/s]\n",
      "Val Stage 32px Ep5/10: 100%|██████████| 40/40 [00:04<00:00,  8.88it/s]\n"
     ]
    },
    {
     "name": "stdout",
     "output_type": "stream",
     "text": [
      "Stage 32px Ep5 val acc: 81.56%\n"
     ]
    },
    {
     "name": "stderr",
     "output_type": "stream",
     "text": [
      "Stage 32px Ep6/10: 100%|██████████| 352/352 [04:42<00:00,  1.25it/s]\n",
      "Val Stage 32px Ep6/10: 100%|██████████| 40/40 [00:04<00:00,  8.86it/s]\n"
     ]
    },
    {
     "name": "stdout",
     "output_type": "stream",
     "text": [
      "Stage 32px Ep6 val acc: 79.14%\n"
     ]
    },
    {
     "name": "stderr",
     "output_type": "stream",
     "text": [
      "Stage 32px Ep7/10: 100%|██████████| 352/352 [04:42<00:00,  1.25it/s]\n",
      "Val Stage 32px Ep7/10: 100%|██████████| 40/40 [00:04<00:00,  8.87it/s]\n"
     ]
    },
    {
     "name": "stdout",
     "output_type": "stream",
     "text": [
      "Stage 32px Ep7 val acc: 80.16%\n"
     ]
    },
    {
     "name": "stderr",
     "output_type": "stream",
     "text": [
      "Stage 32px Ep8/10:   1%|          | 3/352 [00:02<05:06,  1.14it/s]\n"
     ]
    },
    {
     "ename": "KeyboardInterrupt",
     "evalue": "",
     "output_type": "error",
     "traceback": [
      "\u001b[0;31m---------------------------------------------------------------------------\u001b[0m",
      "\u001b[0;31mKeyboardInterrupt\u001b[0m                         Traceback (most recent call last)",
      "\u001b[0;32m/tmp/ipykernel_31/283011062.py\u001b[0m in \u001b[0;36m<cell line: 0>\u001b[0;34m()\u001b[0m\n\u001b[1;32m    168\u001b[0m         \u001b[0mstudent\u001b[0m\u001b[0;34m.\u001b[0m\u001b[0mtrain\u001b[0m\u001b[0;34m(\u001b[0m\u001b[0;34m)\u001b[0m\u001b[0;34m\u001b[0m\u001b[0;34m\u001b[0m\u001b[0m\n\u001b[1;32m    169\u001b[0m         \u001b[0;32mfor\u001b[0m \u001b[0mx\u001b[0m\u001b[0;34m,\u001b[0m \u001b[0my\u001b[0m \u001b[0;32min\u001b[0m \u001b[0mtqdm\u001b[0m\u001b[0;34m(\u001b[0m\u001b[0mtr_loader\u001b[0m\u001b[0;34m,\u001b[0m \u001b[0mdesc\u001b[0m\u001b[0;34m=\u001b[0m\u001b[0;34mf\"Stage {res}px Ep{ep}/{epochs}\"\u001b[0m\u001b[0;34m)\u001b[0m\u001b[0;34m:\u001b[0m\u001b[0;34m\u001b[0m\u001b[0;34m\u001b[0m\u001b[0m\n\u001b[0;32m--> 170\u001b[0;31m             \u001b[0mx\u001b[0m\u001b[0;34m,\u001b[0m \u001b[0my\u001b[0m \u001b[0;34m=\u001b[0m \u001b[0mx\u001b[0m\u001b[0;34m.\u001b[0m\u001b[0mto\u001b[0m\u001b[0;34m(\u001b[0m\u001b[0mdevice\u001b[0m\u001b[0;34m)\u001b[0m\u001b[0;34m,\u001b[0m \u001b[0my\u001b[0m\u001b[0;34m.\u001b[0m\u001b[0mto\u001b[0m\u001b[0;34m(\u001b[0m\u001b[0mdevice\u001b[0m\u001b[0;34m)\u001b[0m\u001b[0;34m\u001b[0m\u001b[0;34m\u001b[0m\u001b[0m\n\u001b[0m\u001b[1;32m    171\u001b[0m             \u001b[0;32mwith\u001b[0m \u001b[0mtorch\u001b[0m\u001b[0;34m.\u001b[0m\u001b[0mno_grad\u001b[0m\u001b[0;34m(\u001b[0m\u001b[0;34m)\u001b[0m\u001b[0;34m:\u001b[0m\u001b[0;34m\u001b[0m\u001b[0;34m\u001b[0m\u001b[0m\n\u001b[1;32m    172\u001b[0m                 \u001b[0mtlog\u001b[0m \u001b[0;34m=\u001b[0m \u001b[0mteacher\u001b[0m\u001b[0;34m(\u001b[0m\u001b[0mpixel_values\u001b[0m\u001b[0;34m=\u001b[0m\u001b[0mx\u001b[0m\u001b[0;34m,\u001b[0m \u001b[0minterpolate_pos_encoding\u001b[0m\u001b[0;34m=\u001b[0m\u001b[0;32mTrue\u001b[0m\u001b[0;34m)\u001b[0m\u001b[0;34m.\u001b[0m\u001b[0mlogits\u001b[0m\u001b[0;34m\u001b[0m\u001b[0;34m\u001b[0m\u001b[0m\n",
      "\u001b[0;31mKeyboardInterrupt\u001b[0m: "
     ]
    }
   ],
   "source": [
    "import os\n",
    "import math\n",
    "import numpy as np\n",
    "import torch\n",
    "import torch.nn as nn\n",
    "import torch.nn.functional as F\n",
    "import torch.optim as optim\n",
    "import matplotlib.pyplot as plt\n",
    "from torch.utils.data import DataLoader, Subset\n",
    "from torchvision import datasets, transforms\n",
    "from torchvision.transforms import AutoAugment, AutoAugmentPolicy, RandomErasing\n",
    "from transformers import (\n",
    "    DeiTConfig,\n",
    "    DeiTForImageClassification,\n",
    "    ViTConfig,\n",
    "    ViTPreTrainedModel,\n",
    "    ViTModel\n",
    ")\n",
    "from tqdm import tqdm\n",
    "\n",
    "\n",
    "use_dp = False  \n",
    "\n",
    "device = torch.device(\"cuda\" if torch.cuda.is_available() else \"cpu\")\n",
    "torch.manual_seed(42)\n",
    "np.random.seed(42)\n",
    "\n",
    "mean = (0.4914, 0.4822, 0.4465)\n",
    "std  = (0.2023, 0.1994, 0.2010)\n",
    "\n",
    "alpha, temp = 0.5, 4.0\n",
    "stages = [(r, 10) for r in [12, 16, 20, 24, 28, 32]]\n",
    "\n",
    "\n",
    "class ViTWithDistillation(ViTPreTrainedModel):\n",
    "    def __init__(self, config: ViTConfig):\n",
    "        super().__init__(config)\n",
    "        self.vit = ViTModel(config)\n",
    "        self.distill_token = nn.Parameter(torch.zeros(1, 1, config.hidden_size))\n",
    "        self.classifier = nn.Linear(config.hidden_size, config.num_labels)\n",
    "        self.distiller = nn.Linear(config.hidden_size, config.num_labels)\n",
    "        self.init_weights()\n",
    "\n",
    "    def forward(self, pixel_values, labels=None, teacher_logits=None,\n",
    "                alpha=0.5, temperature=1.0):\n",
    "        B = pixel_values.size(0)\n",
    "        embeds = self.vit.embeddings(pixel_values, interpolate_pos_encoding=True)\n",
    "        cls_emb, patch_emb = embeds[:, :1, :], embeds[:, 1:, :]\n",
    "        dist_tok = self.distill_token.expand(B, -1, -1)\n",
    "        x = torch.cat([cls_emb, dist_tok, patch_emb], dim=1)\n",
    "        x = self.vit.encoder(x)[0]\n",
    "        cls_out, dist_out = x[:, 0], x[:, 1]\n",
    "        logits = self.classifier(cls_out)\n",
    "        dist_logits = self.distiller(dist_out)\n",
    "        output = {\"logits\": logits, \"distill_logits\": dist_logits}\n",
    "\n",
    "        if labels is not None and teacher_logits is not None:\n",
    "            loss_ce = F.cross_entropy(logits, labels)\n",
    "            kd = F.kl_div(\n",
    "                F.log_softmax(dist_logits / temperature, dim=1),\n",
    "                F.softmax(teacher_logits / temperature, dim=1),\n",
    "                reduction='batchmean'\n",
    "            ) * (temperature ** 2)\n",
    "            output[\"loss\"] = (1 - alpha) * loss_ce + alpha * kd\n",
    "\n",
    "        return output\n",
    "\n",
    "\n",
    "teacher_config = DeiTConfig(\n",
    "    image_size=32,\n",
    "    patch_size=2,\n",
    "    num_labels=10,\n",
    "    hidden_size=384,\n",
    "    num_hidden_layers=12,\n",
    "    num_attention_heads=6,\n",
    "    intermediate_size=1536,\n",
    "    hidden_dropout_prob=0.1,\n",
    "    attention_probs_dropout_prob=0.1,\n",
    "    stochastic_depth_prob=0.1\n",
    ")\n",
    "teacher = DeiTForImageClassification(teacher_config).to(device)\n",
    "if use_dp:\n",
    "    teacher = nn.DataParallel(teacher)\n",
    "\n",
    "ckpt = torch.load(\n",
    "    \"/kaggle/input/best-teacher/pytorch/default/1/best_teacher.pth\",\n",
    "    map_location=device\n",
    ")\n",
    "state = {k.replace('module.', ''): v for k, v in ckpt.items()}\n",
    "teacher.load_state_dict(state, strict=True)\n",
    "teacher.eval()\n",
    "for p in teacher.parameters():\n",
    "    p.requires_grad_(False)\n",
    "\n",
    "\n",
    "tr_tf = transforms.Compose([\n",
    "    transforms.RandomCrop(32, padding=4),\n",
    "    transforms.RandomHorizontalFlip(),\n",
    "    AutoAugment(policy=AutoAugmentPolicy.CIFAR10),\n",
    "    transforms.ToTensor(),\n",
    "    transforms.Normalize(mean, std),\n",
    "    RandomErasing(p=0.2, scale=(0.02,0.2), ratio=(0.3,3.3))\n",
    "])\n",
    "val_tf = transforms.Compose([\n",
    "    transforms.ToTensor(),\n",
    "    transforms.Normalize(mean, std)\n",
    "])\n",
    "\n",
    "full_train = datasets.CIFAR10('./data', train=True, download=True, transform=tr_tf)\n",
    "num_val = int(0.1 * len(full_train))\n",
    "num_train = len(full_train) - num_val\n",
    "train_ds, val_idx_ds = torch.utils.data.random_split(\n",
    "    full_train, [num_train, num_val], generator=torch.Generator().manual_seed(42)\n",
    ")\n",
    "full_for_val = datasets.CIFAR10('./data', train=True, download=False, transform=val_tf)\n",
    "val_ds = Subset(full_for_val, val_idx_ds.indices)\n",
    "\n",
    "stu_cfg = ViTConfig(\n",
    "    image_size=32,\n",
    "    patch_size=2,\n",
    "    num_labels=10,\n",
    "    hidden_size=192,\n",
    "    num_hidden_layers=12,\n",
    "    num_attention_heads=3,\n",
    "    intermediate_size=768,\n",
    "    hidden_dropout_prob=0.1,\n",
    "    attention_probs_dropout_prob=0.1,\n",
    "    stochastic_depth_prob=0.1\n",
    ")\n",
    "student = ViTWithDistillation(config=stu_cfg).to(device)\n",
    "opt = optim.AdamW(student.parameters(), lr=3e-4, weight_decay=1e-4)\n",
    "\n",
    "\n",
    "for res, epochs in stages:\n",
    "    print(f\"\\n--- Curriculum Stage: Crop {res}px for {epochs} epochs ---\")\n",
    "    train_stage_tf = transforms.Compose([\n",
    "        transforms.RandomCrop(res, padding=4),\n",
    "        transforms.RandomHorizontalFlip(),\n",
    "        transforms.ToTensor(),\n",
    "        transforms.Normalize(mean, std),\n",
    "    ])\n",
    "    val_stage_tf = transforms.Compose([\n",
    "        transforms.CenterCrop(res),\n",
    "        transforms.ToTensor(),\n",
    "        transforms.Normalize(mean, std),\n",
    "    ])\n",
    "\n",
    "    base_train = datasets.CIFAR10('./data', train=True, download=False, transform=train_stage_tf)\n",
    "    base_val = datasets.CIFAR10('./data', train=True, download=False, transform=val_stage_tf)\n",
    "    tr_loader = DataLoader(Subset(base_train, train_ds.indices), batch_size=128, shuffle=True, num_workers=4)\n",
    "    vl_loader = DataLoader(Subset(base_val, val_idx_ds.indices), batch_size=128, shuffle=False, num_workers=4)\n",
    "\n",
    "    for ep in range(1, epochs + 1):\n",
    "        # Training with progress bar\n",
    "        student.train()\n",
    "        for x, y in tqdm(tr_loader, desc=f\"Stage {res}px Ep{ep}/{epochs}\"):\n",
    "            x, y = x.to(device), y.to(device)\n",
    "            with torch.no_grad():\n",
    "                tlog = teacher(pixel_values=x, interpolate_pos_encoding=True).logits\n",
    "            out = student(pixel_values=x, labels=y, teacher_logits=tlog, alpha=alpha, temperature=temp)\n",
    "            loss = out['loss'].mean()\n",
    "            opt.zero_grad()\n",
    "            loss.backward()\n",
    "            opt.step()\n",
    "\n",
    "        # Validation accuracy\n",
    "        student.eval()\n",
    "        correct, total = 0, 0\n",
    "        for xb, yb in tqdm(vl_loader, desc=f\"Val Stage {res}px Ep{ep}/{epochs}\"):\n",
    "            xb, yb = xb.to(device), yb.to(device)\n",
    "            with torch.no_grad():\n",
    "                preds = student(pixel_values=xb)['logits'].argmax(1)\n",
    "            correct += (preds == yb).sum().item()\n",
    "            total += yb.size(0)\n",
    "        val_acc = 100 * correct / total\n",
    "        print(f\"Stage {res}px Ep{ep} val acc: {val_acc:.2f}%\")\n",
    "\n",
    "\n",
    "student.eval()\n",
    "test_ds = datasets.CIFAR10('./data', train=False, transform=val_tf)\n",
    "tloader = DataLoader(test_ds, batch_size=128, shuffle=False, num_workers=4)\n",
    "correct = 0\n",
    "for xb, yb in tqdm(tloader, desc=\"Final Test\"):\n",
    "    xb, yb = xb.to(device), yb.to(device)\n",
    "    with torch.no_grad():\n",
    "        preds = student(pixel_values=xb)['logits'].argmax(1)\n",
    "    correct += (preds == yb).sum().item()\n",
    "student_acc = 100 * correct / len(test_ds)\n",
    "print(f\"Student Acc: {student_acc:.2f}%\")\n"
   ]
  },
  {
   "cell_type": "markdown",
   "metadata": {},
   "source": [
    "Early stopping done."
   ]
  },
  {
   "cell_type": "code",
   "execution_count": 3,
   "metadata": {
    "execution": {
     "iopub.execute_input": "2025-05-06T20:33:08.866158Z",
     "iopub.status.busy": "2025-05-06T20:33:08.865807Z",
     "iopub.status.idle": "2025-05-06T20:33:17.783138Z",
     "shell.execute_reply": "2025-05-06T20:33:17.782254Z",
     "shell.execute_reply.started": "2025-05-06T20:33:08.866128Z"
    },
    "trusted": true
   },
   "outputs": [
    {
     "name": "stderr",
     "output_type": "stream",
     "text": [
      "Final Test: 100%|██████████| 79/79 [00:08<00:00,  9.27it/s]"
     ]
    },
    {
     "name": "stdout",
     "output_type": "stream",
     "text": [
      "Student Acc: 79.92%\n"
     ]
    },
    {
     "name": "stderr",
     "output_type": "stream",
     "text": [
      "\n"
     ]
    }
   ],
   "source": [
    "student.eval()\n",
    "test_ds = datasets.CIFAR10('./data', train=False, transform=val_tf)\n",
    "tloader = DataLoader(test_ds, batch_size=128, shuffle=False, num_workers=4)\n",
    "correct = 0\n",
    "for xb, yb in tqdm(tloader, desc=\"Final Test\"):\n",
    "    xb, yb = xb.to(device), yb.to(device)\n",
    "    with torch.no_grad():\n",
    "        preds = student(pixel_values=xb)['logits'].argmax(1)\n",
    "    correct += (preds == yb).sum().item()\n",
    "student_acc = 100 * correct / len(test_ds)\n",
    "print(f\"Student Acc: {student_acc:.2f}%\")\n"
   ]
  },
  {
   "cell_type": "code",
   "execution_count": null,
   "metadata": {
    "trusted": true
   },
   "outputs": [],
   "source": []
  },
  {
   "cell_type": "code",
   "execution_count": null,
   "metadata": {
    "trusted": true
   },
   "outputs": [],
   "source": []
  }
 ],
 "metadata": {
  "kaggle": {
   "accelerator": "gpu",
   "dataSources": [
    {
     "isSourceIdPinned": true,
     "modelId": 323008,
     "modelInstanceId": 302513,
     "sourceId": 364604,
     "sourceType": "modelInstanceVersion"
    }
   ],
   "dockerImageVersionId": 31011,
   "isGpuEnabled": true,
   "isInternetEnabled": true,
   "language": "python",
   "sourceType": "notebook"
  },
  "kernelspec": {
   "display_name": "Python 3",
   "language": "python",
   "name": "python3"
  },
  "language_info": {
   "codemirror_mode": {
    "name": "ipython",
    "version": 3
   },
   "file_extension": ".py",
   "mimetype": "text/x-python",
   "name": "python",
   "nbconvert_exporter": "python",
   "pygments_lexer": "ipython3",
   "version": "3.11.11"
  }
 },
 "nbformat": 4,
 "nbformat_minor": 4
}
