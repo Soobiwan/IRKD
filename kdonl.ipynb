{
 "cells": [
  {
   "cell_type": "markdown",
   "metadata": {},
   "source": [
    "# KD only for ViT Tiny Student and ViT Small Teacher"
   ]
  },
  {
   "cell_type": "code",
   "execution_count": null,
   "metadata": {
    "execution": {
     "iopub.execute_input": "2025-05-06T19:02:42.674542Z",
     "iopub.status.busy": "2025-05-06T19:02:42.673900Z"
    },
    "trusted": true
   },
   "outputs": [
    {
     "name": "stderr",
     "output_type": "stream",
     "text": [
      "2025-05-06 19:02:56.190837: E external/local_xla/xla/stream_executor/cuda/cuda_fft.cc:477] Unable to register cuFFT factory: Attempting to register factory for plugin cuFFT when one has already been registered\n",
      "WARNING: All log messages before absl::InitializeLog() is called are written to STDERR\n",
      "E0000 00:00:1746558176.393674      31 cuda_dnn.cc:8310] Unable to register cuDNN factory: Attempting to register factory for plugin cuDNN when one has already been registered\n",
      "E0000 00:00:1746558176.455182      31 cuda_blas.cc:1418] Unable to register cuBLAS factory: Attempting to register factory for plugin cuBLAS when one has already been registered\n",
      "/tmp/ipykernel_31/2935911582.py:93: FutureWarning: You are using `torch.load` with `weights_only=False` (the current default value), which uses the default pickle module implicitly. It is possible to construct malicious pickle data which will execute arbitrary code during unpickling (See https://github.com/pytorch/pytorch/blob/main/SECURITY.md#untrusted-models for more details). In a future release, the default value for `weights_only` will be flipped to `True`. This limits the functions that could be executed during unpickling. Arbitrary objects will no longer be allowed to be loaded via this mode unless they are explicitly allowlisted by the user via `torch.serialization.add_safe_globals`. We recommend you start setting `weights_only=True` for any use case where you don't have full control of the loaded file. Please open an issue on GitHub for any issues related to this experimental feature.\n",
      "  ckpt = torch.load(\"/kaggle/input/best-teacher/pytorch/default/1/best_teacher.pth\", map_location=device)\n"
     ]
    },
    {
     "name": "stdout",
     "output_type": "stream",
     "text": [
      "Downloading https://www.cs.toronto.edu/~kriz/cifar-10-python.tar.gz to ./data/cifar-10-python.tar.gz\n"
     ]
    },
    {
     "name": "stderr",
     "output_type": "stream",
     "text": [
      "100%|██████████| 170M/170M [00:02<00:00, 77.2MB/s] \n"
     ]
    },
    {
     "name": "stdout",
     "output_type": "stream",
     "text": [
      "Extracting ./data/cifar-10-python.tar.gz to ./data\n"
     ]
    },
    {
     "name": "stderr",
     "output_type": "stream",
     "text": [
      "Train Epoch 1/60:   0%|          | 0/352 [00:00<?, ?it/s]/usr/local/lib/python3.11/dist-packages/torch/nn/parallel/_functions.py:71: UserWarning: Was asked to gather along dimension 0, but all input tensors were scalars; will instead unsqueeze and return a vector.\n",
      "  warnings.warn(\n",
      "Train Epoch 1/60: 100%|██████████| 352/352 [03:52<00:00,  1.52it/s, loss=1.33]\n",
      "Val Epoch 1/60: 100%|██████████| 40/40 [00:05<00:00,  7.44it/s]\n"
     ]
    },
    {
     "name": "stdout",
     "output_type": "stream",
     "text": [
      "Epoch 1 Validation Accuracy: 32.60%\n"
     ]
    },
    {
     "name": "stderr",
     "output_type": "stream",
     "text": [
      "Train Epoch 2/60: 100%|██████████| 352/352 [03:54<00:00,  1.50it/s, loss=1.32]\n",
      "Val Epoch 2/60: 100%|██████████| 40/40 [00:04<00:00,  8.28it/s]\n"
     ]
    },
    {
     "name": "stdout",
     "output_type": "stream",
     "text": [
      "Epoch 2 Validation Accuracy: 45.48%\n"
     ]
    },
    {
     "name": "stderr",
     "output_type": "stream",
     "text": [
      "Train Epoch 3/60: 100%|██████████| 352/352 [03:52<00:00,  1.51it/s, loss=1.34]\n",
      "Val Epoch 3/60: 100%|██████████| 40/40 [00:04<00:00,  8.42it/s]\n"
     ]
    },
    {
     "name": "stdout",
     "output_type": "stream",
     "text": [
      "Epoch 3 Validation Accuracy: 49.84%\n"
     ]
    },
    {
     "name": "stderr",
     "output_type": "stream",
     "text": [
      "Train Epoch 4/60: 100%|██████████| 352/352 [03:52<00:00,  1.51it/s, loss=1]    \n",
      "Val Epoch 4/60: 100%|██████████| 40/40 [00:04<00:00,  8.32it/s]\n"
     ]
    },
    {
     "name": "stdout",
     "output_type": "stream",
     "text": [
      "Epoch 4 Validation Accuracy: 52.86%\n"
     ]
    },
    {
     "name": "stderr",
     "output_type": "stream",
     "text": [
      "Train Epoch 5/60: 100%|██████████| 352/352 [03:55<00:00,  1.50it/s, loss=0.944]\n",
      "Val Epoch 5/60: 100%|██████████| 40/40 [00:04<00:00,  8.32it/s]\n"
     ]
    },
    {
     "name": "stdout",
     "output_type": "stream",
     "text": [
      "Epoch 5 Validation Accuracy: 55.44%\n"
     ]
    },
    {
     "name": "stderr",
     "output_type": "stream",
     "text": [
      "Train Epoch 6/60: 100%|██████████| 352/352 [03:53<00:00,  1.51it/s, loss=1.01] \n",
      "Val Epoch 6/60: 100%|██████████| 40/40 [00:04<00:00,  8.31it/s]\n"
     ]
    },
    {
     "name": "stdout",
     "output_type": "stream",
     "text": [
      "Epoch 6 Validation Accuracy: 57.60%\n"
     ]
    },
    {
     "name": "stderr",
     "output_type": "stream",
     "text": [
      "Train Epoch 7/60: 100%|██████████| 352/352 [03:55<00:00,  1.50it/s, loss=0.809]\n",
      "Val Epoch 7/60: 100%|██████████| 40/40 [00:04<00:00,  8.25it/s]\n"
     ]
    },
    {
     "name": "stdout",
     "output_type": "stream",
     "text": [
      "Epoch 7 Validation Accuracy: 60.92%\n"
     ]
    },
    {
     "name": "stderr",
     "output_type": "stream",
     "text": [
      "Train Epoch 8/60: 100%|██████████| 352/352 [03:55<00:00,  1.49it/s, loss=1.06] \n",
      "Val Epoch 8/60: 100%|██████████| 40/40 [00:04<00:00,  8.29it/s]\n"
     ]
    },
    {
     "name": "stdout",
     "output_type": "stream",
     "text": [
      "Epoch 8 Validation Accuracy: 61.40%\n"
     ]
    },
    {
     "name": "stderr",
     "output_type": "stream",
     "text": [
      "Train Epoch 9/60: 100%|██████████| 352/352 [03:55<00:00,  1.49it/s, loss=0.839]\n",
      "Val Epoch 9/60: 100%|██████████| 40/40 [00:04<00:00,  8.26it/s]\n"
     ]
    },
    {
     "name": "stdout",
     "output_type": "stream",
     "text": [
      "Epoch 9 Validation Accuracy: 61.68%\n"
     ]
    },
    {
     "name": "stderr",
     "output_type": "stream",
     "text": [
      "Train Epoch 10/60: 100%|██████████| 352/352 [03:55<00:00,  1.49it/s, loss=0.85] \n",
      "Val Epoch 10/60: 100%|██████████| 40/40 [00:04<00:00,  8.25it/s]\n"
     ]
    },
    {
     "name": "stdout",
     "output_type": "stream",
     "text": [
      "Epoch 10 Validation Accuracy: 62.74%\n"
     ]
    },
    {
     "name": "stderr",
     "output_type": "stream",
     "text": [
      "Train Epoch 11/60: 100%|██████████| 352/352 [03:55<00:00,  1.49it/s, loss=0.932]\n",
      "Val Epoch 11/60: 100%|██████████| 40/40 [00:04<00:00,  8.25it/s]\n"
     ]
    },
    {
     "name": "stdout",
     "output_type": "stream",
     "text": [
      "Epoch 11 Validation Accuracy: 65.02%\n"
     ]
    },
    {
     "name": "stderr",
     "output_type": "stream",
     "text": [
      "Train Epoch 12/60: 100%|██████████| 352/352 [03:55<00:00,  1.49it/s, loss=0.916]\n",
      "Val Epoch 12/60: 100%|██████████| 40/40 [00:04<00:00,  8.22it/s]\n"
     ]
    },
    {
     "name": "stdout",
     "output_type": "stream",
     "text": [
      "Epoch 12 Validation Accuracy: 66.54%\n"
     ]
    },
    {
     "name": "stderr",
     "output_type": "stream",
     "text": [
      "Train Epoch 13/60: 100%|██████████| 352/352 [03:55<00:00,  1.49it/s, loss=0.737]\n",
      "Val Epoch 13/60: 100%|██████████| 40/40 [00:04<00:00,  8.29it/s]\n"
     ]
    },
    {
     "name": "stdout",
     "output_type": "stream",
     "text": [
      "Epoch 13 Validation Accuracy: 64.04%\n"
     ]
    },
    {
     "name": "stderr",
     "output_type": "stream",
     "text": [
      "Train Epoch 14/60: 100%|██████████| 352/352 [03:54<00:00,  1.50it/s, loss=0.734]\n",
      "Val Epoch 14/60: 100%|██████████| 40/40 [00:04<00:00,  8.38it/s]\n"
     ]
    },
    {
     "name": "stdout",
     "output_type": "stream",
     "text": [
      "Epoch 14 Validation Accuracy: 65.70%\n"
     ]
    },
    {
     "name": "stderr",
     "output_type": "stream",
     "text": [
      "Train Epoch 15/60: 100%|██████████| 352/352 [03:50<00:00,  1.53it/s, loss=0.829]\n",
      "Val Epoch 15/60: 100%|██████████| 40/40 [00:04<00:00,  8.38it/s]\n"
     ]
    },
    {
     "name": "stdout",
     "output_type": "stream",
     "text": [
      "Epoch 15 Validation Accuracy: 69.10%\n"
     ]
    },
    {
     "name": "stderr",
     "output_type": "stream",
     "text": [
      "Train Epoch 16/60: 100%|██████████| 352/352 [03:50<00:00,  1.52it/s, loss=0.71] \n",
      "Val Epoch 16/60: 100%|██████████| 40/40 [00:04<00:00,  8.45it/s]\n"
     ]
    },
    {
     "name": "stdout",
     "output_type": "stream",
     "text": [
      "Epoch 16 Validation Accuracy: 68.68%\n"
     ]
    },
    {
     "name": "stderr",
     "output_type": "stream",
     "text": [
      "Train Epoch 17/60: 100%|██████████| 352/352 [03:51<00:00,  1.52it/s, loss=0.744]\n",
      "Val Epoch 17/60: 100%|██████████| 40/40 [00:04<00:00,  8.38it/s]\n"
     ]
    },
    {
     "name": "stdout",
     "output_type": "stream",
     "text": [
      "Epoch 17 Validation Accuracy: 70.58%\n"
     ]
    },
    {
     "name": "stderr",
     "output_type": "stream",
     "text": [
      "Train Epoch 18/60: 100%|██████████| 352/352 [03:51<00:00,  1.52it/s, loss=0.737]\n",
      "Val Epoch 18/60: 100%|██████████| 40/40 [00:04<00:00,  8.18it/s]\n"
     ]
    },
    {
     "name": "stdout",
     "output_type": "stream",
     "text": [
      "Epoch 18 Validation Accuracy: 69.96%\n"
     ]
    },
    {
     "name": "stderr",
     "output_type": "stream",
     "text": [
      "Train Epoch 19/60: 100%|██████████| 352/352 [03:51<00:00,  1.52it/s, loss=0.671]\n",
      "Val Epoch 19/60: 100%|██████████| 40/40 [00:04<00:00,  8.42it/s]\n"
     ]
    },
    {
     "name": "stdout",
     "output_type": "stream",
     "text": [
      "Epoch 19 Validation Accuracy: 71.28%\n"
     ]
    },
    {
     "name": "stderr",
     "output_type": "stream",
     "text": [
      "Train Epoch 20/60: 100%|██████████| 352/352 [03:51<00:00,  1.52it/s, loss=0.658]\n",
      "Val Epoch 20/60: 100%|██████████| 40/40 [00:04<00:00,  8.27it/s]\n"
     ]
    },
    {
     "name": "stdout",
     "output_type": "stream",
     "text": [
      "Epoch 20 Validation Accuracy: 71.36%\n"
     ]
    },
    {
     "name": "stderr",
     "output_type": "stream",
     "text": [
      "Train Epoch 21/60: 100%|██████████| 352/352 [03:50<00:00,  1.52it/s, loss=0.774]\n",
      "Val Epoch 21/60: 100%|██████████| 40/40 [00:04<00:00,  8.45it/s]\n"
     ]
    },
    {
     "name": "stdout",
     "output_type": "stream",
     "text": [
      "Epoch 21 Validation Accuracy: 73.20%\n"
     ]
    },
    {
     "name": "stderr",
     "output_type": "stream",
     "text": [
      "Train Epoch 22/60: 100%|██████████| 352/352 [03:51<00:00,  1.52it/s, loss=0.701]\n",
      "Val Epoch 22/60: 100%|██████████| 40/40 [00:04<00:00,  8.34it/s]\n"
     ]
    },
    {
     "name": "stdout",
     "output_type": "stream",
     "text": [
      "Epoch 22 Validation Accuracy: 73.26%\n"
     ]
    },
    {
     "name": "stderr",
     "output_type": "stream",
     "text": [
      "Train Epoch 23/60: 100%|██████████| 352/352 [03:51<00:00,  1.52it/s, loss=0.63] \n",
      "Val Epoch 23/60: 100%|██████████| 40/40 [00:04<00:00,  8.42it/s]\n"
     ]
    },
    {
     "name": "stdout",
     "output_type": "stream",
     "text": [
      "Epoch 23 Validation Accuracy: 74.30%\n"
     ]
    },
    {
     "name": "stderr",
     "output_type": "stream",
     "text": [
      "Train Epoch 24/60: 100%|██████████| 352/352 [03:51<00:00,  1.52it/s, loss=0.764]\n",
      "Val Epoch 24/60: 100%|██████████| 40/40 [00:04<00:00,  8.28it/s]\n"
     ]
    },
    {
     "name": "stdout",
     "output_type": "stream",
     "text": [
      "Epoch 24 Validation Accuracy: 74.02%\n"
     ]
    },
    {
     "name": "stderr",
     "output_type": "stream",
     "text": [
      "Train Epoch 25/60: 100%|██████████| 352/352 [03:51<00:00,  1.52it/s, loss=0.653]\n",
      "Val Epoch 25/60: 100%|██████████| 40/40 [00:04<00:00,  8.39it/s]\n"
     ]
    },
    {
     "name": "stdout",
     "output_type": "stream",
     "text": [
      "Epoch 25 Validation Accuracy: 75.24%\n"
     ]
    },
    {
     "name": "stderr",
     "output_type": "stream",
     "text": [
      "Train Epoch 26/60: 100%|██████████| 352/352 [03:51<00:00,  1.52it/s, loss=0.757]\n",
      "Val Epoch 26/60: 100%|██████████| 40/40 [00:04<00:00,  8.34it/s]\n"
     ]
    },
    {
     "name": "stdout",
     "output_type": "stream",
     "text": [
      "Epoch 26 Validation Accuracy: 74.30%\n"
     ]
    },
    {
     "name": "stderr",
     "output_type": "stream",
     "text": [
      "Train Epoch 27/60:  38%|███▊      | 133/352 [01:28<02:25,  1.51it/s, loss=0.669]"
     ]
    }
   ],
   "source": [
    "import os\n",
    "import math\n",
    "import numpy as np\n",
    "import torch\n",
    "import torch.nn as nn\n",
    "import torch.nn.functional as F\n",
    "import torch.optim as optim\n",
    "import matplotlib.pyplot as plt\n",
    "from torch.utils.data import DataLoader, Subset\n",
    "from torchvision import datasets, transforms\n",
    "from torchvision.transforms import AutoAugment, AutoAugmentPolicy, RandomErasing\n",
    "from transformers import (\n",
    "    DeiTConfig,\n",
    "    DeiTForImageClassification,\n",
    "    ViTConfig,\n",
    "    ViTPreTrainedModel,\n",
    "    ViTModel\n",
    ")\n",
    "from tqdm import tqdm\n",
    "\n",
    "# ---------------------------------------------\n",
    "# Setup\n",
    "# ---------------------------------------------\n",
    "use_dp = True  # Use DataParallel\n",
    "device = torch.device(\"cuda\" if torch.cuda.is_available() else \"cpu\")\n",
    "torch.manual_seed(42)\n",
    "np.random.seed(42)\n",
    "\n",
    "mean = (0.4914, 0.4822, 0.4465)\n",
    "std = (0.2023, 0.1994, 0.2010)\n",
    "\n",
    "alpha, temp = 0.5, 4.0\n",
    "resolution = 32\n",
    "epochs = 60\n",
    "batch_size = 128\n",
    "\n",
    "# ---------------------------------------------\n",
    "# ViT with Distillation\n",
    "# ---------------------------------------------\n",
    "class ViTWithDistillation(ViTPreTrainedModel):\n",
    "    def __init__(self, config: ViTConfig):\n",
    "        super().__init__(config)\n",
    "        self.vit = ViTModel(config)\n",
    "        self.distill_token = nn.Parameter(torch.zeros(1, 1, config.hidden_size))\n",
    "        self.classifier = nn.Linear(config.hidden_size, config.num_labels)\n",
    "        self.distiller = nn.Linear(config.hidden_size, config.num_labels)\n",
    "        self.init_weights()\n",
    "\n",
    "    def forward(self, pixel_values, labels=None, teacher_logits=None,\n",
    "                alpha=0.5, temperature=1.0):\n",
    "        B = pixel_values.size(0)\n",
    "        embeds = self.vit.embeddings(pixel_values, interpolate_pos_encoding=True)\n",
    "        cls_emb, patch_emb = embeds[:, :1, :], embeds[:, 1:, :]\n",
    "        dist_tok = self.distill_token.expand(B, -1, -1)\n",
    "        x = torch.cat([cls_emb, dist_tok, patch_emb], dim=1)\n",
    "        x = self.vit.encoder(x)[0]\n",
    "        cls_out, dist_out = x[:, 0], x[:, 1]\n",
    "        logits = self.classifier(cls_out)\n",
    "        dist_logits = self.distiller(dist_out)\n",
    "        output = {\"logits\": logits, \"distill_logits\": dist_logits}\n",
    "\n",
    "        if labels is not None and teacher_logits is not None:\n",
    "            loss_ce = F.cross_entropy(logits, labels)\n",
    "            kd = F.kl_div(\n",
    "                F.log_softmax(dist_logits / temperature, dim=1),\n",
    "                F.softmax(teacher_logits / temperature, dim=1),\n",
    "                reduction='batchmean'\n",
    "            ) * (temperature ** 2)\n",
    "            output[\"loss\"] = (1 - alpha) * loss_ce + alpha * kd\n",
    "\n",
    "        return output\n",
    "\n",
    "# ---------------------------------------------\n",
    "# Prepare Teacher\n",
    "# ---------------------------------------------\n",
    "teacher_config = DeiTConfig(\n",
    "    image_size=resolution,\n",
    "    patch_size=2,\n",
    "    num_labels=10,\n",
    "    hidden_size=384,\n",
    "    num_hidden_layers=12,\n",
    "    num_attention_heads=6,\n",
    "    intermediate_size=1536,\n",
    "    hidden_dropout_prob=0.1,\n",
    "    attention_probs_dropout_prob=0.1,\n",
    "    stochastic_depth_prob=0.1\n",
    ")\n",
    "\n",
    "teacher = DeiTForImageClassification(teacher_config).to(device)\n",
    "if use_dp:\n",
    "    teacher = nn.DataParallel(teacher)\n",
    "\n",
    "ckpt = torch.load(\"/kaggle/input/best-teacher/pytorch/default/1/best_teacher.pth\", map_location=device)\n",
    "# Remove \"module.\" if present in keys\n",
    "state = {k.replace(\"module.\", \"\"): v for k, v in ckpt.items()}\n",
    "teacher.module.load_state_dict(state, strict=True) if use_dp else teacher.load_state_dict(state, strict=True)\n",
    "teacher.eval()\n",
    "for p in teacher.parameters():\n",
    "    p.requires_grad_(False)\n",
    "\n",
    "# ---------------------------------------------\n",
    "# Data Preparation\n",
    "# ---------------------------------------------\n",
    "train_tf = transforms.Compose([\n",
    "    transforms.RandomCrop(resolution, padding=4),\n",
    "    transforms.RandomHorizontalFlip(),\n",
    "    AutoAugment(policy=AutoAugmentPolicy.CIFAR10),\n",
    "    transforms.ToTensor(),\n",
    "    transforms.Normalize(mean, std),\n",
    "    RandomErasing(p=0.2, scale=(0.02, 0.2), ratio=(0.3, 3.3))\n",
    "])\n",
    "\n",
    "val_tf = transforms.Compose([\n",
    "    transforms.CenterCrop(resolution),\n",
    "    transforms.ToTensor(),\n",
    "    transforms.Normalize(mean, std)\n",
    "])\n",
    "\n",
    "dataset = datasets.CIFAR10('./data', train=True, download=True, transform=train_tf)\n",
    "num_val = int(0.1 * len(dataset))\n",
    "train_idx, val_idx = torch.utils.data.random_split(\n",
    "    list(range(len(dataset))), [len(dataset) - num_val, num_val],\n",
    "    generator=torch.Generator().manual_seed(42)\n",
    ")\n",
    "train_ds = Subset(dataset, train_idx)\n",
    "val_ds = Subset(datasets.CIFAR10('./data', train=True, download=False, transform=val_tf), val_idx)\n",
    "\n",
    "train_loader = DataLoader(train_ds, batch_size=batch_size, shuffle=True, num_workers=4)\n",
    "val_loader = DataLoader(val_ds, batch_size=batch_size, shuffle=False, num_workers=4)\n",
    "\n",
    "# ---------------------------------------------\n",
    "# Initialize Student\n",
    "# ---------------------------------------------\n",
    "stu_cfg = ViTConfig(\n",
    "    image_size=resolution,\n",
    "    patch_size=2,\n",
    "    num_labels=10,\n",
    "    hidden_size=192,\n",
    "    num_hidden_layers=12,\n",
    "    num_attention_heads=3,\n",
    "    intermediate_size=768,\n",
    "    hidden_dropout_prob=0.1,\n",
    "    attention_probs_dropout_prob=0.1,\n",
    "    stochastic_depth_prob=0.1\n",
    ")\n",
    "\n",
    "student = ViTWithDistillation(config=stu_cfg).to(device)\n",
    "if use_dp:\n",
    "    student = nn.DataParallel(student)\n",
    "\n",
    "opt = optim.AdamW(student.parameters(), lr=3e-4, weight_decay=1e-4)\n",
    "\n",
    "# ---------------------------------------------\n",
    "# Training Loop\n",
    "# ---------------------------------------------\n",
    "for ep in range(1, epochs + 1):\n",
    "    student.train()\n",
    "    loop = tqdm(train_loader, desc=f\"Train Epoch {ep}/{epochs}\")\n",
    "    for x, y in loop:\n",
    "        x, y = x.to(device), y.to(device)\n",
    "        with torch.no_grad():\n",
    "            tlog = teacher(pixel_values=x, interpolate_pos_encoding=True).logits\n",
    "        out = student(pixel_values=x, labels=y, teacher_logits=tlog,\n",
    "                      alpha=alpha, temperature=temp)\n",
    "        loss = out['loss'].mean()\n",
    "        opt.zero_grad()\n",
    "        loss.backward()\n",
    "        opt.step()\n",
    "        loop.set_postfix(loss=loss.item())\n",
    "\n",
    "    # Validation\n",
    "    student.eval()\n",
    "    correct, total = 0, 0\n",
    "    val_loop = tqdm(val_loader, desc=f\"Val Epoch {ep}/{epochs}\")\n",
    "    for xb, yb in val_loop:\n",
    "        xb, yb = xb.to(device), yb.to(device)\n",
    "        with torch.no_grad():\n",
    "            preds = student(pixel_values=xb)['logits'].argmax(1)\n",
    "        correct += (preds == yb).sum().item()\n",
    "        total += yb.size(0)\n",
    "    val_acc = 100 * correct / total\n",
    "    print(f\"Epoch {ep} Validation Accuracy: {val_acc:.2f}%\")\n",
    "\n",
    "# ---------------------------------------------\n",
    "# Final Test\n",
    "# ---------------------------------------------\n",
    "student.eval()\n",
    "test_ds = datasets.CIFAR10('./data', train=False, transform=val_tf)\n",
    "test_loader = DataLoader(test_ds, batch_size=batch_size, shuffle=False, num_workers=4)\n",
    "correct = 0\n",
    "for xb, yb in tqdm(test_loader, desc=\"Final Test\"):\n",
    "    xb, yb = xb.to(device), yb.to(device)\n",
    "    with torch.no_grad():\n",
    "        preds = student(pixel_values=xb)['logits'].argmax(1)\n",
    "    correct += (preds == yb).sum().item()\n",
    "\n",
    "student_acc = 100 * correct / len(test_ds)\n",
    "print(f\"Final Test Accuracy: {student_acc:.2f}%\")"
   ]
  },
  {
   "cell_type": "markdown",
   "metadata": {},
   "source": [
    "Training for the remaining epochs, Kaggle crashed."
   ]
  },
  {
   "cell_type": "markdown",
   "metadata": {},
   "source": [
    "This runs for the remaining 33 epochs"
   ]
  },
  {
   "cell_type": "code",
   "execution_count": 2,
   "metadata": {
    "execution": {
     "iopub.execute_input": "2025-05-06T20:49:53.244338Z",
     "iopub.status.busy": "2025-05-06T20:49:53.243695Z",
     "iopub.status.idle": "2025-05-06T23:01:27.556897Z",
     "shell.execute_reply": "2025-05-06T23:01:27.555906Z",
     "shell.execute_reply.started": "2025-05-06T20:49:53.244299Z"
    },
    "trusted": true
   },
   "outputs": [
    {
     "name": "stderr",
     "output_type": "stream",
     "text": [
      "Train Epoch 1/60: 100%|██████████| 352/352 [03:53<00:00,  1.51it/s, loss=0.695]\n",
      "Val Epoch 1/60: 100%|██████████| 40/40 [00:04<00:00,  8.40it/s]\n"
     ]
    },
    {
     "name": "stdout",
     "output_type": "stream",
     "text": [
      "Epoch 1 Validation Accuracy: 76.66%\n"
     ]
    },
    {
     "name": "stderr",
     "output_type": "stream",
     "text": [
      "Train Epoch 2/60: 100%|██████████| 352/352 [03:52<00:00,  1.52it/s, loss=0.651]\n",
      "Val Epoch 2/60: 100%|██████████| 40/40 [00:04<00:00,  8.41it/s]\n"
     ]
    },
    {
     "name": "stdout",
     "output_type": "stream",
     "text": [
      "Epoch 2 Validation Accuracy: 74.78%\n"
     ]
    },
    {
     "name": "stderr",
     "output_type": "stream",
     "text": [
      "Train Epoch 3/60: 100%|██████████| 352/352 [03:54<00:00,  1.50it/s, loss=0.723]\n",
      "Val Epoch 3/60: 100%|██████████| 40/40 [00:04<00:00,  8.31it/s]\n"
     ]
    },
    {
     "name": "stdout",
     "output_type": "stream",
     "text": [
      "Epoch 3 Validation Accuracy: 76.42%\n"
     ]
    },
    {
     "name": "stderr",
     "output_type": "stream",
     "text": [
      "Train Epoch 4/60: 100%|██████████| 352/352 [03:55<00:00,  1.50it/s, loss=0.609]\n",
      "Val Epoch 4/60: 100%|██████████| 40/40 [00:04<00:00,  8.28it/s]\n"
     ]
    },
    {
     "name": "stdout",
     "output_type": "stream",
     "text": [
      "Epoch 4 Validation Accuracy: 76.00%\n"
     ]
    },
    {
     "name": "stderr",
     "output_type": "stream",
     "text": [
      "Train Epoch 5/60: 100%|██████████| 352/352 [03:55<00:00,  1.50it/s, loss=0.535]\n",
      "Val Epoch 5/60: 100%|██████████| 40/40 [00:04<00:00,  8.32it/s]\n"
     ]
    },
    {
     "name": "stdout",
     "output_type": "stream",
     "text": [
      "Epoch 5 Validation Accuracy: 76.70%\n"
     ]
    },
    {
     "name": "stderr",
     "output_type": "stream",
     "text": [
      "Train Epoch 6/60: 100%|██████████| 352/352 [03:55<00:00,  1.49it/s, loss=0.497]\n",
      "Val Epoch 6/60: 100%|██████████| 40/40 [00:04<00:00,  8.25it/s]\n"
     ]
    },
    {
     "name": "stdout",
     "output_type": "stream",
     "text": [
      "Epoch 6 Validation Accuracy: 75.52%\n"
     ]
    },
    {
     "name": "stderr",
     "output_type": "stream",
     "text": [
      "Train Epoch 7/60: 100%|██████████| 352/352 [03:55<00:00,  1.50it/s, loss=0.626]\n",
      "Val Epoch 7/60: 100%|██████████| 40/40 [00:04<00:00,  8.40it/s]\n"
     ]
    },
    {
     "name": "stdout",
     "output_type": "stream",
     "text": [
      "Epoch 7 Validation Accuracy: 77.76%\n"
     ]
    },
    {
     "name": "stderr",
     "output_type": "stream",
     "text": [
      "Train Epoch 8/60: 100%|██████████| 352/352 [03:54<00:00,  1.50it/s, loss=0.491]\n",
      "Val Epoch 8/60: 100%|██████████| 40/40 [00:05<00:00,  7.48it/s]\n"
     ]
    },
    {
     "name": "stdout",
     "output_type": "stream",
     "text": [
      "Epoch 8 Validation Accuracy: 77.86%\n"
     ]
    },
    {
     "name": "stderr",
     "output_type": "stream",
     "text": [
      "Train Epoch 9/60: 100%|██████████| 352/352 [03:54<00:00,  1.50it/s, loss=0.533]\n",
      "Val Epoch 9/60: 100%|██████████| 40/40 [00:04<00:00,  8.37it/s]\n"
     ]
    },
    {
     "name": "stdout",
     "output_type": "stream",
     "text": [
      "Epoch 9 Validation Accuracy: 77.10%\n"
     ]
    },
    {
     "name": "stderr",
     "output_type": "stream",
     "text": [
      "Train Epoch 10/60: 100%|██████████| 352/352 [03:55<00:00,  1.50it/s, loss=0.632]\n",
      "Val Epoch 10/60: 100%|██████████| 40/40 [00:04<00:00,  8.19it/s]\n"
     ]
    },
    {
     "name": "stdout",
     "output_type": "stream",
     "text": [
      "Epoch 10 Validation Accuracy: 78.34%\n"
     ]
    },
    {
     "name": "stderr",
     "output_type": "stream",
     "text": [
      "Train Epoch 11/60: 100%|██████████| 352/352 [03:54<00:00,  1.50it/s, loss=0.607]\n",
      "Val Epoch 11/60: 100%|██████████| 40/40 [00:04<00:00,  8.30it/s]\n"
     ]
    },
    {
     "name": "stdout",
     "output_type": "stream",
     "text": [
      "Epoch 11 Validation Accuracy: 77.96%\n"
     ]
    },
    {
     "name": "stderr",
     "output_type": "stream",
     "text": [
      "Train Epoch 12/60: 100%|██████████| 352/352 [03:55<00:00,  1.50it/s, loss=0.552]\n",
      "Val Epoch 12/60: 100%|██████████| 40/40 [00:04<00:00,  8.30it/s]\n"
     ]
    },
    {
     "name": "stdout",
     "output_type": "stream",
     "text": [
      "Epoch 12 Validation Accuracy: 79.14%\n"
     ]
    },
    {
     "name": "stderr",
     "output_type": "stream",
     "text": [
      "Train Epoch 13/60: 100%|██████████| 352/352 [03:55<00:00,  1.50it/s, loss=0.563]\n",
      "Val Epoch 13/60: 100%|██████████| 40/40 [00:04<00:00,  8.31it/s]\n"
     ]
    },
    {
     "name": "stdout",
     "output_type": "stream",
     "text": [
      "Epoch 13 Validation Accuracy: 78.02%\n"
     ]
    },
    {
     "name": "stderr",
     "output_type": "stream",
     "text": [
      "Train Epoch 14/60: 100%|██████████| 352/352 [03:55<00:00,  1.50it/s, loss=0.545]\n",
      "Val Epoch 14/60: 100%|██████████| 40/40 [00:04<00:00,  8.32it/s]\n"
     ]
    },
    {
     "name": "stdout",
     "output_type": "stream",
     "text": [
      "Epoch 14 Validation Accuracy: 77.90%\n"
     ]
    },
    {
     "name": "stderr",
     "output_type": "stream",
     "text": [
      "Train Epoch 15/60: 100%|██████████| 352/352 [03:55<00:00,  1.50it/s, loss=0.639]\n",
      "Val Epoch 15/60: 100%|██████████| 40/40 [00:04<00:00,  8.28it/s]\n"
     ]
    },
    {
     "name": "stdout",
     "output_type": "stream",
     "text": [
      "Epoch 15 Validation Accuracy: 78.38%\n"
     ]
    },
    {
     "name": "stderr",
     "output_type": "stream",
     "text": [
      "Train Epoch 16/60: 100%|██████████| 352/352 [03:54<00:00,  1.50it/s, loss=0.541]\n",
      "Val Epoch 16/60: 100%|██████████| 40/40 [00:04<00:00,  8.28it/s]\n"
     ]
    },
    {
     "name": "stdout",
     "output_type": "stream",
     "text": [
      "Epoch 16 Validation Accuracy: 79.70%\n"
     ]
    },
    {
     "name": "stderr",
     "output_type": "stream",
     "text": [
      "Train Epoch 17/60: 100%|██████████| 352/352 [03:55<00:00,  1.49it/s, loss=0.56] \n",
      "Val Epoch 17/60: 100%|██████████| 40/40 [00:04<00:00,  8.29it/s]\n"
     ]
    },
    {
     "name": "stdout",
     "output_type": "stream",
     "text": [
      "Epoch 17 Validation Accuracy: 79.94%\n"
     ]
    },
    {
     "name": "stderr",
     "output_type": "stream",
     "text": [
      "Train Epoch 18/60: 100%|██████████| 352/352 [03:55<00:00,  1.50it/s, loss=0.572]\n",
      "Val Epoch 18/60: 100%|██████████| 40/40 [00:04<00:00,  8.27it/s]\n"
     ]
    },
    {
     "name": "stdout",
     "output_type": "stream",
     "text": [
      "Epoch 18 Validation Accuracy: 78.82%\n"
     ]
    },
    {
     "name": "stderr",
     "output_type": "stream",
     "text": [
      "Train Epoch 19/60: 100%|██████████| 352/352 [03:55<00:00,  1.50it/s, loss=0.564]\n",
      "Val Epoch 19/60: 100%|██████████| 40/40 [00:04<00:00,  8.27it/s]\n"
     ]
    },
    {
     "name": "stdout",
     "output_type": "stream",
     "text": [
      "Epoch 19 Validation Accuracy: 80.18%\n"
     ]
    },
    {
     "name": "stderr",
     "output_type": "stream",
     "text": [
      "Train Epoch 20/60: 100%|██████████| 352/352 [03:55<00:00,  1.50it/s, loss=0.659]\n",
      "Val Epoch 20/60: 100%|██████████| 40/40 [00:04<00:00,  8.23it/s]\n"
     ]
    },
    {
     "name": "stdout",
     "output_type": "stream",
     "text": [
      "Epoch 20 Validation Accuracy: 79.80%\n"
     ]
    },
    {
     "name": "stderr",
     "output_type": "stream",
     "text": [
      "Train Epoch 21/60: 100%|██████████| 352/352 [03:54<00:00,  1.50it/s, loss=0.483]\n",
      "Val Epoch 21/60: 100%|██████████| 40/40 [00:04<00:00,  8.32it/s]\n"
     ]
    },
    {
     "name": "stdout",
     "output_type": "stream",
     "text": [
      "Epoch 21 Validation Accuracy: 80.24%\n"
     ]
    },
    {
     "name": "stderr",
     "output_type": "stream",
     "text": [
      "Train Epoch 22/60: 100%|██████████| 352/352 [03:54<00:00,  1.50it/s, loss=0.577]\n",
      "Val Epoch 22/60: 100%|██████████| 40/40 [00:04<00:00,  8.36it/s]\n"
     ]
    },
    {
     "name": "stdout",
     "output_type": "stream",
     "text": [
      "Epoch 22 Validation Accuracy: 80.00%\n"
     ]
    },
    {
     "name": "stderr",
     "output_type": "stream",
     "text": [
      "Train Epoch 23/60: 100%|██████████| 352/352 [03:54<00:00,  1.50it/s, loss=0.494]\n",
      "Val Epoch 23/60: 100%|██████████| 40/40 [00:04<00:00,  8.25it/s]\n"
     ]
    },
    {
     "name": "stdout",
     "output_type": "stream",
     "text": [
      "Epoch 23 Validation Accuracy: 81.28%\n"
     ]
    },
    {
     "name": "stderr",
     "output_type": "stream",
     "text": [
      "Train Epoch 24/60: 100%|██████████| 352/352 [03:55<00:00,  1.50it/s, loss=0.481]\n",
      "Val Epoch 24/60: 100%|██████████| 40/40 [00:04<00:00,  8.26it/s]\n"
     ]
    },
    {
     "name": "stdout",
     "output_type": "stream",
     "text": [
      "Epoch 24 Validation Accuracy: 80.70%\n"
     ]
    },
    {
     "name": "stderr",
     "output_type": "stream",
     "text": [
      "Train Epoch 25/60: 100%|██████████| 352/352 [03:52<00:00,  1.51it/s, loss=0.432]\n",
      "Val Epoch 25/60: 100%|██████████| 40/40 [00:04<00:00,  8.23it/s]\n"
     ]
    },
    {
     "name": "stdout",
     "output_type": "stream",
     "text": [
      "Epoch 25 Validation Accuracy: 80.58%\n"
     ]
    },
    {
     "name": "stderr",
     "output_type": "stream",
     "text": [
      "Train Epoch 26/60: 100%|██████████| 352/352 [03:51<00:00,  1.52it/s, loss=0.462]\n",
      "Val Epoch 26/60: 100%|██████████| 40/40 [00:04<00:00,  8.34it/s]\n"
     ]
    },
    {
     "name": "stdout",
     "output_type": "stream",
     "text": [
      "Epoch 26 Validation Accuracy: 79.60%\n"
     ]
    },
    {
     "name": "stderr",
     "output_type": "stream",
     "text": [
      "Train Epoch 27/60: 100%|██████████| 352/352 [03:52<00:00,  1.52it/s, loss=0.392]\n",
      "Val Epoch 27/60: 100%|██████████| 40/40 [00:04<00:00,  8.31it/s]\n"
     ]
    },
    {
     "name": "stdout",
     "output_type": "stream",
     "text": [
      "Epoch 27 Validation Accuracy: 81.14%\n"
     ]
    },
    {
     "name": "stderr",
     "output_type": "stream",
     "text": [
      "Train Epoch 28/60: 100%|██████████| 352/352 [03:52<00:00,  1.52it/s, loss=0.386]\n",
      "Val Epoch 28/60: 100%|██████████| 40/40 [00:04<00:00,  8.32it/s]\n"
     ]
    },
    {
     "name": "stdout",
     "output_type": "stream",
     "text": [
      "Epoch 28 Validation Accuracy: 81.54%\n"
     ]
    },
    {
     "name": "stderr",
     "output_type": "stream",
     "text": [
      "Train Epoch 29/60: 100%|██████████| 352/352 [03:51<00:00,  1.52it/s, loss=0.341]\n",
      "Val Epoch 29/60: 100%|██████████| 40/40 [00:04<00:00,  8.33it/s]\n"
     ]
    },
    {
     "name": "stdout",
     "output_type": "stream",
     "text": [
      "Epoch 29 Validation Accuracy: 81.18%\n"
     ]
    },
    {
     "name": "stderr",
     "output_type": "stream",
     "text": [
      "Train Epoch 30/60: 100%|██████████| 352/352 [03:51<00:00,  1.52it/s, loss=0.524]\n",
      "Val Epoch 30/60: 100%|██████████| 40/40 [00:04<00:00,  8.34it/s]\n"
     ]
    },
    {
     "name": "stdout",
     "output_type": "stream",
     "text": [
      "Epoch 30 Validation Accuracy: 81.06%\n"
     ]
    },
    {
     "name": "stderr",
     "output_type": "stream",
     "text": [
      "Train Epoch 31/60: 100%|██████████| 352/352 [03:51<00:00,  1.52it/s, loss=0.389]\n",
      "Val Epoch 31/60: 100%|██████████| 40/40 [00:04<00:00,  8.30it/s]\n"
     ]
    },
    {
     "name": "stdout",
     "output_type": "stream",
     "text": [
      "Epoch 31 Validation Accuracy: 81.38%\n"
     ]
    },
    {
     "name": "stderr",
     "output_type": "stream",
     "text": [
      "Train Epoch 32/60: 100%|██████████| 352/352 [03:51<00:00,  1.52it/s, loss=0.528]\n",
      "Val Epoch 32/60: 100%|██████████| 40/40 [00:04<00:00,  8.32it/s]\n"
     ]
    },
    {
     "name": "stdout",
     "output_type": "stream",
     "text": [
      "Epoch 32 Validation Accuracy: 81.46%\n"
     ]
    },
    {
     "name": "stderr",
     "output_type": "stream",
     "text": [
      "Train Epoch 33/60: 100%|██████████| 352/352 [03:51<00:00,  1.52it/s, loss=0.481]\n",
      "Val Epoch 33/60: 100%|██████████| 40/40 [00:04<00:00,  8.26it/s]\n"
     ]
    },
    {
     "name": "stdout",
     "output_type": "stream",
     "text": [
      "Epoch 33 Validation Accuracy: 82.12%\n"
     ]
    },
    {
     "name": "stderr",
     "output_type": "stream",
     "text": [
      "Final Test: 100%|██████████| 79/79 [00:09<00:00,  8.41it/s]"
     ]
    },
    {
     "name": "stdout",
     "output_type": "stream",
     "text": [
      "Final Test Accuracy: 82.28%\n"
     ]
    },
    {
     "name": "stderr",
     "output_type": "stream",
     "text": [
      "\n"
     ]
    }
   ],
   "source": [
    "# ---------------------------------------------\n",
    "# Training Loop\n",
    "# ---------------------------------------------\n",
    "for ep in range(1, 33 + 1):\n",
    "    student.train()\n",
    "    loop = tqdm(train_loader, desc=f\"Train Epoch {ep}/{epochs}\")\n",
    "    for x, y in loop:\n",
    "        x, y = x.to(device), y.to(device)\n",
    "        with torch.no_grad():\n",
    "            tlog = teacher(pixel_values=x, interpolate_pos_encoding=True).logits\n",
    "        out = student(pixel_values=x, labels=y, teacher_logits=tlog,\n",
    "                      alpha=alpha, temperature=temp)\n",
    "        loss = out['loss'].mean()\n",
    "        opt.zero_grad()\n",
    "        loss.backward()\n",
    "        opt.step()\n",
    "        loop.set_postfix(loss=loss.item())\n",
    "\n",
    "    # Validation\n",
    "    student.eval()\n",
    "    correct, total = 0, 0\n",
    "    val_loop = tqdm(val_loader, desc=f\"Val Epoch {ep}/{epochs}\")\n",
    "    for xb, yb in val_loop:\n",
    "        xb, yb = xb.to(device), yb.to(device)\n",
    "        with torch.no_grad():\n",
    "            preds = student(pixel_values=xb)['logits'].argmax(1)\n",
    "        correct += (preds == yb).sum().item()\n",
    "        total += yb.size(0)\n",
    "    val_acc = 100 * correct / total\n",
    "    print(f\"Epoch {ep} Validation Accuracy: {val_acc:.2f}%\")\n",
    "\n",
    "# ---------------------------------------------\n",
    "# Final Test\n",
    "# ---------------------------------------------\n",
    "student.eval()\n",
    "test_ds = datasets.CIFAR10('./data', train=False, transform=val_tf)\n",
    "test_loader = DataLoader(test_ds, batch_size=batch_size, shuffle=False, num_workers=4)\n",
    "correct = 0\n",
    "for xb, yb in tqdm(test_loader, desc=\"Final Test\"):\n",
    "    xb, yb = xb.to(device), yb.to(device)\n",
    "    with torch.no_grad():\n",
    "        preds = student(pixel_values=xb)['logits'].argmax(1)\n",
    "    correct += (preds == yb).sum().item()\n",
    "\n",
    "student_acc = 100 * correct / len(test_ds)\n",
    "print(f\"Final Test Accuracy: {student_acc:.2f}%\")"
   ]
  }
 ],
 "metadata": {
  "kaggle": {
   "accelerator": "nvidiaTeslaT4",
   "dataSources": [
    {
     "isSourceIdPinned": true,
     "modelId": 323323,
     "modelInstanceId": 302810,
     "sourceId": 364999,
     "sourceType": "modelInstanceVersion"
    }
   ],
   "dockerImageVersionId": 31011,
   "isGpuEnabled": true,
   "isInternetEnabled": true,
   "language": "python",
   "sourceType": "notebook"
  },
  "kernelspec": {
   "display_name": "Python 3",
   "language": "python",
   "name": "python3"
  },
  "language_info": {
   "codemirror_mode": {
    "name": "ipython",
    "version": 3
   },
   "file_extension": ".py",
   "mimetype": "text/x-python",
   "name": "python",
   "nbconvert_exporter": "python",
   "pygments_lexer": "ipython3",
   "version": "3.11.11"
  }
 },
 "nbformat": 4,
 "nbformat_minor": 4
}
