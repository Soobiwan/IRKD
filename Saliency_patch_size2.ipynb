{
 "cells": [
  {
   "cell_type": "markdown",
   "metadata": {},
   "source": [
    "#  Vision Transformer Student with Saliency-Based Distillation and Cirriculum Learning\n",
    "\n"
   ]
  },
  {
   "cell_type": "code",
   "execution_count": 20,
   "metadata": {
    "execution": {
     "iopub.execute_input": "2025-05-06T10:31:06.750897Z",
     "iopub.status.busy": "2025-05-06T10:31:06.750138Z",
     "iopub.status.idle": "2025-05-06T14:03:27.887510Z",
     "shell.execute_reply": "2025-05-06T14:03:27.886230Z",
     "shell.execute_reply.started": "2025-05-06T10:31:06.750857Z"
    },
    "trusted": true
   },
   "outputs": [
    {
     "name": "stderr",
     "output_type": "stream",
     "text": [
      "/tmp/ipykernel_31/3652391111.py:163: FutureWarning: You are using `torch.load` with `weights_only=False` (the current default value), which uses the default pickle module implicitly. It is possible to construct malicious pickle data which will execute arbitrary code during unpickling (See https://github.com/pytorch/pytorch/blob/main/SECURITY.md#untrusted-models for more details). In a future release, the default value for `weights_only` will be flipped to `True`. This limits the functions that could be executed during unpickling. Arbitrary objects will no longer be allowed to be loaded via this mode unless they are explicitly allowlisted by the user via `torch.serialization.add_safe_globals`. We recommend you start setting `weights_only=True` for any use case where you don't have full control of the loaded file. Please open an issue on GitHub for any issues related to this experimental feature.\n",
      "  ckpt = torch.load(\n"
     ]
    },
    {
     "name": "stdout",
     "output_type": "stream",
     "text": [
      "Files already downloaded and verified\n",
      "\n",
      "--- Curriculum Stage: Crop 12px for 10 epochs ---\n"
     ]
    },
    {
     "data": {
      "application/vnd.jupyter.widget-view+json": {
       "model_id": "8d20be47bc81486f8da703c635a88891",
       "version_major": 2,
       "version_minor": 0
      },
      "text/plain": [
       "Stage 12px Ep1/10:   0%|          | 0/352 [00:00<?, ?it/s]"
      ]
     },
     "metadata": {},
     "output_type": "display_data"
    },
    {
     "data": {
      "image/png": "[encoded data removed]",
      "text/plain": [
       "<Figure size 800x800 with 4 Axes>"
      ]
     },
     "metadata": {},
     "output_type": "display_data"
    },
    {
     "name": "stdout",
     "output_type": "stream",
     "text": [
      "Stage 12px Ep1 avg saliency loss: 0.308206\n",
      "Stage 12px Ep1 val acc: 30.38%\n"
     ]
    },
    {
     "data": {
      "application/vnd.jupyter.widget-view+json": {
       "model_id": "fb823e75f8824dde84c7faa09ab5f484",
       "version_major": 2,
       "version_minor": 0
      },
      "text/plain": [
       "Stage 12px Ep2/10:   0%|          | 0/352 [00:00<?, ?it/s]"
      ]
     },
     "metadata": {},
     "output_type": "display_data"
    },
    {
     "name": "stdout",
     "output_type": "stream",
     "text": [
      "Stage 12px Ep2 avg saliency loss: 0.248032\n"
     ]
    },
    {
     "name": "stderr",
     "output_type": "stream",
     "text": [
      "Exception ignored in: <function _MultiProcessingDataLoaderIter.__del__ at 0x78306c4be340>\n",
      "Traceback (most recent call last):\n",
      "  File \"/usr/local/lib/python3.11/dist-packages/torch/utils/data/dataloader.py\", line 1604, in __del__\n",
      "    self._shutdown_workers()\n",
      "  File \"/usr/local/lib/python3.11/dist-packages/torch/utils/data/dataloader.py\", line 1587, in _shutdown_workers\n",
      "    if w.is_alive():\n",
      "       ^^^^^^^^^^^^\n",
      "  File \"/usr/lib/python3.11/multiprocessing/process.py\", line 160, in is_alive\n",
      "    assert self._parent_pid == os.getpid(), 'can only test a child process'\n",
      "           ^^^^^^^^^^^^^^^^^^^^^^^^^^^^^^^\n",
      "AssertionError: can only test a child process\n"
     ]
    },
    {
     "name": "stdout",
     "output_type": "stream",
     "text": [
      "Stage 12px Ep2 val acc: 36.46%\n"
     ]
    },
    {
     "data": {
      "application/vnd.jupyter.widget-view+json": {
       "model_id": "564ef70b614449aba748649c3a9f4dac",
       "version_major": 2,
       "version_minor": 0
      },
      "text/plain": [
       "Stage 12px Ep3/10:   0%|          | 0/352 [00:00<?, ?it/s]"
      ]
     },
     "metadata": {},
     "output_type": "display_data"
    },
    {
     "name": "stderr",
     "output_type": "stream",
     "text": [
      "Exception ignored in: Exception ignored in: <function _MultiProcessingDataLoaderIter.__del__ at 0x78306c4be340><function _MultiProcessingDataLoaderIter.__del__ at 0x78306c4be340>\n",
      "\n",
      "Traceback (most recent call last):\n",
      "Traceback (most recent call last):\n",
      "  File \"/usr/local/lib/python3.11/dist-packages/torch/utils/data/dataloader.py\", line 1604, in __del__\n",
      "  File \"/usr/local/lib/python3.11/dist-packages/torch/utils/data/dataloader.py\", line 1604, in __del__\n",
      "        self._shutdown_workers()self._shutdown_workers()\n",
      "\n",
      "  File \"/usr/local/lib/python3.11/dist-packages/torch/utils/data/dataloader.py\", line 1587, in _shutdown_workers\n",
      "  File \"/usr/local/lib/python3.11/dist-packages/torch/utils/data/dataloader.py\", line 1587, in _shutdown_workers\n",
      "        if w.is_alive():if w.is_alive():\n",
      "\n",
      "       Exception ignored in: <function _MultiProcessingDataLoaderIter.__del__ at 0x78306c4be340>  \n",
      " Traceback (most recent call last):\n",
      "    File \"/usr/local/lib/python3.11/dist-packages/torch/utils/data/dataloader.py\", line 1604, in __del__\n",
      " ^     ^^self._shutdown_workers()^^^\n",
      "^^  File \"/usr/local/lib/python3.11/dist-packages/torch/utils/data/dataloader.py\", line 1587, in _shutdown_workers\n",
      "^    ^^if w.is_alive():^^^\n",
      "^^ ^^^ ^^ ^\n",
      " ^  File \"/usr/lib/python3.11/multiprocessing/process.py\", line 160, in is_alive\n",
      " ^     \n",
      "assert self._parent_pid == os.getpid(), 'can only test a child process'   File \"/usr/lib/python3.11/multiprocessing/process.py\", line 160, in is_alive\n",
      "\n",
      "^     ^ assert self._parent_pid == os.getpid(), 'can only test a child process'^ \n",
      "^  ^  ^Exception ignored in:   ^<function _MultiProcessingDataLoaderIter.__del__ at 0x78306c4be340> \n",
      "^  ^Traceback (most recent call last):\n",
      "   File \"/usr/local/lib/python3.11/dist-packages/torch/utils/data/dataloader.py\", line 1604, in __del__\n",
      "     ^  ^ self._shutdown_workers()   ^Exception ignored in: \n",
      "^ <function _MultiProcessingDataLoaderIter.__del__ at 0x78306c4be340>  File \"/usr/local/lib/python3.11/dist-packages/torch/utils/data/dataloader.py\", line 1587, in _shutdown_workers\n",
      "\n",
      " ^\n",
      "  File \"/usr/lib/python3.11/multiprocessing/process.py\", line 160, in is_alive\n",
      "    ^^Traceback (most recent call last):\n",
      "if w.is_alive():      File \"/usr/local/lib/python3.11/dist-packages/torch/utils/data/dataloader.py\", line 1604, in __del__\n",
      "^^\n",
      "    assert self._parent_pid == os.getpid(), 'can only test a child process'^ ^self._shutdown_workers()^\n",
      "^ \n",
      "^ ^    File \"/usr/local/lib/python3.11/dist-packages/torch/utils/data/dataloader.py\", line 1587, in _shutdown_workers\n",
      "^^ ^ ^      if w.is_alive():^ ^\n",
      " ^^   ^^ ^ ^^^  ^^ ^ ^^^ ^ ^ ^ ^^^^^^^ ^^^^^^^^^^^^^^^^^^^^^^^^^^^^^^^^^\n",
      "^^^^^  File \"/usr/lib/python3.11/multiprocessing/process.py\", line 160, in is_alive\n",
      "^^^    ^^^^^^assert self._parent_pid == os.getpid(), 'can only test a child process'\n",
      "^^^\n",
      "  File \"/usr/lib/python3.11/multiprocessing/process.py\", line 160, in is_alive\n",
      "^^    ^ ^\n",
      "^assert self._parent_pid == os.getpid(), 'can only test a child process'^AssertionError^ ^\n",
      "^:   ^^can only test a child process \n",
      " ^\n",
      " AssertionError ^: ^  can only test a child process^  \n",
      "^  ^  ^ ^  ^ ^^  ^^^^^^^^^^^\n",
      "^^AssertionError^^: ^^can only test a child process^\n",
      "^^^^^^^^^^^^^^^^^^^^^^^^^^^^^^^^^^^^^^^^^^^^\n",
      "^^^AssertionError: can only test a child process\n",
      "\n",
      "AssertionError: can only test a child process\n"
     ]
    },
    {
     "name": "stdout",
     "output_type": "stream",
     "text": [
      "Stage 12px Ep3 avg saliency loss: 0.230948\n",
      "Stage 12px Ep3 val acc: 36.48%\n"
     ]
    },
    {
     "data": {
      "application/vnd.jupyter.widget-view+json": {
       "model_id": "8e3a90d8ab344683b6fb64a8affdc341",
       "version_major": 2,
       "version_minor": 0
      },
      "text/plain": [
       "Stage 12px Ep4/10:   0%|          | 0/352 [00:00<?, ?it/s]"
      ]
     },
     "metadata": {},
     "output_type": "display_data"
    },
    {
     "name": "stdout",
     "output_type": "stream",
     "text": [
      "Stage 12px Ep4 avg saliency loss: 0.219602\n",
      "Stage 12px Ep4 val acc: 39.28%\n"
     ]
    },
    {
     "data": {
      "application/vnd.jupyter.widget-view+json": {
       "model_id": "3a36f6e628de4e27b981ee5646431eca",
       "version_major": 2,
       "version_minor": 0
      },
      "text/plain": [
       "Stage 12px Ep5/10:   0%|          | 0/352 [00:00<?, ?it/s]"
      ]
     },
     "metadata": {},
     "output_type": "display_data"
    },
    {
     "name": "stdout",
     "output_type": "stream",
     "text": [
      "Stage 12px Ep5 avg saliency loss: 0.213377\n"
     ]
    },
    {
     "name": "stderr",
     "output_type": "stream",
     "text": [
      "Exception ignored in: <function _MultiProcessingDataLoaderIter.__del__ at 0x78306c4be340>\n",
      "Traceback (most recent call last):\n",
      "  File \"/usr/local/lib/python3.11/dist-packages/torch/utils/data/dataloader.py\", line 1604, in __del__\n",
      "    self._shutdown_workers()\n",
      "  File \"/usr/local/lib/python3.11/dist-packages/torch/utils/data/dataloader.py\", line 1587, in _shutdown_workers\n",
      "    if w.is_alive():\n",
      "       ^^^^^^^^^^^^\n",
      "  File \"/usr/lib/python3.11/multiprocessing/process.py\", line 160, in is_alive\n",
      "    assert self._parent_pid == os.getpid(), 'can only test a child process'\n",
      "           ^^^^^^^^^^^^^^^^^^^^^^^^^^^^^^^\n",
      "AssertionError: can only test a child process\n"
     ]
    },
    {
     "name": "stdout",
     "output_type": "stream",
     "text": [
      "Stage 12px Ep5 val acc: 41.24%\n"
     ]
    },
    {
     "data": {
      "application/vnd.jupyter.widget-view+json": {
       "model_id": "8287130947e34e8483f250a5069afbc6",
       "version_major": 2,
       "version_minor": 0
      },
      "text/plain": [
       "Stage 12px Ep6/10:   0%|          | 0/352 [00:00<?, ?it/s]"
      ]
     },
     "metadata": {},
     "output_type": "display_data"
    },
    {
     "name": "stderr",
     "output_type": "stream",
     "text": [
      "Exception ignored in: <function _MultiProcessingDataLoaderIter.__del__ at 0x78306c4be340>\n",
      "Exception ignored in: Traceback (most recent call last):\n",
      "<function _MultiProcessingDataLoaderIter.__del__ at 0x78306c4be340>Exception ignored in:   File \"/usr/local/lib/python3.11/dist-packages/torch/utils/data/dataloader.py\", line 1604, in __del__\n",
      "\n",
      "<function _MultiProcessingDataLoaderIter.__del__ at 0x78306c4be340>Traceback (most recent call last):\n",
      "\n",
      "Exception ignored in:     Traceback (most recent call last):\n",
      "  File \"/usr/local/lib/python3.11/dist-packages/torch/utils/data/dataloader.py\", line 1604, in __del__\n",
      "<function _MultiProcessingDataLoaderIter.__del__ at 0x78306c4be340>self._shutdown_workers()\n",
      "  File \"/usr/local/lib/python3.11/dist-packages/torch/utils/data/dataloader.py\", line 1604, in __del__\n",
      "  File \"/usr/local/lib/python3.11/dist-packages/torch/utils/data/dataloader.py\", line 1587, in _shutdown_workers\n",
      "self._shutdown_workers()    \n",
      "Traceback (most recent call last):\n",
      "    \n",
      "      File \"/usr/local/lib/python3.11/dist-packages/torch/utils/data/dataloader.py\", line 1604, in __del__\n",
      "self._shutdown_workers()  File \"/usr/local/lib/python3.11/dist-packages/torch/utils/data/dataloader.py\", line 1587, in _shutdown_workers\n",
      "if w.is_alive():        \n",
      "\n",
      "if w.is_alive(): \n",
      "  File \"/usr/local/lib/python3.11/dist-packages/torch/utils/data/dataloader.py\", line 1587, in _shutdown_workers\n",
      "self._shutdown_workers()        if w.is_alive():\n",
      " \n",
      "   File \"/usr/local/lib/python3.11/dist-packages/torch/utils/data/dataloader.py\", line 1587, in _shutdown_workers\n",
      "            ^if w.is_alive():  ^^^\n",
      " ^^ ^   ^^ ^^ ^^ ^^ ^^^^^ ^^^^ ^^^^^^\n",
      "^^^^^  File \"/usr/lib/python3.11/multiprocessing/process.py\", line 160, in is_alive\n",
      "\n",
      "    ^^  File \"/usr/lib/python3.11/multiprocessing/process.py\", line 160, in is_alive\n",
      "assert self._parent_pid == os.getpid(), 'can only test a child process'^^    \n",
      "^assert self._parent_pid == os.getpid(), 'can only test a child process' ^\n",
      "\n",
      "   File \"/usr/lib/python3.11/multiprocessing/process.py\", line 160, in is_alive\n",
      "^     ^  ^assert self._parent_pid == os.getpid(), 'can only test a child process'  ^\n",
      "   ^   ^   ^  \n",
      "      File \"/usr/lib/python3.11/multiprocessing/process.py\", line 160, in is_alive\n",
      "           ^ assert self._parent_pid == os.getpid(), 'can only test a child process' ^\n",
      "^  ^ ^ ^^  ^  ^^ ^^ ^ ^^  ^^^^^^^^^^^^^^^^^^^^^^^^^^^^^^^^^^^^^^^^^^^^^^^^^^^^^^^^^^^^^^^^^^^^^^^^^^^^^^^^^^^^^\n",
      "^^^^: ^AssertionError^^^can only test a child process^^^^^^^^^^^\n",
      "^^\n",
      "^^AssertionError: \n",
      "^\n",
      "can only test a child processAssertionError: \n",
      "can only test a child processAssertionError\n",
      ": can only test a child process\n"
     ]
    },
    {
     "name": "stdout",
     "output_type": "stream",
     "text": [
      "Stage 12px Ep6 avg saliency loss: 0.206966\n",
      "Stage 12px Ep6 val acc: 41.20%\n"
     ]
    },
    {
     "data": {
      "application/vnd.jupyter.widget-view+json": {
       "model_id": "dfca21b211674196a060f7ac16480ebc",
       "version_major": 2,
       "version_minor": 0
      },
      "text/plain": [
       "Stage 12px Ep7/10:   0%|          | 0/352 [00:00<?, ?it/s]"
      ]
     },
     "metadata": {},
     "output_type": "display_data"
    },
    {
     "name": "stdout",
     "output_type": "stream",
     "text": [
      "Stage 12px Ep7 avg saliency loss: 0.202430\n",
      "Stage 12px Ep7 val acc: 42.74%\n"
     ]
    },
    {
     "data": {
      "application/vnd.jupyter.widget-view+json": {
       "model_id": "deec673e857144bebc180afe18ec5e87",
       "version_major": 2,
       "version_minor": 0
      },
      "text/plain": [
       "Stage 12px Ep8/10:   0%|          | 0/352 [00:00<?, ?it/s]"
      ]
     },
     "metadata": {},
     "output_type": "display_data"
    },
    {
     "name": "stdout",
     "output_type": "stream",
     "text": [
      "Stage 12px Ep8 avg saliency loss: 0.198579\n",
      "Stage 12px Ep8 val acc: 44.64%\n"
     ]
    },
    {
     "data": {
      "application/vnd.jupyter.widget-view+json": {
       "model_id": "6974e627b49a4bf98faec093663fdc48",
       "version_major": 2,
       "version_minor": 0
      },
      "text/plain": [
       "Stage 12px Ep9/10:   0%|          | 0/352 [00:00<?, ?it/s]"
      ]
     },
     "metadata": {},
     "output_type": "display_data"
    },
    {
     "name": "stderr",
     "output_type": "stream",
     "text": [
      "Exception ignored in: <function _MultiProcessingDataLoaderIter.__del__ at 0x78306c4be340>\n",
      "Traceback (most recent call last):\n",
      "  File \"/usr/local/lib/python3.11/dist-packages/torch/utils/data/dataloader.py\", line 1604, in __del__\n",
      "    self._shutdown_workers()\n",
      "  File \"/usr/local/lib/python3.11/dist-packages/torch/utils/data/dataloader.py\", line 1587, in _shutdown_workers\n",
      "    if w.is_alive():\n",
      "       ^^^^^^^^^^^^\n",
      "  File \"/usr/lib/python3.11/multiprocessing/process.py\", line 160, in is_alive\n",
      "    assert self._parent_pid == os.getpid(), 'can only test a child process'\n",
      "           ^^^^^^^^^^^^^^^^^^^^^^^^^^^^^^^\n",
      "AssertionError: can only test a child process\n",
      "Exception ignored in: <function _MultiProcessingDataLoaderIter.__del__ at 0x78306c4be340>\n",
      "Traceback (most recent call last):\n",
      "  File \"/usr/local/lib/python3.11/dist-packages/torch/utils/data/dataloader.py\", line 1604, in __del__\n",
      "    self._shutdown_workers()\n",
      "  File \"/usr/local/lib/python3.11/dist-packages/torch/utils/data/dataloader.py\", line 1587, in _shutdown_workers\n",
      "    if w.is_alive():\n",
      "       ^^^^^^^^^^^^\n",
      "  File \"/usr/lib/python3.11/multiprocessing/process.py\", line 160, in is_alive\n",
      "    assert self._parent_pid == os.getpid(), 'can only test a child process'\n",
      "           ^^^^^^^^^^^^^^^^^^^^^^^^^^^^^^^\n",
      "AssertionError: can only test a child process\n",
      "Exception ignored in: <function _MultiProcessingDataLoaderIter.__del__ at 0x78306c4be340>\n",
      "Traceback (most recent call last):\n",
      "  File \"/usr/local/lib/python3.11/dist-packages/torch/utils/data/dataloader.py\", line 1604, in __del__\n",
      "    self._shutdown_workers()\n",
      "  File \"/usr/local/lib/python3.11/dist-packages/torch/utils/data/dataloader.py\", line 1587, in _shutdown_workers\n",
      "    if w.is_alive():\n",
      "       ^^^^^^^^^^^^\n",
      "  File \"/usr/lib/python3.11/multiprocessing/process.py\", line 160, in is_alive\n",
      "    assert self._parent_pid == os.getpid(), 'can only test a child process'\n",
      "           ^^^^^^^^^^^^^^^^^^^^^^^^^^^^^^^\n",
      "AssertionError: can only test a child process\n"
     ]
    },
    {
     "name": "stdout",
     "output_type": "stream",
     "text": [
      "Stage 12px Ep9 avg saliency loss: 0.194754\n",
      "Stage 12px Ep9 val acc: 44.00%\n"
     ]
    },
    {
     "data": {
      "application/vnd.jupyter.widget-view+json": {
       "model_id": "c6cdf838b7574ac3b3f62437d4adf342",
       "version_major": 2,
       "version_minor": 0
      },
      "text/plain": [
       "Stage 12px Ep10/10:   0%|          | 0/352 [00:00<?, ?it/s]"
      ]
     },
     "metadata": {},
     "output_type": "display_data"
    },
    {
     "data": {
      "image/png": "[encoded data removed]",
      "text/plain": [
       "<Figure size 800x800 with 4 Axes>"
      ]
     },
     "metadata": {},
     "output_type": "display_data"
    },
    {
     "name": "stdout",
     "output_type": "stream",
     "text": [
      "Stage 12px Ep10 avg saliency loss: 0.190944\n",
      "Stage 12px Ep10 val acc: 43.30%\n",
      "\n",
      "--- Curriculum Stage: Crop 16px for 10 epochs ---\n"
     ]
    },
    {
     "data": {
      "application/vnd.jupyter.widget-view+json": {
       "model_id": "4f615b091696423aa1aff07c531aff8c",
       "version_major": 2,
       "version_minor": 0
      },
      "text/plain": [
       "Stage 16px Ep1/10:   0%|          | 0/352 [00:00<?, ?it/s]"
      ]
     },
     "metadata": {},
     "output_type": "display_data"
    },
    {
     "data": {
      "image/png": "[encoded data removed]",
      "text/plain": [
       "<Figure size 800x800 with 4 Axes>"
      ]
     },
     "metadata": {},
     "output_type": "display_data"
    },
    {
     "name": "stdout",
     "output_type": "stream",
     "text": [
      "Stage 16px Ep1 avg saliency loss: 0.185870\n",
      "Stage 16px Ep1 val acc: 53.24%\n"
     ]
    },
    {
     "data": {
      "application/vnd.jupyter.widget-view+json": {
       "model_id": "e9771918aa7642f09ffc693d90e8078e",
       "version_major": 2,
       "version_minor": 0
      },
      "text/plain": [
       "Stage 16px Ep2/10:   0%|          | 0/352 [00:00<?, ?it/s]"
      ]
     },
     "metadata": {},
     "output_type": "display_data"
    },
    {
     "name": "stdout",
     "output_type": "stream",
     "text": [
      "Stage 16px Ep2 avg saliency loss: 0.170314\n",
      "Stage 16px Ep2 val acc: 56.20%\n"
     ]
    },
    {
     "data": {
      "application/vnd.jupyter.widget-view+json": {
       "model_id": "97e4304a8839461fb9f242dcb3af78ff",
       "version_major": 2,
       "version_minor": 0
      },
      "text/plain": [
       "Stage 16px Ep3/10:   0%|          | 0/352 [00:00<?, ?it/s]"
      ]
     },
     "metadata": {},
     "output_type": "display_data"
    },
    {
     "name": "stdout",
     "output_type": "stream",
     "text": [
      "Stage 16px Ep3 avg saliency loss: 0.167453\n"
     ]
    },
    {
     "name": "stderr",
     "output_type": "stream",
     "text": [
      "Exception ignored in: Exception ignored in: Exception ignored in: <function _MultiProcessingDataLoaderIter.__del__ at 0x78306c4be340><function _MultiProcessingDataLoaderIter.__del__ at 0x78306c4be340>\n",
      "\n",
      "Traceback (most recent call last):\n",
      "<function _MultiProcessingDataLoaderIter.__del__ at 0x78306c4be340>Traceback (most recent call last):\n",
      "\n",
      "  File \"/usr/local/lib/python3.11/dist-packages/torch/utils/data/dataloader.py\", line 1604, in __del__\n",
      "  File \"/usr/local/lib/python3.11/dist-packages/torch/utils/data/dataloader.py\", line 1604, in __del__\n",
      "Traceback (most recent call last):\n",
      "      File \"/usr/local/lib/python3.11/dist-packages/torch/utils/data/dataloader.py\", line 1604, in __del__\n",
      "self._shutdown_workers()        \n",
      "self._shutdown_workers()  File \"/usr/local/lib/python3.11/dist-packages/torch/utils/data/dataloader.py\", line 1587, in _shutdown_workers\n",
      "self._shutdown_workers()\n",
      "\n",
      "  File \"/usr/local/lib/python3.11/dist-packages/torch/utils/data/dataloader.py\", line 1587, in _shutdown_workers\n",
      "    if w.is_alive():  File \"/usr/local/lib/python3.11/dist-packages/torch/utils/data/dataloader.py\", line 1587, in _shutdown_workers\n",
      "    if w.is_alive():    \n",
      "\n",
      " if w.is_alive():  \n",
      "    Exception ignored in:  <function _MultiProcessingDataLoaderIter.__del__ at 0x78306c4be340>    \n",
      "    Traceback (most recent call last):\n",
      "    File \"/usr/local/lib/python3.11/dist-packages/torch/utils/data/dataloader.py\", line 1604, in __del__\n",
      "^ ^     ^ ^^^self._shutdown_workers()^^^\n",
      "^^  File \"/usr/local/lib/python3.11/dist-packages/torch/utils/data/dataloader.py\", line 1587, in _shutdown_workers\n",
      "^^^    ^^^if w.is_alive():^\n",
      "^^^ ^^ ^^^^ ^^ ^^^ ^^\n",
      "^\n",
      "   File \"/usr/lib/python3.11/multiprocessing/process.py\", line 160, in is_alive\n",
      "^  File \"/usr/lib/python3.11/multiprocessing/process.py\", line 160, in is_alive\n",
      "     \n",
      "      File \"/usr/lib/python3.11/multiprocessing/process.py\", line 160, in is_alive\n",
      "^assert self._parent_pid == os.getpid(), 'can only test a child process'assert self._parent_pid == os.getpid(), 'can only test a child process'^    \n",
      "^\n",
      "assert self._parent_pid == os.getpid(), 'can only test a child process'^   \n",
      " ^  ^   ^   ^   ^  ^   ^  ^    \n",
      "      File \"/usr/lib/python3.11/multiprocessing/process.py\", line 160, in is_alive\n",
      "       ^assert self._parent_pid == os.getpid(), 'can only test a child process'^^\n",
      "^^^^^ ^ ^^^^^ ^^^ ^^^ ^^^ ^^ ^^^^ ^^^^  ^^^^^^ ^^^^^^^^^^^^^^^^^^^^^^^^^^^^^^^^^^^^^^^^^^^^^^^^^^^^^^^^^^^^^^^^^^\n",
      "^AssertionError^\n",
      "AssertionError^^: ^^can only test a child process: ^\n",
      "\n",
      "can only test a child process^AssertionError\n",
      ": ^can only test a child process^\n",
      "^^^^^^^^^\n",
      "AssertionError: can only test a child process\n"
     ]
    },
    {
     "name": "stdout",
     "output_type": "stream",
     "text": [
      "Stage 16px Ep3 val acc: 56.20%\n"
     ]
    },
    {
     "data": {
      "application/vnd.jupyter.widget-view+json": {
       "model_id": "668c62b2659f466e89a5967397870023",
       "version_major": 2,
       "version_minor": 0
      },
      "text/plain": [
       "Stage 16px Ep4/10:   0%|          | 0/352 [00:00<?, ?it/s]"
      ]
     },
     "metadata": {},
     "output_type": "display_data"
    },
    {
     "name": "stderr",
     "output_type": "stream",
     "text": [
      "Exception ignored in: Exception ignored in: <function _MultiProcessingDataLoaderIter.__del__ at 0x78306c4be340>Exception ignored in: <function _MultiProcessingDataLoaderIter.__del__ at 0x78306c4be340><function _MultiProcessingDataLoaderIter.__del__ at 0x78306c4be340>Exception ignored in: Exception ignored in: Exception ignored in: <function _MultiProcessingDataLoaderIter.__del__ at 0x78306c4be340>Exception ignored in: \n",
      "\n",
      "\n",
      "<function _MultiProcessingDataLoaderIter.__del__ at 0x78306c4be340>Traceback (most recent call last):\n",
      "<function _MultiProcessingDataLoaderIter.__del__ at 0x78306c4be340>Traceback (most recent call last):\n",
      "  File \"/usr/local/lib/python3.11/dist-packages/torch/utils/data/dataloader.py\", line 1604, in __del__\n",
      "Traceback (most recent call last):\n",
      "\n",
      "\n",
      "<function _MultiProcessingDataLoaderIter.__del__ at 0x78306c4be340>  File \"/usr/local/lib/python3.11/dist-packages/torch/utils/data/dataloader.py\", line 1604, in __del__\n",
      "\n",
      "Traceback (most recent call last):\n",
      "  File \"/usr/local/lib/python3.11/dist-packages/torch/utils/data/dataloader.py\", line 1604, in __del__\n",
      "\n",
      "Traceback (most recent call last):\n",
      "        Traceback (most recent call last):\n",
      "  File \"/usr/local/lib/python3.11/dist-packages/torch/utils/data/dataloader.py\", line 1604, in __del__\n",
      "    Traceback (most recent call last):\n",
      "  File \"/usr/local/lib/python3.11/dist-packages/torch/utils/data/dataloader.py\", line 1604, in __del__\n",
      "  File \"/usr/local/lib/python3.11/dist-packages/torch/utils/data/dataloader.py\", line 1604, in __del__\n",
      "  File \"/usr/local/lib/python3.11/dist-packages/torch/utils/data/dataloader.py\", line 1604, in __del__\n",
      "self._shutdown_workers()self._shutdown_workers()self._shutdown_workers()    Exception ignored in: \n",
      "            \n",
      "  File \"/usr/local/lib/python3.11/dist-packages/torch/utils/data/dataloader.py\", line 1587, in _shutdown_workers\n",
      "self._shutdown_workers()\n",
      "self._shutdown_workers()self._shutdown_workers()  File \"/usr/local/lib/python3.11/dist-packages/torch/utils/data/dataloader.py\", line 1587, in _shutdown_workers\n",
      "self._shutdown_workers()    \n",
      "  File \"/usr/local/lib/python3.11/dist-packages/torch/utils/data/dataloader.py\", line 1587, in _shutdown_workers\n",
      "  File \"/usr/local/lib/python3.11/dist-packages/torch/utils/data/dataloader.py\", line 1587, in _shutdown_workers\n",
      "    \n",
      "    if w.is_alive():\n",
      "\n",
      "if w.is_alive():  File \"/usr/local/lib/python3.11/dist-packages/torch/utils/data/dataloader.py\", line 1587, in _shutdown_workers\n",
      "<function _MultiProcessingDataLoaderIter.__del__ at 0x78306c4be340>\n",
      "\n",
      "      File \"/usr/local/lib/python3.11/dist-packages/torch/utils/data/dataloader.py\", line 1587, in _shutdown_workers\n",
      "if w.is_alive():        File \"/usr/local/lib/python3.11/dist-packages/torch/utils/data/dataloader.py\", line 1587, in _shutdown_workers\n",
      "\n",
      "if w.is_alive():      \n",
      "if w.is_alive():if w.is_alive():    \n",
      "   Traceback (most recent call last):\n",
      "\n",
      "\n",
      " if w.is_alive():      File \"/usr/local/lib/python3.11/dist-packages/torch/utils/data/dataloader.py\", line 1604, in __del__\n",
      "   \n",
      "               self._shutdown_workers()  \n",
      "     ^    File \"/usr/local/lib/python3.11/dist-packages/torch/utils/data/dataloader.py\", line 1587, in _shutdown_workers\n",
      "         ^   ^if w.is_alive():^ ^  ^^ \n",
      " ^^ ^^^ ^^^^^^^ ^ ^^^^^^^^^ ^^^^^ ^^^^^ ^^^^^^^^ ^^^^^^^^^^^^^^^^^^^^^^^^^^^^^^^\n",
      "^^^^\n",
      "^\n",
      "  File \"/usr/lib/python3.11/multiprocessing/process.py\", line 160, in is_alive\n",
      "^  File \"/usr/lib/python3.11/multiprocessing/process.py\", line 160, in is_alive\n",
      "^^^^^  File \"/usr/lib/python3.11/multiprocessing/process.py\", line 160, in is_alive\n",
      "    \n",
      "^assert self._parent_pid == os.getpid(), 'can only test a child process'    \n",
      "\n",
      "    \n",
      "  File \"/usr/lib/python3.11/multiprocessing/process.py\", line 160, in is_alive\n",
      "\n",
      "  File \"/usr/lib/python3.11/multiprocessing/process.py\", line 160, in is_alive\n",
      "  File \"/usr/lib/python3.11/multiprocessing/process.py\", line 160, in is_alive\n",
      "assert self._parent_pid == os.getpid(), 'can only test a child process'^  File \"/usr/lib/python3.11/multiprocessing/process.py\", line 160, in is_alive\n",
      "assert self._parent_pid == os.getpid(), 'can only test a child process'     \n",
      "    ^         \n",
      " assert self._parent_pid == os.getpid(), 'can only test a child process'assert self._parent_pid == os.getpid(), 'can only test a child process'assert self._parent_pid == os.getpid(), 'can only test a child process'\n",
      "^assert self._parent_pid == os.getpid(), 'can only test a child process' \n",
      "   \n",
      "\n",
      "  ^         ^         ^    \n",
      "            File \"/usr/lib/python3.11/multiprocessing/process.py\", line 160, in is_alive\n",
      "               assert self._parent_pid == os.getpid(), 'can only test a child process'      ^  \n",
      " ^      ^   ^   ^   ^   ^  ^^^^^^ ^^^^^ ^^^^^^^^^^ ^^^^^^^ ^^^ ^^^^^^ ^^^^ ^^^^^^^^^^^^^^^^^^^^^^^^^^^^^^^^^^^^^^^^^^^^^^^^^^^^^^^^^^^^^^^^^^^^^^^^^^^^^^^^^^^^^^^^^^^^^^^^^^^^^^^^^^^^^^^^^^^^^^^^^^^^^^^^^^^^^^^^^^^^^^^^^^^^^^^^^^^^^^^^^^^^^^^^^^^^\n",
      "^\n",
      "\n",
      "^^^^^^AssertionError^AssertionErrorAssertionError^: : ^^\n",
      ": ^AssertionError^^can only test a child processcan only test a child processcan only test a child process^^^: \n",
      "\n",
      "^\n",
      "^\n",
      "^can only test a child process\n",
      "AssertionError^^\n",
      ": AssertionError^\n",
      "^can only test a child process: AssertionError^: \n",
      "^can only test a child processcan only test a child process\n",
      "^\n",
      "^\n",
      "AssertionError: can only test a child process\n"
     ]
    },
    {
     "name": "stdout",
     "output_type": "stream",
     "text": [
      "Stage 16px Ep4 avg saliency loss: 0.165038\n",
      "Stage 16px Ep4 val acc: 58.16%\n"
     ]
    },
    {
     "data": {
      "application/vnd.jupyter.widget-view+json": {
       "model_id": "78acfc31f56d460cb38e9d7c7290a923",
       "version_major": 2,
       "version_minor": 0
      },
      "text/plain": [
       "Stage 16px Ep5/10:   0%|          | 0/352 [00:00<?, ?it/s]"
      ]
     },
     "metadata": {},
     "output_type": "display_data"
    },
    {
     "name": "stdout",
     "output_type": "stream",
     "text": [
      "Stage 16px Ep5 avg saliency loss: 0.163296\n",
      "Stage 16px Ep5 val acc: 58.70%\n"
     ]
    },
    {
     "data": {
      "application/vnd.jupyter.widget-view+json": {
       "model_id": "546d9f9b49c54c11bd371f7be18ec991",
       "version_major": 2,
       "version_minor": 0
      },
      "text/plain": [
       "Stage 16px Ep6/10:   0%|          | 0/352 [00:00<?, ?it/s]"
      ]
     },
     "metadata": {},
     "output_type": "display_data"
    },
    {
     "name": "stdout",
     "output_type": "stream",
     "text": [
      "Stage 16px Ep6 avg saliency loss: 0.162489\n",
      "Stage 16px Ep6 val acc: 59.44%\n"
     ]
    },
    {
     "data": {
      "application/vnd.jupyter.widget-view+json": {
       "model_id": "eb13b728cb3a4e5883648f093fb67037",
       "version_major": 2,
       "version_minor": 0
      },
      "text/plain": [
       "Stage 16px Ep7/10:   0%|          | 0/352 [00:00<?, ?it/s]"
      ]
     },
     "metadata": {},
     "output_type": "display_data"
    },
    {
     "name": "stderr",
     "output_type": "stream",
     "text": [
      "Exception ignored in: <function _MultiProcessingDataLoaderIter.__del__ at 0x78306c4be340>\n",
      "Traceback (most recent call last):\n",
      "  File \"/usr/local/lib/python3.11/dist-packages/torch/utils/data/dataloader.py\", line 1604, in __del__\n",
      "    self._shutdown_workers()\n",
      "  File \"/usr/local/lib/python3.11/dist-packages/torch/utils/data/dataloader.py\", line 1587, in _shutdown_workers\n",
      "    if w.is_alive():\n",
      "       ^^^^^^^^^^Exception ignored in: ^<function _MultiProcessingDataLoaderIter.__del__ at 0x78306c4be340>^\n",
      "\n",
      "  File \"/usr/lib/python3.11/multiprocessing/process.py\", line 160, in is_alive\n",
      "Traceback (most recent call last):\n",
      "  File \"/usr/local/lib/python3.11/dist-packages/torch/utils/data/dataloader.py\", line 1604, in __del__\n",
      "        assert self._parent_pid == os.getpid(), 'can only test a child process'self._shutdown_workers()\n",
      " \n",
      "   File \"/usr/local/lib/python3.11/dist-packages/torch/utils/data/dataloader.py\", line 1587, in _shutdown_workers\n",
      "     if w.is_alive():  \n",
      "             ^^^^^^^^^^^^^^^^^^^^^^^\n",
      "^  File \"/usr/lib/python3.11/multiprocessing/process.py\", line 160, in is_alive\n",
      "^    ^^assert self._parent_pid == os.getpid(), 'can only test a child process'^\n",
      " ^ ^^  ^ ^ ^^ ^ ^  ^ ^^^^^^^^^^^\n",
      "^AssertionError^^: ^can only test a child process^\n",
      "^^^^^^^^^^^^^^^^^^^^\n",
      "AssertionError: can only test a child process\n",
      "Exception ignored in: <function _MultiProcessingDataLoaderIter.__del__ at 0x78306c4be340>\n",
      "Traceback (most recent call last):\n",
      "  File \"/usr/local/lib/python3.11/dist-packages/torch/utils/data/dataloader.py\", line 1604, in __del__\n",
      "    self._shutdown_workers()\n",
      "  File \"/usr/local/lib/python3.11/dist-packages/torch/utils/data/dataloader.py\", line 1587, in _shutdown_workers\n",
      "    if w.is_alive():\n",
      "       ^^^^^^^^^^^^\n",
      "  File \"/usr/lib/python3.11/multiprocessing/process.py\", line 160, in is_alive\n",
      "    assert self._parent_pid == os.getpid(), 'can only test a child process'\n",
      "           ^^^^^^^^^^^^^^^^^^^^^^^^^^^^^^^\n",
      "AssertionError: can only test a child process\n",
      "Exception ignored in: <function _MultiProcessingDataLoaderIter.__del__ at 0x78306c4be340>\n",
      "Traceback (most recent call last):\n",
      "  File \"/usr/local/lib/python3.11/dist-packages/torch/utils/data/dataloader.py\", line 1604, in __del__\n",
      "    self._shutdown_workers()\n",
      "  File \"/usr/local/lib/python3.11/dist-packages/torch/utils/data/dataloader.py\", line 1587, in _shutdown_workers\n",
      "    if w.is_alive():\n",
      "       ^^^^^^^^^^^^\n",
      "  File \"/usr/lib/python3.11/multiprocessing/process.py\", line 160, in is_alive\n",
      "    assert self._parent_pid == os.getpid(), 'can only test a child process'\n",
      "           ^^^^^^^^^^^^^^^^^^^^^^^^^^^^^^^\n",
      "AssertionError: can only test a child process\n"
     ]
    },
    {
     "name": "stdout",
     "output_type": "stream",
     "text": [
      "Stage 16px Ep7 avg saliency loss: 0.160933\n",
      "Stage 16px Ep7 val acc: 60.58%\n"
     ]
    },
    {
     "data": {
      "application/vnd.jupyter.widget-view+json": {
       "model_id": "b77221354df44e65b094f24cf26ce4c1",
       "version_major": 2,
       "version_minor": 0
      },
      "text/plain": [
       "Stage 16px Ep8/10:   0%|          | 0/352 [00:00<?, ?it/s]"
      ]
     },
     "metadata": {},
     "output_type": "display_data"
    },
    {
     "name": "stdout",
     "output_type": "stream",
     "text": [
      "Stage 16px Ep8 avg saliency loss: 0.160024\n",
      "Stage 16px Ep8 val acc: 61.02%\n"
     ]
    },
    {
     "data": {
      "application/vnd.jupyter.widget-view+json": {
       "model_id": "505e3df14418467d9f97cb94e0f9e5b8",
       "version_major": 2,
       "version_minor": 0
      },
      "text/plain": [
       "Stage 16px Ep9/10:   0%|          | 0/352 [00:00<?, ?it/s]"
      ]
     },
     "metadata": {},
     "output_type": "display_data"
    },
    {
     "name": "stdout",
     "output_type": "stream",
     "text": [
      "Stage 16px Ep9 avg saliency loss: 0.158728\n",
      "Stage 16px Ep9 val acc: 59.74%\n"
     ]
    },
    {
     "data": {
      "application/vnd.jupyter.widget-view+json": {
       "model_id": "351cc8faded74d35978ebf2b89323f27",
       "version_major": 2,
       "version_minor": 0
      },
      "text/plain": [
       "Stage 16px Ep10/10:   0%|          | 0/352 [00:00<?, ?it/s]"
      ]
     },
     "metadata": {},
     "output_type": "display_data"
    },
    {
     "name": "stderr",
     "output_type": "stream",
     "text": [
      "Exception ignored in: <function _MultiProcessingDataLoaderIter.__del__ at 0x78306c4be340>\n",
      "Exception ignored in: Traceback (most recent call last):\n",
      "Exception ignored in: <function _MultiProcessingDataLoaderIter.__del__ at 0x78306c4be340>Exception ignored in:   File \"/usr/local/lib/python3.11/dist-packages/torch/utils/data/dataloader.py\", line 1604, in __del__\n",
      "\n",
      "<function _MultiProcessingDataLoaderIter.__del__ at 0x78306c4be340><function _MultiProcessingDataLoaderIter.__del__ at 0x78306c4be340>    \n",
      "Traceback (most recent call last):\n",
      "  File \"/usr/local/lib/python3.11/dist-packages/torch/utils/data/dataloader.py\", line 1604, in __del__\n",
      "\n",
      "self._shutdown_workers()    Traceback (most recent call last):\n",
      "Traceback (most recent call last):\n",
      "self._shutdown_workers()\n",
      "  File \"/usr/local/lib/python3.11/dist-packages/torch/utils/data/dataloader.py\", line 1604, in __del__\n",
      "  File \"/usr/local/lib/python3.11/dist-packages/torch/utils/data/dataloader.py\", line 1587, in _shutdown_workers\n",
      "\n",
      "    self._shutdown_workers()  File \"/usr/local/lib/python3.11/dist-packages/torch/utils/data/dataloader.py\", line 1604, in __del__\n",
      "      File \"/usr/local/lib/python3.11/dist-packages/torch/utils/data/dataloader.py\", line 1587, in _shutdown_workers\n",
      "    if w.is_alive():\n",
      "self._shutdown_workers()\n",
      "  File \"/usr/local/lib/python3.11/dist-packages/torch/utils/data/dataloader.py\", line 1587, in _shutdown_workers\n",
      "     \n",
      "    if w.is_alive():    File \"/usr/local/lib/python3.11/dist-packages/torch/utils/data/dataloader.py\", line 1587, in _shutdown_workers\n",
      "if w.is_alive():\n",
      "     \n",
      "if w.is_alive():     \n",
      "    ^      ^  ^^^  ^ ^ ^^  ^^ ^^^^^^^^^^^^^^^^^^^^^^^\n",
      "^^^^  File \"/usr/lib/python3.11/multiprocessing/process.py\", line 160, in is_alive\n",
      "\n",
      "    ^^^  File \"/usr/lib/python3.11/multiprocessing/process.py\", line 160, in is_alive\n",
      "assert self._parent_pid == os.getpid(), 'can only test a child process'\n",
      "^^     ^assert self._parent_pid == os.getpid(), 'can only test a child process'^ \n",
      "^\n",
      "^  File \"/usr/lib/python3.11/multiprocessing/process.py\", line 160, in is_alive\n",
      "    ^    assert self._parent_pid == os.getpid(), 'can only test a child process'\n",
      "\n",
      "    File \"/usr/lib/python3.11/multiprocessing/process.py\", line 160, in is_alive\n",
      "          assert self._parent_pid == os.getpid(), 'can only test a child process'   \n",
      "             ^  ^   ^  ^^ ^ ^ ^ ^  ^^^ ^^^^^^^^^^^^^^^^^^^^^^^^^^^^^^^^^^^^^^^^^^^^^^^^^^^^^^^^^^^^^^^^^^^^^^^^^^^^^^^^^^^^^^^^^^^^^^^\n",
      "^^^^AssertionError^^^: can only test a child process^^^\n",
      "^\n",
      "AssertionError: ^^can only test a child process^\n",
      "^^^\n",
      "\n",
      "AssertionErrorAssertionError: : can only test a child processcan only test a child process\n",
      "\n"
     ]
    },
    {
     "data": {
      "image/png": "[encoded data removed]",
      "text/plain": [
       "<Figure size 800x800 with 4 Axes>"
      ]
     },
     "metadata": {},
     "output_type": "display_data"
    },
    {
     "name": "stdout",
     "output_type": "stream",
     "text": [
      "Stage 16px Ep10 avg saliency loss: 0.157700\n",
      "Stage 16px Ep10 val acc: 61.80%\n",
      "\n",
      "--- Curriculum Stage: Crop 20px for 10 epochs ---\n"
     ]
    },
    {
     "data": {
      "application/vnd.jupyter.widget-view+json": {
       "model_id": "5ab18daf906d4f7ba4b0ae1570960483",
       "version_major": 2,
       "version_minor": 0
      },
      "text/plain": [
       "Stage 20px Ep1/10:   0%|          | 0/352 [00:00<?, ?it/s]"
      ]
     },
     "metadata": {},
     "output_type": "display_data"
    },
    {
     "data": {
      "image/png": "[encoded data removed]",
      "text/plain": [
       "<Figure size 800x800 with 4 Axes>"
      ]
     },
     "metadata": {},
     "output_type": "display_data"
    },
    {
     "name": "stdout",
     "output_type": "stream",
     "text": [
      "Stage 20px Ep1 avg saliency loss: 0.147631\n",
      "Stage 20px Ep1 val acc: 69.00%\n"
     ]
    },
    {
     "data": {
      "application/vnd.jupyter.widget-view+json": {
       "model_id": "6bbae40fa8a64e3c9fd3db1489b911d4",
       "version_major": 2,
       "version_minor": 0
      },
      "text/plain": [
       "Stage 20px Ep2/10:   0%|          | 0/352 [00:00<?, ?it/s]"
      ]
     },
     "metadata": {},
     "output_type": "display_data"
    },
    {
     "name": "stdout",
     "output_type": "stream",
     "text": [
      "Stage 20px Ep2 avg saliency loss: 0.142956\n",
      "Stage 20px Ep2 val acc: 68.96%\n"
     ]
    },
    {
     "data": {
      "application/vnd.jupyter.widget-view+json": {
       "model_id": "ef4e8f982e104eb28b930bdaa002cd64",
       "version_major": 2,
       "version_minor": 0
      },
      "text/plain": [
       "Stage 20px Ep3/10:   0%|          | 0/352 [00:00<?, ?it/s]"
      ]
     },
     "metadata": {},
     "output_type": "display_data"
    },
    {
     "name": "stdout",
     "output_type": "stream",
     "text": [
      "Stage 20px Ep3 avg saliency loss: 0.141789\n",
      "Stage 20px Ep3 val acc: 68.78%\n"
     ]
    },
    {
     "data": {
      "application/vnd.jupyter.widget-view+json": {
       "model_id": "b05890af2bac44d888e925832b4bd0a7",
       "version_major": 2,
       "version_minor": 0
      },
      "text/plain": [
       "Stage 20px Ep4/10:   0%|          | 0/352 [00:00<?, ?it/s]"
      ]
     },
     "metadata": {},
     "output_type": "display_data"
    },
    {
     "name": "stdout",
     "output_type": "stream",
     "text": [
      "Stage 20px Ep4 avg saliency loss: 0.140849\n"
     ]
    },
    {
     "name": "stderr",
     "output_type": "stream",
     "text": [
      "Exception ignored in: Exception ignored in: <function _MultiProcessingDataLoaderIter.__del__ at 0x78306c4be340>Exception ignored in: <function _MultiProcessingDataLoaderIter.__del__ at 0x78306c4be340><function _MultiProcessingDataLoaderIter.__del__ at 0x78306c4be340>\n",
      "Traceback (most recent call last):\n",
      "\n",
      "Traceback (most recent call last):\n",
      "  File \"/usr/local/lib/python3.11/dist-packages/torch/utils/data/dataloader.py\", line 1604, in __del__\n",
      "Exception ignored in: \n",
      "  File \"/usr/local/lib/python3.11/dist-packages/torch/utils/data/dataloader.py\", line 1604, in __del__\n",
      "Traceback (most recent call last):\n",
      "    <function _MultiProcessingDataLoaderIter.__del__ at 0x78306c4be340>      File \"/usr/local/lib/python3.11/dist-packages/torch/utils/data/dataloader.py\", line 1604, in __del__\n",
      "\n",
      "    self._shutdown_workers()self._shutdown_workers()Traceback (most recent call last):\n",
      "self._shutdown_workers()\n",
      "\n",
      "\n",
      "  File \"/usr/local/lib/python3.11/dist-packages/torch/utils/data/dataloader.py\", line 1604, in __del__\n",
      "      File \"/usr/local/lib/python3.11/dist-packages/torch/utils/data/dataloader.py\", line 1587, in _shutdown_workers\n",
      "  File \"/usr/local/lib/python3.11/dist-packages/torch/utils/data/dataloader.py\", line 1587, in _shutdown_workers\n",
      "  File \"/usr/local/lib/python3.11/dist-packages/torch/utils/data/dataloader.py\", line 1587, in _shutdown_workers\n",
      "self._shutdown_workers()            \n",
      "if w.is_alive():if w.is_alive():if w.is_alive():  File \"/usr/local/lib/python3.11/dist-packages/torch/utils/data/dataloader.py\", line 1587, in _shutdown_workers\n",
      "\n",
      "\n",
      "     \n",
      " if w.is_alive():       \n",
      "             ^    ^^^ ^^^ ^^^^^^^^^^^^^^^^^^^^^^^^^^^^^^^^^\n",
      "^^  File \"/usr/lib/python3.11/multiprocessing/process.py\", line 160, in is_alive\n",
      "^\n",
      "^^    ^  File \"/usr/lib/python3.11/multiprocessing/process.py\", line 160, in is_alive\n",
      "assert self._parent_pid == os.getpid(), 'can only test a child process'\n",
      "      File \"/usr/lib/python3.11/multiprocessing/process.py\", line 160, in is_alive\n",
      "^\n",
      "assert self._parent_pid == os.getpid(), 'can only test a child process'^     \n",
      " \n",
      "assert self._parent_pid == os.getpid(), 'can only test a child process'   File \"/usr/lib/python3.11/multiprocessing/process.py\", line 160, in is_alive\n",
      " \n",
      "         assert self._parent_pid == os.getpid(), 'can only test a child process'\n",
      "                            ^   ^ ^^ ^^ ^^^^ ^^^^^^^^^^^^^^^^^^^^^^^^^^^^^^^^^^^^^^^^^^^^^^^^^^^^^^^^^^^^^^^^^^^^^^^^^^^^^^^^^^^^^^^^^^^^^^^^^^^^^^^^^^^^^\n",
      "^^\n",
      "AssertionError\n",
      "AssertionErrorAssertionError^: : : can only test a child process^can only test a child process^can only test a child process\n",
      "\n",
      "\n",
      "AssertionError\n",
      ": can only test a child process\n"
     ]
    },
    {
     "name": "stdout",
     "output_type": "stream",
     "text": [
      "Stage 20px Ep4 val acc: 70.84%\n"
     ]
    },
    {
     "name": "stderr",
     "output_type": "stream",
     "text": [
      "Exception ignored in: <function _MultiProcessingDataLoaderIter.__del__ at 0x78306c4be340>\n",
      "Traceback (most recent call last):\n",
      "  File \"/usr/local/lib/python3.11/dist-packages/torch/utils/data/dataloader.py\", line 1604, in __del__\n",
      "    Exception ignored in: self._shutdown_workers()\n",
      "Exception ignored in: <function _MultiProcessingDataLoaderIter.__del__ at 0x78306c4be340>  File \"/usr/local/lib/python3.11/dist-packages/torch/utils/data/dataloader.py\", line 1587, in _shutdown_workers\n",
      "    \n",
      "if w.is_alive():Traceback (most recent call last):\n",
      "\n",
      "<function _MultiProcessingDataLoaderIter.__del__ at 0x78306c4be340>\n",
      "   File \"/usr/local/lib/python3.11/dist-packages/torch/utils/data/dataloader.py\", line 1604, in __del__\n",
      "Traceback (most recent call last):\n",
      "   File \"/usr/local/lib/python3.11/dist-packages/torch/utils/data/dataloader.py\", line 1604, in __del__\n",
      "     self._shutdown_workers()     \n",
      " self._shutdown_workers()   File \"/usr/local/lib/python3.11/dist-packages/torch/utils/data/dataloader.py\", line 1587, in _shutdown_workers\n",
      "\n",
      "    Exception ignored in:    File \"/usr/local/lib/python3.11/dist-packages/torch/utils/data/dataloader.py\", line 1587, in _shutdown_workers\n",
      "if w.is_alive():^    \n",
      "<function _MultiProcessingDataLoaderIter.__del__ at 0x78306c4be340>if w.is_alive():^ ^\n",
      " ^\n",
      "Traceback (most recent call last):\n",
      " ^ ^  File \"/usr/local/lib/python3.11/dist-packages/torch/utils/data/dataloader.py\", line 1604, in __del__\n",
      " "
     ]
    },
    {
     "data": {
      "application/vnd.jupyter.widget-view+json": {
       "model_id": "b3ed6fffeeca43de9bdf8e83a5fb5c6a",
       "version_major": 2,
       "version_minor": 0
      },
      "text/plain": [
       "Stage 20px Ep5/10:   0%|          | 0/352 [00:00<?, ?it/s]"
      ]
     },
     "metadata": {},
     "output_type": "display_data"
    },
    {
     "name": "stderr",
     "output_type": "stream",
     "text": [
      "       ^ self._shutdown_workers() ^ \n",
      " ^  File \"/usr/local/lib/python3.11/dist-packages/torch/utils/data/dataloader.py\", line 1587, in _shutdown_workers\n",
      "^     ^^ if w.is_alive():^^^^\n",
      "\n",
      "^^  File \"/usr/lib/python3.11/multiprocessing/process.py\", line 160, in is_alive\n",
      "^ ^    ^ ^assert self._parent_pid == os.getpid(), 'can only test a child process'^ ^\n",
      " ^ ^ ^^  ^^ ^ ^^^ ^^^^\n",
      "^ ^  File \"/usr/lib/python3.11/multiprocessing/process.py\", line 160, in is_alive\n",
      "\n",
      "^  ^    File \"/usr/lib/python3.11/multiprocessing/process.py\", line 160, in is_alive\n",
      " ^    ^    assert self._parent_pid == os.getpid(), 'can only test a child process'^ \n",
      " assert self._parent_pid == os.getpid(), 'can only test a child process'^  ^^^ \n",
      "\n",
      "  ^  File \"/usr/lib/python3.11/multiprocessing/process.py\", line 160, in is_alive\n",
      "      assert self._parent_pid == os.getpid(), 'can only test a child process' \n",
      "    ^   ^ ^ ^ ^  ^^   ^ ^^ ^  ^ ^ ^^^ ^^ ^^ ^^^^^^^^^^^^^^^^^^^^^^^^^^^^^^^^^^^^^^^^^^^^^^^^^^^^^^^^^^^^^\n",
      "^AssertionError^^^: ^^^^can only test a child process^^^^^\n",
      "^^^^^^^^^^^^^^^^^^^^\n",
      "AssertionError^: ^can only test a child process^\n",
      "^\n",
      "AssertionError^: ^can only test a child process\n",
      "^^\n",
      "AssertionError: can only test a child process\n"
     ]
    },
    {
     "name": "stdout",
     "output_type": "stream",
     "text": [
      "Stage 20px Ep5 avg saliency loss: 0.140129\n",
      "Stage 20px Ep5 val acc: 70.92%\n"
     ]
    },
    {
     "data": {
      "application/vnd.jupyter.widget-view+json": {
       "model_id": "122a9f71985d4669bc7a439fe14092b3",
       "version_major": 2,
       "version_minor": 0
      },
      "text/plain": [
       "Stage 20px Ep6/10:   0%|          | 0/352 [00:00<?, ?it/s]"
      ]
     },
     "metadata": {},
     "output_type": "display_data"
    },
    {
     "name": "stdout",
     "output_type": "stream",
     "text": [
      "Stage 20px Ep6 avg saliency loss: 0.139281\n",
      "Stage 20px Ep6 val acc: 70.42%\n"
     ]
    },
    {
     "data": {
      "application/vnd.jupyter.widget-view+json": {
       "model_id": "e90ee8d5deb54cfc936f628c47203953",
       "version_major": 2,
       "version_minor": 0
      },
      "text/plain": [
       "Stage 20px Ep7/10:   0%|          | 0/352 [00:00<?, ?it/s]"
      ]
     },
     "metadata": {},
     "output_type": "display_data"
    },
    {
     "name": "stdout",
     "output_type": "stream",
     "text": [
      "Stage 20px Ep7 avg saliency loss: 0.138706\n",
      "Stage 20px Ep7 val acc: 70.40%\n"
     ]
    },
    {
     "data": {
      "application/vnd.jupyter.widget-view+json": {
       "model_id": "6e3b8ecfb1de42058361666320188565",
       "version_major": 2,
       "version_minor": 0
      },
      "text/plain": [
       "Stage 20px Ep8/10:   0%|          | 0/352 [00:00<?, ?it/s]"
      ]
     },
     "metadata": {},
     "output_type": "display_data"
    },
    {
     "name": "stdout",
     "output_type": "stream",
     "text": [
      "Stage 20px Ep8 avg saliency loss: 0.138172\n",
      "Stage 20px Ep8 val acc: 71.34%\n"
     ]
    },
    {
     "data": {
      "application/vnd.jupyter.widget-view+json": {
       "model_id": "06bd3e2866f54f5a9e478797045315f7",
       "version_major": 2,
       "version_minor": 0
      },
      "text/plain": [
       "Stage 20px Ep9/10:   0%|          | 0/352 [00:00<?, ?it/s]"
      ]
     },
     "metadata": {},
     "output_type": "display_data"
    },
    {
     "name": "stdout",
     "output_type": "stream",
     "text": [
      "Stage 20px Ep9 avg saliency loss: 0.137526\n",
      "Stage 20px Ep9 val acc: 71.88%\n"
     ]
    },
    {
     "data": {
      "application/vnd.jupyter.widget-view+json": {
       "model_id": "ab7c5c05de1d4b329eea82db237e7f85",
       "version_major": 2,
       "version_minor": 0
      },
      "text/plain": [
       "Stage 20px Ep10/10:   0%|          | 0/352 [00:00<?, ?it/s]"
      ]
     },
     "metadata": {},
     "output_type": "display_data"
    },
    {
     "data": {
      "image/png": "[encoded data removed]",
      "text/plain": [
       "<Figure size 800x800 with 4 Axes>"
      ]
     },
     "metadata": {},
     "output_type": "display_data"
    },
    {
     "name": "stdout",
     "output_type": "stream",
     "text": [
      "Stage 20px Ep10 avg saliency loss: 0.136864\n",
      "Stage 20px Ep10 val acc: 71.38%\n",
      "\n",
      "--- Curriculum Stage: Crop 24px for 10 epochs ---\n"
     ]
    },
    {
     "data": {
      "application/vnd.jupyter.widget-view+json": {
       "model_id": "00934d18f6a74f09a5e402d1c85f64fc",
       "version_major": 2,
       "version_minor": 0
      },
      "text/plain": [
       "Stage 24px Ep1/10:   0%|          | 0/352 [00:00<?, ?it/s]"
      ]
     },
     "metadata": {},
     "output_type": "display_data"
    },
    {
     "data": {
      "image/png": "[encoded data removed]",
      "text/plain": [
       "<Figure size 800x800 with 4 Axes>"
      ]
     },
     "metadata": {},
     "output_type": "display_data"
    },
    {
     "name": "stdout",
     "output_type": "stream",
     "text": [
      "Stage 24px Ep1 avg saliency loss: 0.127301\n",
      "Stage 24px Ep1 val acc: 76.32%\n"
     ]
    },
    {
     "data": {
      "application/vnd.jupyter.widget-view+json": {
       "model_id": "0936e0cdb8714e368c8d5da59bae2ce7",
       "version_major": 2,
       "version_minor": 0
      },
      "text/plain": [
       "Stage 24px Ep2/10:   0%|          | 0/352 [00:00<?, ?it/s]"
      ]
     },
     "metadata": {},
     "output_type": "display_data"
    },
    {
     "name": "stdout",
     "output_type": "stream",
     "text": [
      "Stage 24px Ep2 avg saliency loss: 0.126053\n"
     ]
    },
    {
     "name": "stderr",
     "output_type": "stream",
     "text": [
      "Exception ignored in: <function _MultiProcessingDataLoaderIter.__del__ at 0x78306c4be340>\n",
      "Exception ignored in: Traceback (most recent call last):\n",
      "  File \"/usr/local/lib/python3.11/dist-packages/torch/utils/data/dataloader.py\", line 1604, in __del__\n",
      "    self._shutdown_workers()<function _MultiProcessingDataLoaderIter.__del__ at 0x78306c4be340>\n",
      "Exception ignored in: \n",
      "  File \"/usr/local/lib/python3.11/dist-packages/torch/utils/data/dataloader.py\", line 1587, in _shutdown_workers\n",
      "Traceback (most recent call last):\n",
      "      File \"/usr/local/lib/python3.11/dist-packages/torch/utils/data/dataloader.py\", line 1604, in __del__\n",
      "if w.is_alive():    self._shutdown_workers()\n",
      "<function _MultiProcessingDataLoaderIter.__del__ at 0x78306c4be340>\n",
      " \n",
      "   File \"/usr/local/lib/python3.11/dist-packages/torch/utils/data/dataloader.py\", line 1587, in _shutdown_workers\n",
      " Traceback (most recent call last):\n",
      "     if w.is_alive(): \n",
      "  File \"/usr/local/lib/python3.11/dist-packages/torch/utils/data/dataloader.py\", line 1604, in __del__\n",
      "         self._shutdown_workers()^ Exception ignored in: ^\n",
      " ^   File \"/usr/local/lib/python3.11/dist-packages/torch/utils/data/dataloader.py\", line 1587, in _shutdown_workers\n",
      "     ^if w.is_alive():^<function _MultiProcessingDataLoaderIter.__del__ at 0x78306c4be340>\n",
      "^^ ^\n",
      "^ ^Traceback (most recent call last):\n",
      "^   File \"/usr/local/lib/python3.11/dist-packages/torch/utils/data/dataloader.py\", line 1604, in __del__\n",
      " ^^    self._shutdown_workers() ^^ \n",
      "^^ ^^  File \"/usr/local/lib/python3.11/dist-packages/torch/utils/data/dataloader.py\", line 1587, in _shutdown_workers\n",
      "^^^    ^^^\n",
      "if w.is_alive():\n",
      "^  File \"/usr/lib/python3.11/multiprocessing/process.py\", line 160, in is_alive\n",
      " ^^ \n",
      "     ^assert self._parent_pid == os.getpid(), 'can only test a child process'  File \"/usr/lib/python3.11/multiprocessing/process.py\", line 160, in is_alive\n",
      "^\n",
      "     ^ assert self._parent_pid == os.getpid(), 'can only test a child process'  ^\n",
      "^    ^   ^^  ^ ^ ^  ^\n",
      "  File \"/usr/lib/python3.11/multiprocessing/process.py\", line 160, in is_alive\n",
      "  ^      ^assert self._parent_pid == os.getpid(), 'can only test a child process'\n",
      "^  ^   ^^ ^ ^ ^^^^^ ^^\n",
      " ^  File \"/usr/lib/python3.11/multiprocessing/process.py\", line 160, in is_alive\n",
      "^ ^     ^ ^assert self._parent_pid == os.getpid(), 'can only test a child process' ^^\n",
      " ^^  ^^^ ^^^^ ^^^ ^^^^^^^ ^^^^ ^^^^^ ^^^^^ ^ ^^^^^ ^^^^ ^^^^^^^^^^^^^^^^^^^^^^^^^^^^\n",
      "^^^^AssertionError^^^: ^^\n",
      "^can only test a child process^AssertionError^\n",
      "^: ^^^can only test a child process^\n",
      "^^^^^^^^^^^^\n",
      "AssertionError^: ^can only test a child process^\n",
      "^^^^^^^\n",
      "AssertionError: can only test a child process\n"
     ]
    },
    {
     "name": "stdout",
     "output_type": "stream",
     "text": [
      "Stage 24px Ep2 val acc: 76.20%\n"
     ]
    },
    {
     "name": "stderr",
     "output_type": "stream",
     "text": [
      "Exception ignored in: <function _MultiProcessingDataLoaderIter.__del__ at 0x78306c4be340>\n",
      "Exception ignored in: Traceback (most recent call last):\n",
      "  File \"/usr/local/lib/python3.11/dist-packages/torch/utils/data/dataloader.py\", line 1604, in __del__\n",
      "    <function _MultiProcessingDataLoaderIter.__del__ at 0x78306c4be340>self._shutdown_workers()\n",
      "Exception ignored in: \n",
      "Traceback (most recent call last):\n",
      "  File \"/usr/local/lib/python3.11/dist-packages/torch/utils/data/dataloader.py\", line 1587, in _shutdown_workers\n",
      "  File \"/usr/local/lib/python3.11/dist-packages/torch/utils/data/dataloader.py\", line 1604, in __del__\n",
      "        if w.is_alive():self._shutdown_workers()\n",
      "\n",
      "  File \"/usr/local/lib/python3.11/dist-packages/torch/utils/data/dataloader.py\", line 1587, in _shutdown_workers\n",
      "      if w.is_alive():\n",
      "   <function _MultiProcessingDataLoaderIter.__del__ at 0x78306c4be340>    \n",
      "Traceback (most recent call last):\n",
      "      File \"/usr/local/lib/python3.11/dist-packages/torch/utils/data/dataloader.py\", line 1604, in __del__\n",
      " ^    Exception ignored in: ^^self._shutdown_workers()^^^^\n",
      "<function _MultiProcessingDataLoaderIter.__del__ at 0x78306c4be340>^  File \"/usr/local/lib/python3.11/dist-packages/torch/utils/data/dataloader.py\", line 1587, in _shutdown_workers\n",
      "\n",
      "^^    Traceback (most recent call last):\n",
      "^^if w.is_alive():  File \"/usr/local/lib/python3.11/dist-packages/torch/utils/data/dataloader.py\", line 1604, in __del__\n",
      "\n",
      "^^    ^ self._shutdown_workers()^ \n",
      "^  File \"/usr/local/lib/python3.11/dist-packages/torch/utils/data/dataloader.py\", line 1587, in _shutdown_workers\n",
      " ^^    "
     ]
    },
    {
     "data": {
      "application/vnd.jupyter.widget-view+json": {
       "model_id": "77decc08586b4f2584c6c8a0b088aec5",
       "version_major": 2,
       "version_minor": 0
      },
      "text/plain": [
       "Stage 24px Ep3/10:   0%|          | 0/352 [00:00<?, ?it/s]"
      ]
     },
     "metadata": {},
     "output_type": "display_data"
    },
    {
     "name": "stderr",
     "output_type": "stream",
     "text": [
      "^  if w.is_alive():^ ^^\n",
      "\n",
      "   File \"/usr/lib/python3.11/multiprocessing/process.py\", line 160, in is_alive\n",
      "^^     ^assert self._parent_pid == os.getpid(), 'can only test a child process'\n",
      " ^\n",
      "   File \"/usr/lib/python3.11/multiprocessing/process.py\", line 160, in is_alive\n",
      "^      assert self._parent_pid == os.getpid(), 'can only test a child process'^  ^\n",
      "Exception ignored in: IOStream.flush timed out\n",
      "IOStream.flush timed out\n",
      "   ^  ^<function _MultiProcessingDataLoaderIter.__del__ at 0x78306c4be340> ^ \n",
      "Exception ignored in:   ^^ ^ Traceback (most recent call last):\n",
      "^\n",
      "  File \"/usr/local/lib/python3.11/dist-packages/torch/utils/data/dataloader.py\", line 1604, in __del__\n",
      "  ^   File \"/usr/lib/python3.11/multiprocessing/process.py\", line 160, in is_alive\n",
      "     <function _MultiProcessingDataLoaderIter.__del__ at 0x78306c4be340> ^     self._shutdown_workers()^ \n",
      " \n",
      "^ Traceback (most recent call last):\n",
      "assert self._parent_pid == os.getpid(), 'can only test a child process'   File \"/usr/local/lib/python3.11/dist-packages/torch/utils/data/dataloader.py\", line 1587, in _shutdown_workers\n",
      "Exception ignored in:      \n",
      "^^if w.is_alive():^^   File \"/usr/local/lib/python3.11/dist-packages/torch/utils/data/dataloader.py\", line 1604, in __del__\n",
      "^<function _MultiProcessingDataLoaderIter.__del__ at 0x78306c4be340>^ ^\n",
      "^    \n",
      " ^^ ^Traceback (most recent call last):\n",
      "self._shutdown_workers()^  \n",
      "^^   File \"/usr/local/lib/python3.11/dist-packages/torch/utils/data/dataloader.py\", line 1604, in __del__\n",
      " ^^^  File \"/usr/local/lib/python3.11/dist-packages/torch/utils/data/dataloader.py\", line 1587, in _shutdown_workers\n",
      "^      ^^\n",
      "     ^   File \"/usr/lib/python3.11/multiprocessing/process.py\", line 160, in is_alive\n",
      "^self._shutdown_workers() ^^    \n",
      "if w.is_alive():   File \"/usr/local/lib/python3.11/dist-packages/torch/utils/data/dataloader.py\", line 1587, in _shutdown_workers\n",
      "^^assert self._parent_pid == os.getpid(), 'can only test a child process' \n",
      "^\n",
      "    ^^  ^ if w.is_alive():^^^\n",
      "  ^^  ^^^  ^   ^^^  ^^  ^^ ^^ ^ ^ ^^^ ^^  ^^^ ^^^ ^^^^^^ ^^^^ \n",
      "^^^^  File \"/usr/lib/python3.11/multiprocessing/process.py\", line 160, in is_alive\n",
      " ^^^^^    ^^^^^^^assert self._parent_pid == os.getpid(), 'can only test a child process'^^^^\n",
      "^^^^^ ^^^^^ ^^^^^^^^^^^ ^^^ ^^^^^^ ^\n",
      "^ ^^^^^AssertionError\n",
      "^^ ^  File \"/usr/lib/python3.11/multiprocessing/process.py\", line 160, in is_alive\n",
      "^^: ^ \n",
      "    can only test a child process^ ^\n",
      "^\n",
      "  File \"/usr/lib/python3.11/multiprocessing/process.py\", line 160, in is_alive\n",
      "^ assert self._parent_pid == os.getpid(), 'can only test a child process'AssertionError     ^^: ^\n",
      "assert self._parent_pid == os.getpid(), 'can only test a child process'^^^ can only test a child process^^\n",
      "^^\n",
      " ^^^^ ^^   ^^ ^  ^\n",
      "^  ^  ^^ AssertionError  ^^ :   ^^ can only test a child process^^ ^^^\n",
      "^^ ^^^^^^^^^^^^^^^^^^^^^^^^^^^^^^^^^^^^^^^^^\n",
      "^^AssertionError^^^^: ^^^^^^can only test a child process^^^^^^\n",
      "^^^^^^^^^^^^^^^^^^^^\n",
      "^\n",
      "AssertionError: ^can only test a child processAssertionError^\n",
      "^: can only test a child process^^^\n",
      "^\n",
      "AssertionError: can only test a child process\n",
      "IOStream.flush timed out\n",
      "IOStream.flush timed out\n"
     ]
    },
    {
     "name": "stdout",
     "output_type": "stream",
     "text": [
      "Stage 24px Ep3 avg saliency loss: 0.125662\n",
      "Stage 24px Ep3 val acc: 77.92%\n"
     ]
    },
    {
     "data": {
      "application/vnd.jupyter.widget-view+json": {
       "model_id": "8b69c9a80c3f4e148dd23a2cba410082",
       "version_major": 2,
       "version_minor": 0
      },
      "text/plain": [
       "Stage 24px Ep4/10:   0%|          | 0/352 [00:00<?, ?it/s]"
      ]
     },
     "metadata": {},
     "output_type": "display_data"
    },
    {
     "name": "stdout",
     "output_type": "stream",
     "text": [
      "Stage 24px Ep4 avg saliency loss: 0.125390\n",
      "Stage 24px Ep4 val acc: 77.66%\n"
     ]
    },
    {
     "data": {
      "application/vnd.jupyter.widget-view+json": {
       "model_id": "8c98f6df8bdc4b2a9a14baa7b8bb2942",
       "version_major": 2,
       "version_minor": 0
      },
      "text/plain": [
       "Stage 24px Ep5/10:   0%|          | 0/352 [00:00<?, ?it/s]"
      ]
     },
     "metadata": {},
     "output_type": "display_data"
    },
    {
     "name": "stdout",
     "output_type": "stream",
     "text": [
      "Stage 24px Ep5 avg saliency loss: 0.124870\n"
     ]
    },
    {
     "name": "stderr",
     "output_type": "stream",
     "text": [
      "Exception ignored in: <function _MultiProcessingDataLoaderIter.__del__ at 0x78306c4be340>\n",
      "Traceback (most recent call last):\n",
      "Exception ignored in:   File \"/usr/local/lib/python3.11/dist-packages/torch/utils/data/dataloader.py\", line 1604, in __del__\n",
      "    self._shutdown_workers()  File \"/usr/local/lib/python3.11/dist-packages/torch/utils/data/dataloader.py\", line 1587, in _shutdown_workers\n",
      "<function _MultiProcessingDataLoaderIter.__del__ at 0x78306c4be340>\n",
      "Exception ignored in: \n",
      "    Traceback (most recent call last):\n",
      "  File \"/usr/local/lib/python3.11/dist-packages/torch/utils/data/dataloader.py\", line 1604, in __del__\n",
      "<function _MultiProcessingDataLoaderIter.__del__ at 0x78306c4be340>if w.is_alive():    \n",
      "\n",
      "self._shutdown_workers()\n",
      " Traceback (most recent call last):\n",
      "  File \"/usr/local/lib/python3.11/dist-packages/torch/utils/data/dataloader.py\", line 1587, in _shutdown_workers\n",
      "  File \"/usr/local/lib/python3.11/dist-packages/torch/utils/data/dataloader.py\", line 1604, in __del__\n",
      "      if w.is_alive():     Exception ignored in: self._shutdown_workers() \n",
      "\n",
      "    File \"/usr/local/lib/python3.11/dist-packages/torch/utils/data/dataloader.py\", line 1587, in _shutdown_workers\n",
      "<function _MultiProcessingDataLoaderIter.__del__ at 0x78306c4be340>  \n",
      "     Traceback (most recent call last):\n",
      "^if w.is_alive(): ^   File \"/usr/local/lib/python3.11/dist-packages/torch/utils/data/dataloader.py\", line 1604, in __del__\n",
      "\n",
      "^^      self._shutdown_workers()^  \n",
      "^   File \"/usr/local/lib/python3.11/dist-packages/torch/utils/data/dataloader.py\", line 1587, in _shutdown_workers\n",
      "^  ^^^     ^if w.is_alive(): ^^^\n",
      "^ ^^ ^^^ ^^^^ \n",
      "^^^   File \"/usr/lib/python3.11/multiprocessing/process.py\", line 160, in is_alive\n",
      "^     ^ ^assert self._parent_pid == os.getpid(), 'can only test a child process'^\n",
      "^^ ^^ \n",
      "^^  File \"/usr/lib/python3.11/multiprocessing/process.py\", line 160, in is_alive\n",
      "^     ^^  ^^assert self._parent_pid == os.getpid(), 'can only test a child process'^ \n",
      "  File \"/usr/lib/python3.11/multiprocessing/process.py\", line 160, in is_alive\n",
      "^\n",
      "       ^assert self._parent_pid == os.getpid(), 'can only test a child process'\n",
      "   ^  ^    ^   ^\n",
      "   File \"/usr/lib/python3.11/multiprocessing/process.py\", line 160, in is_alive\n",
      "^  ^  ^ ^      ^assert self._parent_pid == os.getpid(), 'can only test a child process' ^ \n",
      "  ^ ^^ ^^^ ^^^ ^^^^ ^^^ ^^ ^^^ ^^^^ ^^ ^^ ^^^^^^^^^^^^^^^^^^^^^^^^^^^^^^^^^^^^^^^^^^^^^^^^^^^^^^^^^^^^^\n",
      "^^^AssertionError^: ^^^can only test a child process^^^^\n",
      "^^^^^\n",
      "^\n",
      "^AssertionErrorAssertionError^: ^: can only test a child process^\n",
      "can only test a child process^\n",
      "^^^^^\n",
      "AssertionError: can only test a child process\n"
     ]
    },
    {
     "name": "stdout",
     "output_type": "stream",
     "text": [
      "Stage 24px Ep5 val acc: 78.88%\n"
     ]
    },
    {
     "name": "stderr",
     "output_type": "stream",
     "text": [
      "Exception ignored in: <function _MultiProcessingDataLoaderIter.__del__ at 0x78306c4be340>\n",
      "Exception ignored in: Traceback (most recent call last):\n",
      "  File \"/usr/local/lib/python3.11/dist-packages/torch/utils/data/dataloader.py\", line 1604, in __del__\n",
      "    <function _MultiProcessingDataLoaderIter.__del__ at 0x78306c4be340>self._shutdown_workers()\n",
      "Exception ignored in: \n",
      "Traceback (most recent call last):\n",
      "  File \"/usr/local/lib/python3.11/dist-packages/torch/utils/data/dataloader.py\", line 1587, in _shutdown_workers\n",
      "  File \"/usr/local/lib/python3.11/dist-packages/torch/utils/data/dataloader.py\", line 1604, in __del__\n",
      "<function _MultiProcessingDataLoaderIter.__del__ at 0x78306c4be340>    \n",
      "Traceback (most recent call last):\n",
      "self._shutdown_workers()\n",
      "      File \"/usr/local/lib/python3.11/dist-packages/torch/utils/data/dataloader.py\", line 1587, in _shutdown_workers\n",
      "  File \"/usr/local/lib/python3.11/dist-packages/torch/utils/data/dataloader.py\", line 1604, in __del__\n",
      "if w.is_alive():    Exception ignored in: \n",
      "    self._shutdown_workers() \n",
      "if w.is_alive(): \n",
      "<function _MultiProcessingDataLoaderIter.__del__ at 0x78306c4be340>\n",
      "  File \"/usr/local/lib/python3.11/dist-packages/torch/utils/data/dataloader.py\", line 1587, in _shutdown_workers\n",
      " Traceback (most recent call last):\n",
      "       File \"/usr/local/lib/python3.11/dist-packages/torch/utils/data/dataloader.py\", line 1604, in __del__\n",
      "  if w.is_alive():    \n",
      "self._shutdown_workers()   \n",
      "   File \"/usr/local/lib/python3.11/dist-packages/torch/utils/data/dataloader.py\", line 1587, in _shutdown_workers\n",
      "          if w.is_alive(): \n",
      " ^    ^"
     ]
    },
    {
     "data": {
      "application/vnd.jupyter.widget-view+json": {
       "model_id": "162a1ae4be224e2895fa077f4ec8c1fe",
       "version_major": 2,
       "version_minor": 0
      },
      "text/plain": [
       "Stage 24px Ep6/10:   0%|          | 0/352 [00:00<?, ?it/s]"
      ]
     },
     "metadata": {},
     "output_type": "display_data"
    },
    {
     "name": "stderr",
     "output_type": "stream",
     "text": [
      "^^^^^ ^^^^^ ^^ ^^^^^^ ^^^^Exception ignored in:  ^^^^ ^^IOStream.flush timed out\n",
      "IOStream.flush timed out\n",
      "^^<function _MultiProcessingDataLoaderIter.__del__ at 0x78306c4be340>^^Exception ignored in: \n",
      "^\n",
      "^\n",
      "  File \"/usr/lib/python3.11/multiprocessing/process.py\", line 160, in is_alive\n",
      "^Traceback (most recent call last):\n",
      "      File \"/usr/lib/python3.11/multiprocessing/process.py\", line 160, in is_alive\n",
      "<function _MultiProcessingDataLoaderIter.__del__ at 0x78306c4be340>^^^  File \"/usr/local/lib/python3.11/dist-packages/torch/utils/data/dataloader.py\", line 1604, in __del__\n",
      "assert self._parent_pid == os.getpid(), 'can only test a child process'    \n",
      "\n",
      "\n",
      "Traceback (most recent call last):\n",
      "^assert self._parent_pid == os.getpid(), 'can only test a child process'      File \"/usr/lib/python3.11/multiprocessing/process.py\", line 160, in is_alive\n",
      " self._shutdown_workers()      File \"/usr/local/lib/python3.11/dist-packages/torch/utils/data/dataloader.py\", line 1604, in __del__\n",
      "^\n",
      "\n",
      "     ^ assert self._parent_pid == os.getpid(), 'can only test a child process'   File \"/usr/local/lib/python3.11/dist-packages/torch/utils/data/dataloader.py\", line 1587, in _shutdown_workers\n",
      " Exception ignored in:  \n",
      "     ^self._shutdown_workers()  if w.is_alive():\n",
      "  ^ <function _MultiProcessingDataLoaderIter.__del__ at 0x78306c4be340>   File \"/usr/local/lib/python3.11/dist-packages/torch/utils/data/dataloader.py\", line 1587, in _shutdown_workers\n",
      " \n",
      " \n",
      " ^  Traceback (most recent call last):\n",
      "    ^     if w.is_alive():   File \"/usr/local/lib/python3.11/dist-packages/torch/utils/data/dataloader.py\", line 1604, in __del__\n",
      " ^  \n",
      "   \n",
      "        ^  File \"/usr/lib/python3.11/multiprocessing/process.py\", line 160, in is_alive\n",
      " self._shutdown_workers()   ^    \n",
      "  ^  ^  File \"/usr/local/lib/python3.11/dist-packages/torch/utils/data/dataloader.py\", line 1587, in _shutdown_workers\n",
      " assert self._parent_pid == os.getpid(), 'can only test a child process'^^  ^^^    \n",
      " ^^^if w.is_alive(): ^^^\n",
      " ^ ^ ^^^ ^ ^^^^^ ^^^^^ ^^ ^ ^^^ ^^^^^  ^^^^^ ^^^^^  ^^^^^ ^ \n",
      "^ ^^^  File \"/usr/lib/python3.11/multiprocessing/process.py\", line 160, in is_alive\n",
      "^^^^^^^^^    ^\n",
      "^^^^^assert self._parent_pid == os.getpid(), 'can only test a child process'^  File \"/usr/lib/python3.11/multiprocessing/process.py\", line 160, in is_alive\n",
      "^^\n",
      "^^^    ^^^^ ^^^assert self._parent_pid == os.getpid(), 'can only test a child process'^^ ^^^\n",
      " ^^^^ ^^^^ ^^^^ ^ ^^^^ ^ ^^^^ ^ ^^^^ ^^^^^ \n",
      " ^^^^    File \"/usr/lib/python3.11/multiprocessing/process.py\", line 160, in is_alive\n",
      "^^^      ^^^^  assert self._parent_pid == os.getpid(), 'can only test a child process'\n",
      "^^^^\n",
      "^ ^AssertionError^^^^  : \n",
      "^^^AssertionError^^^can only test a child process^ : ^^^\n",
      "\n",
      " ^^^can only test a child process \n",
      "^ AssertionError^^^: ^ ^can only test a child process  ^^ \n",
      "^^^^^ ^^ ^^^^^^^^^^^^^^^^\n",
      "^^AssertionError^^^: ^^can only test a child process^^^\n",
      "^^^^^^^^^^^^^^^^^^^^^^^^^^^^^^^^^^^\n",
      "^AssertionError^\n",
      "AssertionError^: : can only test a child process^\n",
      "can only test a child process^\n",
      "^^^^^^^^^^^\n",
      "AssertionError: can only test a child process\n",
      "IOStream.flush timed out\n"
     ]
    },
    {
     "name": "stdout",
     "output_type": "stream",
     "text": [
      "Stage 24px Ep6 avg saliency loss: 0.124180\n",
      "Stage 24px Ep6 val acc: 77.86%\n"
     ]
    },
    {
     "data": {
      "application/vnd.jupyter.widget-view+json": {
       "model_id": "3f56d1e1650c407fbed050baf416b0d1",
       "version_major": 2,
       "version_minor": 0
      },
      "text/plain": [
       "Stage 24px Ep7/10:   0%|          | 0/352 [00:00<?, ?it/s]"
      ]
     },
     "metadata": {},
     "output_type": "display_data"
    },
    {
     "name": "stdout",
     "output_type": "stream",
     "text": [
      "Stage 24px Ep7 avg saliency loss: 0.123719\n",
      "Stage 24px Ep7 val acc: 78.02%\n"
     ]
    },
    {
     "data": {
      "application/vnd.jupyter.widget-view+json": {
       "model_id": "6ebe69308602456796a4d243de0224e2",
       "version_major": 2,
       "version_minor": 0
      },
      "text/plain": [
       "Stage 24px Ep8/10:   0%|          | 0/352 [00:00<?, ?it/s]"
      ]
     },
     "metadata": {},
     "output_type": "display_data"
    },
    {
     "name": "stdout",
     "output_type": "stream",
     "text": [
      "Stage 24px Ep8 avg saliency loss: 0.123396\n"
     ]
    },
    {
     "name": "stderr",
     "output_type": "stream",
     "text": [
      "Exception ignored in: <function _MultiProcessingDataLoaderIter.__del__ at 0x78306c4be340>\n",
      "Traceback (most recent call last):\n",
      "  File \"/usr/local/lib/python3.11/dist-packages/torch/utils/data/dataloader.py\", line 1604, in __del__\n",
      "    self._shutdown_workers()\n",
      "  File \"/usr/local/lib/python3.11/dist-packages/torch/utils/data/dataloader.py\", line 1587, in _shutdown_workers\n",
      "    if w.is_alive():\n",
      "       ^^^^^^^^^^^^\n",
      "  File \"/usr/lib/python3.11/multiprocessing/process.py\", line 160, in is_alive\n",
      "    assert self._parent_pid == os.getpid(), 'can only test a child process'\n",
      "           ^^^^^^^^^^^^^^^^^^^^^^^^^^^^^^^\n",
      "AssertionError: can only test a child process\n",
      "Exception ignored in: <function _MultiProcessingDataLoaderIter.__del__ at 0x78306c4be340>\n",
      "Traceback (most recent call last):\n",
      "  File \"/usr/local/lib/python3.11/dist-packages/torch/utils/data/dataloader.py\", line 1604, in __del__\n",
      "    self._shutdown_workers()\n",
      "  File \"/usr/local/lib/python3.11/dist-packages/torch/utils/data/dataloader.py\", line 1587, in _shutdown_workers\n",
      "    if w.is_alive():\n",
      "       ^^^^^^^^^^^^\n",
      "  File \"/usr/lib/python3.11/multiprocessing/process.py\", line 160, in is_alive\n",
      "    assert self._parent_pid == os.getpid(), 'can only test a child process'\n",
      "           ^^^^^^^^^^^^^^^^^^^^^^^^^^^^^^^\n",
      "AssertionError: can only test a child process\n",
      "Exception ignored in: <function _MultiProcessingDataLoaderIter.__del__ at 0x78306c4be340>\n",
      "Traceback (most recent call last):\n",
      "  File \"/usr/local/lib/python3.11/dist-packages/torch/utils/data/dataloader.py\", line 1604, in __del__\n",
      "    self._shutdown_workers()\n",
      "  File \"/usr/local/lib/python3.11/dist-packages/torch/utils/data/dataloader.py\", line 1587, in _shutdown_workers\n",
      "    if w.is_alive():\n",
      "       ^^^^^^^^^^^^\n",
      "  File \"/usr/lib/python3.11/multiprocessing/process.py\", line 160, in is_alive\n",
      "    assert self._parent_pid == os.getpid(), 'can only test a child process'\n",
      "           ^^^^^^^^^^^^^^^^^^^^^^^^^^^^^^^\n",
      "AssertionError: can only test a child process\n",
      "Exception ignored in: <function _MultiProcessingDataLoaderIter.__del__ at 0x78306c4be340>\n",
      "Traceback (most recent call last):\n",
      "  File \"/usr/local/lib/python3.11/dist-packages/torch/utils/data/dataloader.py\", line 1604, in __del__\n",
      "    self._shutdown_workers()\n",
      "  File \"/usr/local/lib/python3.11/dist-packages/torch/utils/data/dataloader.py\", line 1587, in _shutdown_workers\n",
      "    if w.is_alive():\n",
      "       ^^^^^^^^^^^^\n",
      "  File \"/usr/lib/python3.11/multiprocessing/process.py\", line 160, in is_alive\n",
      "    assert self._parent_pid == os.getpid(), 'can only test a child process'\n",
      "           ^^^^^^^^^^^^^^^^^^^^^^^^^^^^^^^\n",
      "AssertionError: can only test a child process\n"
     ]
    },
    {
     "name": "stdout",
     "output_type": "stream",
     "text": [
      "Stage 24px Ep8 val acc: 77.66%\n"
     ]
    },
    {
     "data": {
      "application/vnd.jupyter.widget-view+json": {
       "model_id": "e34fa175769148f683b8a0d1723ac7e1",
       "version_major": 2,
       "version_minor": 0
      },
      "text/plain": [
       "Stage 24px Ep9/10:   0%|          | 0/352 [00:00<?, ?it/s]"
      ]
     },
     "metadata": {},
     "output_type": "display_data"
    },
    {
     "name": "stderr",
     "output_type": "stream",
     "text": [
      "Exception ignored in: <function _MultiProcessingDataLoaderIter.__del__ at 0x78306c4be340>\n",
      "Traceback (most recent call last):\n",
      "Exception ignored in: Exception ignored in: Exception ignored in:   File \"/usr/local/lib/python3.11/dist-packages/torch/utils/data/dataloader.py\", line 1604, in __del__\n",
      "<function _MultiProcessingDataLoaderIter.__del__ at 0x78306c4be340><function _MultiProcessingDataLoaderIter.__del__ at 0x78306c4be340>    \n",
      "<function _MultiProcessingDataLoaderIter.__del__ at 0x78306c4be340>Traceback (most recent call last):\n",
      "\n",
      "self._shutdown_workers()Exception ignored in: Exception ignored in: Traceback (most recent call last):\n",
      "  File \"/usr/local/lib/python3.11/dist-packages/torch/utils/data/dataloader.py\", line 1604, in __del__\n",
      "\n",
      "\n",
      "<function _MultiProcessingDataLoaderIter.__del__ at 0x78306c4be340>Traceback (most recent call last):\n",
      "  File \"/usr/local/lib/python3.11/dist-packages/torch/utils/data/dataloader.py\", line 1587, in _shutdown_workers\n",
      "<function _MultiProcessingDataLoaderIter.__del__ at 0x78306c4be340>\n",
      "  File \"/usr/local/lib/python3.11/dist-packages/torch/utils/data/dataloader.py\", line 1604, in __del__\n",
      "self._shutdown_workers()      File \"/usr/local/lib/python3.11/dist-packages/torch/utils/data/dataloader.py\", line 1604, in __del__\n",
      "    \n",
      "    Traceback (most recent call last):\n",
      "self._shutdown_workers()if w.is_alive():    Exception ignored in: Traceback (most recent call last):\n",
      "\n",
      "\n",
      "self._shutdown_workers()  File \"/usr/local/lib/python3.11/dist-packages/torch/utils/data/dataloader.py\", line 1604, in __del__\n",
      "\n",
      "  File \"/usr/local/lib/python3.11/dist-packages/torch/utils/data/dataloader.py\", line 1604, in __del__\n",
      "  File \"/usr/local/lib/python3.11/dist-packages/torch/utils/data/dataloader.py\", line 1587, in _shutdown_workers\n",
      "\n",
      "       File \"/usr/local/lib/python3.11/dist-packages/torch/utils/data/dataloader.py\", line 1587, in _shutdown_workers\n",
      "      File \"/usr/local/lib/python3.11/dist-packages/torch/utils/data/dataloader.py\", line 1587, in _shutdown_workers\n",
      "if w.is_alive():     <function _MultiProcessingDataLoaderIter.__del__ at 0x78306c4be340>self._shutdown_workers()    \n",
      " if w.is_alive():self._shutdown_workers() \n",
      "    \n",
      "\n",
      "Traceback (most recent call last):\n",
      "\n",
      "  File \"/usr/local/lib/python3.11/dist-packages/torch/utils/data/dataloader.py\", line 1587, in _shutdown_workers\n",
      "  if w.is_alive():  File \"/usr/local/lib/python3.11/dist-packages/torch/utils/data/dataloader.py\", line 1604, in __del__\n",
      "  File \"/usr/local/lib/python3.11/dist-packages/torch/utils/data/dataloader.py\", line 1587, in _shutdown_workers\n",
      "\n",
      "           Exception ignored in:        self._shutdown_workers() if w.is_alive(): if w.is_alive():\n",
      "<function _MultiProcessingDataLoaderIter.__del__ at 0x78306c4be340>  \n",
      " \n",
      "   File \"/usr/local/lib/python3.11/dist-packages/torch/utils/data/dataloader.py\", line 1587, in _shutdown_workers\n",
      "  ^   \n",
      "    ^Traceback (most recent call last):\n",
      "          File \"/usr/local/lib/python3.11/dist-packages/torch/utils/data/dataloader.py\", line 1604, in __del__\n",
      "if w.is_alive():^^ ^  \n",
      "^     ^   ^^^^ self._shutdown_workers()  ^\n",
      " ^ ^ ^  File \"/usr/local/lib/python3.11/dist-packages/torch/utils/data/dataloader.py\", line 1587, in _shutdown_workers\n",
      "^^^ ^^^^^     ^^^if w.is_alive(): ^^^^^ ^^^^ \n",
      "^^^^^^^^^^^ ^^^^ ^^^^^^^^^ ^^^^^ ^\n",
      "\n",
      "^^\n",
      "^  File \"/usr/lib/python3.11/multiprocessing/process.py\", line 160, in is_alive\n",
      "  File \"/usr/lib/python3.11/multiprocessing/process.py\", line 160, in is_alive\n",
      " ^^^      File \"/usr/lib/python3.11/multiprocessing/process.py\", line 160, in is_alive\n",
      "^^     ^^^    assert self._parent_pid == os.getpid(), 'can only test a child process'assert self._parent_pid == os.getpid(), 'can only test a child process'^^^\n",
      " \n",
      "assert self._parent_pid == os.getpid(), 'can only test a child process'^\n",
      "^\n",
      "\n",
      "  File \"/usr/lib/python3.11/multiprocessing/process.py\", line 160, in is_alive\n",
      "^    File \"/usr/lib/python3.11/multiprocessing/process.py\", line 160, in is_alive\n",
      "^\n",
      "^      File \"/usr/lib/python3.11/multiprocessing/process.py\", line 160, in is_alive\n",
      "  ^     ^  assert self._parent_pid == os.getpid(), 'can only test a child process'assert self._parent_pid == os.getpid(), 'can only test a child process'^    ^  assert self._parent_pid == os.getpid(), 'can only test a child process'^ \n",
      "   \n",
      "\n",
      "\n",
      "^    ^       File \"/usr/lib/python3.11/multiprocessing/process.py\", line 160, in is_alive\n",
      "^         ^       ^  assert self._parent_pid == os.getpid(), 'can only test a child process' ^     ^  \n",
      " \n",
      "       ^  File \"/usr/lib/python3.11/multiprocessing/process.py\", line 160, in is_alive\n",
      "    ^^  ^       ^^ ^^assert self._parent_pid == os.getpid(), 'can only test a child process'  ^  ^ ^^ ^ \n",
      " ^ ^^^^^ ^ ^^^ ^^^^  ^^^^^^ ^ ^^^ ^^^^^ ^ ^ ^^^  ^^^^^ ^^^^^^^^ ^^^^^^^ ^^^ ^^^^^^^^^^^^^^^^^^^^^^^^^^^^^^^^^^^^^^^^^^^^^^^^^^^^^^^^^^^^^^^^^^^^^^^^^^^^^^^^^^^^^^^^^^^^^^^^^^^^^^^^^^^^^^^^^^^^^^^^^^^^^^^^^^^^^^\n",
      "^\n",
      "^AssertionError^^^^^\n",
      ": ^^AssertionError^^^^^^^^: can only test a child processAssertionError^^: ^\n",
      "^can only test a child process^^^can only test a child process^^\n",
      "\n",
      "^^\n",
      "^\n",
      "AssertionError^^\n",
      ": AssertionError^AssertionError^can only test a child process^: ^can only test a child process^\n",
      ": ^\n",
      "\n",
      "^can only test a child process\n",
      "AssertionError^: can only test a child process^\n",
      "^^^^\n",
      "AssertionError: can only test a child process\n"
     ]
    },
    {
     "name": "stdout",
     "output_type": "stream",
     "text": [
      "Stage 24px Ep9 avg saliency loss: 0.123574\n",
      "Stage 24px Ep9 val acc: 78.60%\n"
     ]
    },
    {
     "data": {
      "application/vnd.jupyter.widget-view+json": {
       "model_id": "fb273f243b42420fbc150b002164039d",
       "version_major": 2,
       "version_minor": 0
      },
      "text/plain": [
       "Stage 24px Ep10/10:   0%|          | 0/352 [00:00<?, ?it/s]"
      ]
     },
     "metadata": {},
     "output_type": "display_data"
    },
    {
     "data": {
      "image/png": "[encoded data removed]",
      "text/plain": [
       "<Figure size 800x800 with 4 Axes>"
      ]
     },
     "metadata": {},
     "output_type": "display_data"
    },
    {
     "name": "stdout",
     "output_type": "stream",
     "text": [
      "Stage 24px Ep10 avg saliency loss: 0.122938\n",
      "Stage 24px Ep10 val acc: 78.78%\n",
      "\n",
      "--- Curriculum Stage: Crop 28px for 10 epochs ---\n"
     ]
    },
    {
     "data": {
      "application/vnd.jupyter.widget-view+json": {
       "model_id": "b5618d4ffe934bf29bf24351c2ef13e6",
       "version_major": 2,
       "version_minor": 0
      },
      "text/plain": [
       "Stage 28px Ep1/10:   0%|          | 0/352 [00:00<?, ?it/s]"
      ]
     },
     "metadata": {},
     "output_type": "display_data"
    },
    {
     "data": {
      "image/png": "[encoded data removed]",
      "text/plain": [
       "<Figure size 800x800 with 4 Axes>"
      ]
     },
     "metadata": {},
     "output_type": "display_data"
    },
    {
     "name": "stdout",
     "output_type": "stream",
     "text": [
      "Stage 28px Ep1 avg saliency loss: 0.115522\n",
      "Stage 28px Ep1 val acc: 80.96%\n"
     ]
    },
    {
     "data": {
      "application/vnd.jupyter.widget-view+json": {
       "model_id": "4965fc0016ce41568d40edcd758e2380",
       "version_major": 2,
       "version_minor": 0
      },
      "text/plain": [
       "Stage 28px Ep2/10:   0%|          | 0/352 [00:00<?, ?it/s]"
      ]
     },
     "metadata": {},
     "output_type": "display_data"
    },
    {
     "name": "stdout",
     "output_type": "stream",
     "text": [
      "Stage 28px Ep2 avg saliency loss: 0.114531\n",
      "Stage 28px Ep2 val acc: 80.90%\n"
     ]
    },
    {
     "data": {
      "application/vnd.jupyter.widget-view+json": {
       "model_id": "006fa41dfdb44642a1d3573226e9cb7a",
       "version_major": 2,
       "version_minor": 0
      },
      "text/plain": [
       "Stage 28px Ep3/10:   0%|          | 0/352 [00:00<?, ?it/s]"
      ]
     },
     "metadata": {},
     "output_type": "display_data"
    },
    {
     "name": "stdout",
     "output_type": "stream",
     "text": [
      "Stage 28px Ep3 avg saliency loss: 0.114648\n"
     ]
    },
    {
     "name": "stderr",
     "output_type": "stream",
     "text": [
      "Exception ignored in: Exception ignored in: Exception ignored in: <function _MultiProcessingDataLoaderIter.__del__ at 0x78306c4be340><function _MultiProcessingDataLoaderIter.__del__ at 0x78306c4be340><function _MultiProcessingDataLoaderIter.__del__ at 0x78306c4be340>\n",
      "Traceback (most recent call last):\n",
      "\n",
      "\n",
      "  File \"/usr/local/lib/python3.11/dist-packages/torch/utils/data/dataloader.py\", line 1604, in __del__\n",
      "Traceback (most recent call last):\n",
      "    Traceback (most recent call last):\n",
      "self._shutdown_workers()  File \"/usr/local/lib/python3.11/dist-packages/torch/utils/data/dataloader.py\", line 1604, in __del__\n",
      "  File \"/usr/local/lib/python3.11/dist-packages/torch/utils/data/dataloader.py\", line 1604, in __del__\n",
      "\n",
      "    self._shutdown_workers()  File \"/usr/local/lib/python3.11/dist-packages/torch/utils/data/dataloader.py\", line 1587, in _shutdown_workers\n",
      "    \n",
      "self._shutdown_workers()      File \"/usr/local/lib/python3.11/dist-packages/torch/utils/data/dataloader.py\", line 1587, in _shutdown_workers\n",
      "Exception ignored in: \n",
      "      File \"/usr/local/lib/python3.11/dist-packages/torch/utils/data/dataloader.py\", line 1587, in _shutdown_workers\n",
      "<function _MultiProcessingDataLoaderIter.__del__ at 0x78306c4be340>if w.is_alive():    \n",
      "if w.is_alive():if w.is_alive():\n",
      " Traceback (most recent call last):\n",
      " \n",
      "\n",
      "   File \"/usr/local/lib/python3.11/dist-packages/torch/utils/data/dataloader.py\", line 1604, in __del__\n",
      "           self._shutdown_workers()   \n",
      "     File \"/usr/local/lib/python3.11/dist-packages/torch/utils/data/dataloader.py\", line 1587, in _shutdown_workers\n",
      "       ^^^^if w.is_alive():^^\n",
      " ^ ^  ^^ ^^^^ ^^^^ ^^^ ^^^ ^^^^^^^^^\n",
      "^\n",
      "^^  File \"/usr/lib/python3.11/multiprocessing/process.py\", line 160, in is_alive\n",
      "  File \"/usr/lib/python3.11/multiprocessing/process.py\", line 160, in is_alive\n",
      "^^        ^^assert self._parent_pid == os.getpid(), 'can only test a child process'assert self._parent_pid == os.getpid(), 'can only test a child process'^\n",
      "^ \n",
      "^\n",
      "    File \"/usr/lib/python3.11/multiprocessing/process.py\", line 160, in is_alive\n",
      "^  ^    ^   assert self._parent_pid == os.getpid(), 'can only test a child process'^  ^\n",
      " \n",
      "     File \"/usr/lib/python3.11/multiprocessing/process.py\", line 160, in is_alive\n",
      "            assert self._parent_pid == os.getpid(), 'can only test a child process'  \n",
      "   ^  ^^^  ^ ^ ^ ^^   ^^^^  ^^^ ^^ ^^^^^ ^^^ ^ ^^^^^^^^^^^^^^^^^^^^^^^^^^^^^^^^^^^^^^^^^^^^^^^^^^^^^^^^^^^^^^^^^^^^^^^^^^^^^\n",
      "^^AssertionError^^: \n",
      "^^can only test a child process^AssertionError^\n",
      "^: ^^can only test a child process\n",
      "^\n",
      "^^AssertionError^: ^can only test a child process^\n",
      "^^^\n",
      "AssertionError: can only test a child process\n"
     ]
    },
    {
     "name": "stdout",
     "output_type": "stream",
     "text": [
      "Stage 28px Ep3 val acc: 81.06%\n"
     ]
    },
    {
     "data": {
      "application/vnd.jupyter.widget-view+json": {
       "model_id": "1ada675b1fbd47db846cca0067853c6e",
       "version_major": 2,
       "version_minor": 0
      },
      "text/plain": [
       "Stage 28px Ep4/10:   0%|          | 0/352 [00:00<?, ?it/s]"
      ]
     },
     "metadata": {},
     "output_type": "display_data"
    },
    {
     "name": "stderr",
     "output_type": "stream",
     "text": [
      "Exception ignored in: Exception ignored in: Exception ignored in: <function _MultiProcessingDataLoaderIter.__del__ at 0x78306c4be340><function _MultiProcessingDataLoaderIter.__del__ at 0x78306c4be340><function _MultiProcessingDataLoaderIter.__del__ at 0x78306c4be340>\n",
      "\n",
      "Exception ignored in: <function _MultiProcessingDataLoaderIter.__del__ at 0x78306c4be340>Traceback (most recent call last):\n",
      "Traceback (most recent call last):\n",
      "Exception ignored in: \n",
      "\n",
      "Traceback (most recent call last):\n",
      "  File \"/usr/local/lib/python3.11/dist-packages/torch/utils/data/dataloader.py\", line 1604, in __del__\n",
      "<function _MultiProcessingDataLoaderIter.__del__ at 0x78306c4be340>Traceback (most recent call last):\n",
      "Exception ignored in:   File \"/usr/local/lib/python3.11/dist-packages/torch/utils/data/dataloader.py\", line 1604, in __del__\n",
      "\n",
      "        Traceback (most recent call last):\n",
      "  File \"/usr/local/lib/python3.11/dist-packages/torch/utils/data/dataloader.py\", line 1604, in __del__\n",
      "  File \"/usr/local/lib/python3.11/dist-packages/torch/utils/data/dataloader.py\", line 1604, in __del__\n",
      "self._shutdown_workers()  File \"/usr/local/lib/python3.11/dist-packages/torch/utils/data/dataloader.py\", line 1604, in __del__\n",
      "self._shutdown_workers()\n",
      "<function _MultiProcessingDataLoaderIter.__del__ at 0x78306c4be340>    self._shutdown_workers()    \n",
      "Exception ignored in:     self._shutdown_workers()  File \"/usr/local/lib/python3.11/dist-packages/torch/utils/data/dataloader.py\", line 1587, in _shutdown_workers\n",
      "\n",
      "Traceback (most recent call last):\n",
      "\n",
      "\n",
      "  File \"/usr/local/lib/python3.11/dist-packages/torch/utils/data/dataloader.py\", line 1587, in _shutdown_workers\n",
      "self._shutdown_workers()      File \"/usr/local/lib/python3.11/dist-packages/torch/utils/data/dataloader.py\", line 1604, in __del__\n",
      "  File \"/usr/local/lib/python3.11/dist-packages/torch/utils/data/dataloader.py\", line 1587, in _shutdown_workers\n",
      "<function _MultiProcessingDataLoaderIter.__del__ at 0x78306c4be340>  File \"/usr/local/lib/python3.11/dist-packages/torch/utils/data/dataloader.py\", line 1587, in _shutdown_workers\n",
      "if w.is_alive():    \n",
      "        \n",
      "  File \"/usr/local/lib/python3.11/dist-packages/torch/utils/data/dataloader.py\", line 1587, in _shutdown_workers\n",
      "if w.is_alive():if w.is_alive():self._shutdown_workers()\n",
      "    Traceback (most recent call last):\n",
      "\n",
      "if w.is_alive(): \n",
      "\n",
      "    Exception ignored in:    File \"/usr/local/lib/python3.11/dist-packages/torch/utils/data/dataloader.py\", line 1604, in __del__\n",
      " if w.is_alive():     File \"/usr/local/lib/python3.11/dist-packages/torch/utils/data/dataloader.py\", line 1587, in _shutdown_workers\n",
      "    \n",
      "\n",
      "           self._shutdown_workers()   <function _MultiProcessingDataLoaderIter.__del__ at 0x78306c4be340> if w.is_alive():   \n",
      "  \n",
      "  \n",
      "Traceback (most recent call last):\n",
      "   File \"/usr/local/lib/python3.11/dist-packages/torch/utils/data/dataloader.py\", line 1587, in _shutdown_workers\n",
      "^    File \"/usr/local/lib/python3.11/dist-packages/torch/utils/data/dataloader.py\", line 1604, in __del__\n",
      "        ^       ^ ^if w.is_alive():self._shutdown_workers() ^^^ ^ \n",
      "^  ^\n",
      "^^ ^^^^^^  File \"/usr/local/lib/python3.11/dist-packages/torch/utils/data/dataloader.py\", line 1587, in _shutdown_workers\n",
      "  ^ ^^^^     ^^^^ ^^^if w.is_alive():^^^^ ^^^^^ \n",
      "^^^^^^^ ^ ^^^^^^^ ^^^^^^^ ^\n",
      "^^\n",
      "^ ^  File \"/usr/lib/python3.11/multiprocessing/process.py\", line 160, in is_alive\n",
      "^\n",
      "^^  File \"/usr/lib/python3.11/multiprocessing/process.py\", line 160, in is_alive\n",
      "      File \"/usr/lib/python3.11/multiprocessing/process.py\", line 160, in is_alive\n",
      "^^ ^    ^    ^ assert self._parent_pid == os.getpid(), 'can only test a child process'^assert self._parent_pid == os.getpid(), 'can only test a child process'^\n",
      "\n",
      "assert self._parent_pid == os.getpid(), 'can only test a child process'^ \n",
      "\n",
      "  File \"/usr/lib/python3.11/multiprocessing/process.py\", line 160, in is_alive\n",
      " ^^  File \"/usr/lib/python3.11/multiprocessing/process.py\", line 160, in is_alive\n",
      " \n",
      "^ ^    \n",
      "^ ^  File \"/usr/lib/python3.11/multiprocessing/process.py\", line 160, in is_alive\n",
      "     assert self._parent_pid == os.getpid(), 'can only test a child process'^assert self._parent_pid == os.getpid(), 'can only test a child process'  ^ ^    \n",
      "   ^\n",
      " assert self._parent_pid == os.getpid(), 'can only test a child process' ^ \n",
      "   \n",
      "^      File \"/usr/lib/python3.11/multiprocessing/process.py\", line 160, in is_alive\n",
      "      ^     assert self._parent_pid == os.getpid(), 'can only test a child process'    ^  \n",
      "   ^           ^        ^^^    ^  ^^  ^^^ \n",
      "^  ^^ ^ ^ ^^  File \"/usr/lib/python3.11/multiprocessing/process.py\", line 160, in is_alive\n",
      "^^ ^ ^    ^^  ^assert self._parent_pid == os.getpid(), 'can only test a child process'^^^^ ^^^^^^\n",
      "^^ ^^^ ^^ ^^ ^^^^^^^ ^^^^ ^^^^^^^ ^^^^^^ ^^^^^^^^ ^^^^^^^^^^^^^ ^ ^^^^^^^^ ^^^^^^ ^^^^^^^^^^^^^^^^^^^^^^^^^^^^^^^^^^^^^^^^^^^^^^^^^^^^^^^^^^^^^^^^^^^^^^^^^^^^^^^^^^^^^^^^^^^^^^^^^^^^\n",
      "^^^^^^^AssertionError^\n",
      "^: ^AssertionError^^^^^can only test a child process^^^^: ^^\n",
      "^^^can only test a child process\n",
      "^^^^\n",
      "^^AssertionError^^^\n",
      "\n",
      "^\n",
      "AssertionErrorAssertionError^: ^: can only test a child processAssertionError: ^^can only test a child process: ^\n",
      "\n",
      "can only test a child processAssertionError\n",
      "can only test a child process^: ^can only test a child process\n",
      "\n",
      "\n",
      "^^^^^^^^\n",
      "AssertionError: can only test a child process\n"
     ]
    },
    {
     "name": "stdout",
     "output_type": "stream",
     "text": [
      "Stage 28px Ep4 avg saliency loss: 0.114024\n",
      "Stage 28px Ep4 val acc: 81.58%\n"
     ]
    },
    {
     "data": {
      "application/vnd.jupyter.widget-view+json": {
       "model_id": "b5a2a07a2541483b9824b9338db477ef",
       "version_major": 2,
       "version_minor": 0
      },
      "text/plain": [
       "Stage 28px Ep5/10:   0%|          | 0/352 [00:00<?, ?it/s]"
      ]
     },
     "metadata": {},
     "output_type": "display_data"
    },
    {
     "name": "stdout",
     "output_type": "stream",
     "text": [
      "Stage 28px Ep5 avg saliency loss: 0.113912\n",
      "Stage 28px Ep5 val acc: 81.50%\n"
     ]
    },
    {
     "data": {
      "application/vnd.jupyter.widget-view+json": {
       "model_id": "75b6a2e1bed74e6fbe2137cf67ec021c",
       "version_major": 2,
       "version_minor": 0
      },
      "text/plain": [
       "Stage 28px Ep6/10:   0%|          | 0/352 [00:00<?, ?it/s]"
      ]
     },
     "metadata": {},
     "output_type": "display_data"
    },
    {
     "name": "stdout",
     "output_type": "stream",
     "text": [
      "Stage 28px Ep6 avg saliency loss: 0.113511\n",
      "Stage 28px Ep6 val acc: 80.94%\n"
     ]
    },
    {
     "data": {
      "application/vnd.jupyter.widget-view+json": {
       "model_id": "fcd9ab775c594528a7d254796f872674",
       "version_major": 2,
       "version_minor": 0
      },
      "text/plain": [
       "Stage 28px Ep7/10:   0%|          | 0/352 [00:00<?, ?it/s]"
      ]
     },
     "metadata": {},
     "output_type": "display_data"
    },
    {
     "name": "stderr",
     "output_type": "stream",
     "text": [
      "Exception ignored in: <function _MultiProcessingDataLoaderIter.__del__ at 0x78306c4be340>\n",
      "Traceback (most recent call last):\n",
      "  File \"/usr/local/lib/python3.11/dist-packages/torch/utils/data/dataloader.py\", line 1604, in __del__\n",
      "    self._shutdown_workers()\n",
      "  File \"/usr/local/lib/python3.11/dist-packages/torch/utils/data/dataloader.py\", line 1587, in _shutdown_workers\n",
      "    if w.is_alive():\n",
      "       ^^^^^^^^^^^^\n",
      "  File \"/usr/lib/python3.11/multiprocessing/process.py\", line 160, in is_alive\n",
      "    assert self._parent_pid == os.getpid(), 'can only test a child process'\n",
      "           ^^^^^^^^^^^^^^^^^^^^^^^^^^^^^^^\n",
      "AssertionError: can only test a child process\n",
      "Exception ignored in: <function _MultiProcessingDataLoaderIter.__del__ at 0x78306c4be340>\n",
      "Traceback (most recent call last):\n",
      "  File \"/usr/local/lib/python3.11/dist-packages/torch/utils/data/dataloader.py\", line 1604, in __del__\n",
      "    self._shutdown_workers()\n",
      "  File \"/usr/local/lib/python3.11/dist-packages/torch/utils/data/dataloader.py\", line 1587, in _shutdown_workers\n",
      "    if w.is_alive():\n",
      "       ^^^^^^^^^^^^\n",
      "  File \"/usr/lib/python3.11/multiprocessing/process.py\", line 160, in is_alive\n",
      "    assert self._parent_pid == os.getpid(), 'can only test a child process'\n",
      "           ^^^^^^^^^^^^^^^^^^^^^^^^^^^^^^^\n",
      "AssertionError: can only test a child process\n",
      "Exception ignored in: <function _MultiProcessingDataLoaderIter.__del__ at 0x78306c4be340>\n",
      "Traceback (most recent call last):\n",
      "  File \"/usr/local/lib/python3.11/dist-packages/torch/utils/data/dataloader.py\", line 1604, in __del__\n",
      "    self._shutdown_workers()\n",
      "  File \"/usr/local/lib/python3.11/dist-packages/torch/utils/data/dataloader.py\", line 1587, in _shutdown_workers\n",
      "    if w.is_alive():\n",
      "       ^^^^^^^^^^^^\n",
      "  File \"/usr/lib/python3.11/multiprocessing/process.py\", line 160, in is_alive\n",
      "    assert self._parent_pid == os.getpid(), 'can only test a child process'\n",
      "           ^^^^^^^^^^^^^^^^^^^^^^^^^^^^^^^\n",
      "AssertionError: can only test a child process\n",
      "Exception ignored in: <function _MultiProcessingDataLoaderIter.__del__ at 0x78306c4be340>\n",
      "Traceback (most recent call last):\n",
      "  File \"/usr/local/lib/python3.11/dist-packages/torch/utils/data/dataloader.py\", line 1604, in __del__\n",
      "    self._shutdown_workers()\n",
      "  File \"/usr/local/lib/python3.11/dist-packages/torch/utils/data/dataloader.py\", line 1587, in _shutdown_workers\n",
      "    if w.is_alive():\n",
      "       ^^^^^^^^^^^^\n",
      "  File \"/usr/lib/python3.11/multiprocessing/process.py\", line 160, in is_alive\n",
      "    assert self._parent_pid == os.getpid(), 'can only test a child process'\n",
      "           ^^^^^^^^^^^^^^^^^^^^^^^^^^^^^^^\n",
      "AssertionError: can only test a child process\n"
     ]
    },
    {
     "name": "stdout",
     "output_type": "stream",
     "text": [
      "Stage 28px Ep7 avg saliency loss: 0.113360\n",
      "Stage 28px Ep7 val acc: 81.26%\n"
     ]
    },
    {
     "data": {
      "application/vnd.jupyter.widget-view+json": {
       "model_id": "43a38918cbdf49708de50298e1788b47",
       "version_major": 2,
       "version_minor": 0
      },
      "text/plain": [
       "Stage 28px Ep8/10:   0%|          | 0/352 [00:00<?, ?it/s]"
      ]
     },
     "metadata": {},
     "output_type": "display_data"
    },
    {
     "name": "stdout",
     "output_type": "stream",
     "text": [
      "Stage 28px Ep8 avg saliency loss: 0.112714\n",
      "Stage 28px Ep8 val acc: 81.34%\n"
     ]
    },
    {
     "data": {
      "application/vnd.jupyter.widget-view+json": {
       "model_id": "311cec6127d54ef187af3cdf7c3b53ff",
       "version_major": 2,
       "version_minor": 0
      },
      "text/plain": [
       "Stage 28px Ep9/10:   0%|          | 0/352 [00:00<?, ?it/s]"
      ]
     },
     "metadata": {},
     "output_type": "display_data"
    },
    {
     "name": "stdout",
     "output_type": "stream",
     "text": [
      "Stage 28px Ep9 avg saliency loss: 0.112398\n"
     ]
    },
    {
     "name": "stderr",
     "output_type": "stream",
     "text": [
      "Exception ignored in: Exception ignored in: Exception ignored in: <function _MultiProcessingDataLoaderIter.__del__ at 0x78306c4be340><function _MultiProcessingDataLoaderIter.__del__ at 0x78306c4be340><function _MultiProcessingDataLoaderIter.__del__ at 0x78306c4be340>\n",
      "\n",
      "Traceback (most recent call last):\n",
      "\n",
      "Traceback (most recent call last):\n",
      "Traceback (most recent call last):\n",
      "  File \"/usr/local/lib/python3.11/dist-packages/torch/utils/data/dataloader.py\", line 1604, in __del__\n",
      "  File \"/usr/local/lib/python3.11/dist-packages/torch/utils/data/dataloader.py\", line 1604, in __del__\n",
      "  File \"/usr/local/lib/python3.11/dist-packages/torch/utils/data/dataloader.py\", line 1604, in __del__\n",
      "            Exception ignored in: self._shutdown_workers()self._shutdown_workers()<function _MultiProcessingDataLoaderIter.__del__ at 0x78306c4be340>\n",
      "\n",
      "self._shutdown_workers()\n",
      "  File \"/usr/local/lib/python3.11/dist-packages/torch/utils/data/dataloader.py\", line 1587, in _shutdown_workers\n",
      "  File \"/usr/local/lib/python3.11/dist-packages/torch/utils/data/dataloader.py\", line 1587, in _shutdown_workers\n",
      "\n",
      "Traceback (most recent call last):\n",
      "  File \"/usr/local/lib/python3.11/dist-packages/torch/utils/data/dataloader.py\", line 1587, in _shutdown_workers\n",
      "            if w.is_alive():\n",
      "  File \"/usr/local/lib/python3.11/dist-packages/torch/utils/data/dataloader.py\", line 1604, in __del__\n",
      "if w.is_alive(): if w.is_alive():     \n",
      "\n",
      " self._shutdown_workers()      \n",
      "    File \"/usr/local/lib/python3.11/dist-packages/torch/utils/data/dataloader.py\", line 1587, in _shutdown_workers\n",
      "           ^if w.is_alive():  ^\n",
      " ^^^ ^^ ^^^^^^ ^^^^^ ^^^^ ^^^ ^ ^^^^^^^^^^^\n",
      "\n",
      "^^  File \"/usr/lib/python3.11/multiprocessing/process.py\", line 160, in is_alive\n",
      "  File \"/usr/lib/python3.11/multiprocessing/process.py\", line 160, in is_alive\n",
      "^    ^    ^assert self._parent_pid == os.getpid(), 'can only test a child process'\n",
      "assert self._parent_pid == os.getpid(), 'can only test a child process'^  File \"/usr/lib/python3.11/multiprocessing/process.py\", line 160, in is_alive\n",
      "\n",
      "\n",
      " ^      assert self._parent_pid == os.getpid(), 'can only test a child process'^  ^ \n",
      " ^   ^    \n",
      "     File \"/usr/lib/python3.11/multiprocessing/process.py\", line 160, in is_alive\n",
      "          assert self._parent_pid == os.getpid(), 'can only test a child process'   \n",
      "      ^^  ^ ^ ^^^ ^ ^^^^ ^ ^^^^ ^^^ ^^^^ ^^ ^^^^^^^^^^^^^^^^^^^^^^^^^^^^^^^^^^^^^^^^^^^^^^^^^^^^^^^^^^^^^^^^^^^^^^^^^^^^^^^^^^^^\n",
      "^AssertionError^\n",
      "^: ^^AssertionError^can only test a child process: \n",
      "\n",
      "^AssertionErrorcan only test a child process: \n",
      "^^can only test a child process^\n",
      "^^^^\n",
      "AssertionError: can only test a child process\n"
     ]
    },
    {
     "name": "stdout",
     "output_type": "stream",
     "text": [
      "Stage 28px Ep9 val acc: 81.30%\n"
     ]
    },
    {
     "data": {
      "application/vnd.jupyter.widget-view+json": {
       "model_id": "732565e847334970bf48db275ef8ca23",
       "version_major": 2,
       "version_minor": 0
      },
      "text/plain": [
       "Stage 28px Ep10/10:   0%|          | 0/352 [00:00<?, ?it/s]"
      ]
     },
     "metadata": {},
     "output_type": "display_data"
    },
    {
     "name": "stderr",
     "output_type": "stream",
     "text": [
      "Exception ignored in: Exception ignored in: <function _MultiProcessingDataLoaderIter.__del__ at 0x78306c4be340><function _MultiProcessingDataLoaderIter.__del__ at 0x78306c4be340>\n",
      "\n",
      "Traceback (most recent call last):\n",
      "Exception ignored in: Traceback (most recent call last):\n",
      "  File \"/usr/local/lib/python3.11/dist-packages/torch/utils/data/dataloader.py\", line 1604, in __del__\n",
      "  File \"/usr/local/lib/python3.11/dist-packages/torch/utils/data/dataloader.py\", line 1604, in __del__\n",
      "Exception ignored in: Exception ignored in:     <function _MultiProcessingDataLoaderIter.__del__ at 0x78306c4be340>    <function _MultiProcessingDataLoaderIter.__del__ at 0x78306c4be340><function _MultiProcessingDataLoaderIter.__del__ at 0x78306c4be340>\n",
      "self._shutdown_workers()\n",
      "self._shutdown_workers()\n",
      "\n",
      "Traceback (most recent call last):\n",
      "Traceback (most recent call last):\n",
      "Traceback (most recent call last):\n",
      "\n",
      "Exception ignored in:   File \"/usr/local/lib/python3.11/dist-packages/torch/utils/data/dataloader.py\", line 1587, in _shutdown_workers\n",
      "  File \"/usr/local/lib/python3.11/dist-packages/torch/utils/data/dataloader.py\", line 1604, in __del__\n",
      "  File \"/usr/local/lib/python3.11/dist-packages/torch/utils/data/dataloader.py\", line 1604, in __del__\n",
      "  File \"/usr/local/lib/python3.11/dist-packages/torch/utils/data/dataloader.py\", line 1587, in _shutdown_workers\n",
      "  File \"/usr/local/lib/python3.11/dist-packages/torch/utils/data/dataloader.py\", line 1604, in __del__\n",
      "                    <function _MultiProcessingDataLoaderIter.__del__ at 0x78306c4be340>self._shutdown_workers()Exception ignored in: self._shutdown_workers()if w.is_alive():\n",
      "if w.is_alive():self._shutdown_workers()\n",
      "Traceback (most recent call last):\n",
      "\n",
      "  File \"/usr/local/lib/python3.11/dist-packages/torch/utils/data/dataloader.py\", line 1587, in _shutdown_workers\n",
      "\n",
      "\n",
      "  File \"/usr/local/lib/python3.11/dist-packages/torch/utils/data/dataloader.py\", line 1587, in _shutdown_workers\n",
      "\n",
      "  File \"/usr/local/lib/python3.11/dist-packages/torch/utils/data/dataloader.py\", line 1604, in __del__\n",
      "           File \"/usr/local/lib/python3.11/dist-packages/torch/utils/data/dataloader.py\", line 1587, in _shutdown_workers\n",
      "     <function _MultiProcessingDataLoaderIter.__del__ at 0x78306c4be340>if w.is_alive():if w.is_alive():self._shutdown_workers()      \n",
      "\n",
      "\n",
      "\n",
      "if w.is_alive():Traceback (most recent call last):\n",
      "  File \"/usr/local/lib/python3.11/dist-packages/torch/utils/data/dataloader.py\", line 1587, in _shutdown_workers\n",
      "         \n",
      "  File \"/usr/local/lib/python3.11/dist-packages/torch/utils/data/dataloader.py\", line 1604, in __del__\n",
      "  if w.is_alive():        Exception ignored in:   self._shutdown_workers() \n",
      "    \n",
      "   File \"/usr/local/lib/python3.11/dist-packages/torch/utils/data/dataloader.py\", line 1587, in _shutdown_workers\n",
      "       ^       ^  ^^^if w.is_alive(): <function _MultiProcessingDataLoaderIter.__del__ at 0x78306c4be340> ^^^ \n",
      "\n",
      " ^ ^^^ ^Traceback (most recent call last):\n",
      "^ ^^^  File \"/usr/local/lib/python3.11/dist-packages/torch/utils/data/dataloader.py\", line 1604, in __del__\n",
      "^^ ^^ ^    ^^^ ^^^^^self._shutdown_workers()^^ ^^^^^\n",
      " ^^^^^  File \"/usr/local/lib/python3.11/dist-packages/torch/utils/data/dataloader.py\", line 1587, in _shutdown_workers\n",
      "^^ ^^^^^    ^^^^ ^^if w.is_alive():^^^^\n",
      "^^\n",
      "\n",
      "^^\n",
      "   File \"/usr/lib/python3.11/multiprocessing/process.py\", line 160, in is_alive\n",
      "  File \"/usr/lib/python3.11/multiprocessing/process.py\", line 160, in is_alive\n",
      "^^^\n",
      "   File \"/usr/lib/python3.11/multiprocessing/process.py\", line 160, in is_alive\n",
      "    ^^^^^  File \"/usr/lib/python3.11/multiprocessing/process.py\", line 160, in is_alive\n",
      "assert self._parent_pid == os.getpid(), 'can only test a child process'^    \n",
      "assert self._parent_pid == os.getpid(), 'can only test a child process'    ^     ^ \n",
      "\n",
      "assert self._parent_pid == os.getpid(), 'can only test a child process'  File \"/usr/lib/python3.11/multiprocessing/process.py\", line 160, in is_alive\n",
      "assert self._parent_pid == os.getpid(), 'can only test a child process'^^ ^      \n",
      " ^\n",
      "assert self._parent_pid == os.getpid(), 'can only test a child process'^    \n",
      "\n",
      "^   ^   File \"/usr/lib/python3.11/multiprocessing/process.py\", line 160, in is_alive\n",
      " ^   ^   ^         assert self._parent_pid == os.getpid(), 'can only test a child process' ^   ^ \n",
      "  ^  ^     ^  \n",
      " ^         File \"/usr/lib/python3.11/multiprocessing/process.py\", line 160, in is_alive\n",
      "   ^      ^     ^  ^^^  ^assert self._parent_pid == os.getpid(), 'can only test a child process' ^^^^^ \n",
      " ^^^^ ^^^  ^^^^^\n",
      "^  ^^ ^  File \"/usr/lib/python3.11/multiprocessing/process.py\", line 160, in is_alive\n",
      "^^^^^    ^ assert self._parent_pid == os.getpid(), 'can only test a child process'^^^ ^^\n",
      "^^^^^ ^^ ^^^^ ^ ^^^ ^^^ ^ ^^ ^^^^ ^^^ ^^ ^^^^^ ^^ ^ ^^^^^^^ ^^^^^^^^ ^^^^^^ ^^^^^^^^^^^ ^^^^^^^^^^^^^^^^^^^^^^^^^^^^^^^^^^^^^^^^^^^^^^^^^^^^^^^^^^^^^^^^^^^^^^^^^^^^^^^^^^^^^^^^^^^^^^\n",
      "^^^^^^\n",
      "^AssertionError^^^AssertionError^\n",
      "^^^: ^AssertionError^: ^\n",
      "^can only test a child process^^AssertionErrorcan only test a child process^^: \n",
      ": \n",
      "^\n",
      "^can only test a child processAssertionErrorcan only test a child process^^^\n",
      "\n",
      "^^: ^can only test a child process^\n",
      "\n",
      "^^AssertionError^: ^can only test a child process^^\n",
      "^^^^^^^^\n",
      "^AssertionError: ^can only test a child process\n",
      "^^^^\n",
      "AssertionError: can only test a child process\n"
     ]
    },
    {
     "data": {
      "image/png": "[encoded data removed]",
      "text/plain": [
       "<Figure size 800x800 with 4 Axes>"
      ]
     },
     "metadata": {},
     "output_type": "display_data"
    },
    {
     "name": "stdout",
     "output_type": "stream",
     "text": [
      "Stage 28px Ep10 avg saliency loss: 0.112579\n",
      "Stage 28px Ep10 val acc: 80.92%\n",
      "\n",
      "--- Curriculum Stage: Crop 32px for 10 epochs ---\n"
     ]
    },
    {
     "data": {
      "application/vnd.jupyter.widget-view+json": {
       "model_id": "4acc0b15ed7b41b99f9bdde80a08df94",
       "version_major": 2,
       "version_minor": 0
      },
      "text/plain": [
       "Stage 32px Ep1/10:   0%|          | 0/352 [00:00<?, ?it/s]"
      ]
     },
     "metadata": {},
     "output_type": "display_data"
    },
    {
     "data": {
      "image/png": "[encoded data removed]",
      "text/plain": [
       "<Figure size 800x800 with 4 Axes>"
      ]
     },
     "metadata": {},
     "output_type": "display_data"
    },
    {
     "name": "stdout",
     "output_type": "stream",
     "text": [
      "Stage 32px Ep1 avg saliency loss: 0.105121\n",
      "Stage 32px Ep1 val acc: 81.92%\n"
     ]
    },
    {
     "data": {
      "application/vnd.jupyter.widget-view+json": {
       "model_id": "d67c133e5bb741e4afd922e5784b0b03",
       "version_major": 2,
       "version_minor": 0
      },
      "text/plain": [
       "Stage 32px Ep2/10:   0%|          | 0/352 [00:00<?, ?it/s]"
      ]
     },
     "metadata": {},
     "output_type": "display_data"
    },
    {
     "name": "stdout",
     "output_type": "stream",
     "text": [
      "Stage 32px Ep2 avg saliency loss: 0.104635\n",
      "Stage 32px Ep2 val acc: 81.76%\n"
     ]
    },
    {
     "data": {
      "application/vnd.jupyter.widget-view+json": {
       "model_id": "2bc4b5e13a4a4ca8996382529dd695bd",
       "version_major": 2,
       "version_minor": 0
      },
      "text/plain": [
       "Stage 32px Ep3/10:   0%|          | 0/352 [00:00<?, ?it/s]"
      ]
     },
     "metadata": {},
     "output_type": "display_data"
    },
    {
     "name": "stderr",
     "output_type": "stream",
     "text": [
      "Exception ignored in: <function _MultiProcessingDataLoaderIter.__del__ at 0x78306c4be340>\n",
      "Traceback (most recent call last):\n",
      "  File \"/usr/local/lib/python3.11/dist-packages/torch/utils/data/dataloader.py\", line 1604, in __del__\n",
      "    self._shutdown_workers()\n",
      "  File \"/usr/local/lib/python3.11/dist-packages/torch/utils/data/dataloader.py\", line 1587, in _shutdown_workers\n",
      "    if w.is_alive():\n",
      "       ^^^^^^^^^^^^\n",
      "  File \"/usr/lib/python3.11/multiprocessing/process.py\", line 160, in is_alive\n",
      "    assert self._parent_pid == os.getpid(), 'can only test a child process'\n",
      "           ^^^^^^^^^^^^^^^^^^^^^^^^^^^^^^^\n",
      "AssertionError: can only test a child process\n",
      "Exception ignored in: <function _MultiProcessingDataLoaderIter.__del__ at 0x78306c4be340>\n",
      "Traceback (most recent call last):\n",
      "  File \"/usr/local/lib/python3.11/dist-packages/torch/utils/data/dataloader.py\", line 1604, in __del__\n",
      "    self._shutdown_workers()\n",
      "  File \"/usr/local/lib/python3.11/dist-packages/torch/utils/data/dataloader.py\", line 1587, in _shutdown_workers\n",
      "    if w.is_alive():\n",
      "       ^^^^^^^^^^^^\n",
      "  File \"/usr/lib/python3.11/multiprocessing/process.py\", line 160, in is_alive\n",
      "    assert self._parent_pid == os.getpid(), 'can only test a child process'\n",
      "           ^^^^^^^^^^^^^^^^^^^^^^^^^^^^^^^\n",
      "AssertionError: can only test a child process\n",
      "Exception ignored in: <function _MultiProcessingDataLoaderIter.__del__ at 0x78306c4be340>\n",
      "Traceback (most recent call last):\n",
      "  File \"/usr/local/lib/python3.11/dist-packages/torch/utils/data/dataloader.py\", line 1604, in __del__\n",
      "    self._shutdown_workers()\n",
      "  File \"/usr/local/lib/python3.11/dist-packages/torch/utils/data/dataloader.py\", line 1587, in _shutdown_workers\n",
      "    if w.is_alive():\n",
      "       ^^^^^^^^^^^^\n",
      "  File \"/usr/lib/python3.11/multiprocessing/process.py\", line 160, in is_alive\n",
      "    assert self._parent_pid == os.getpid(), 'can only test a child process'\n",
      "           ^^^^^^^^^^^^^^^^^^^^^^^^^^^^^^^\n",
      "AssertionError: can only test a child process\n",
      "Exception ignored in: <function _MultiProcessingDataLoaderIter.__del__ at 0x78306c4be340>\n",
      "Traceback (most recent call last):\n",
      "  File \"/usr/local/lib/python3.11/dist-packages/torch/utils/data/dataloader.py\", line 1604, in __del__\n",
      "    self._shutdown_workers()\n",
      "  File \"/usr/local/lib/python3.11/dist-packages/torch/utils/data/dataloader.py\", line 1587, in _shutdown_workers\n",
      "    if w.is_alive():\n",
      "       ^^^^^^^^^^^^\n",
      "  File \"/usr/lib/python3.11/multiprocessing/process.py\", line 160, in is_alive\n",
      "    assert self._parent_pid == os.getpid(), 'can only test a child process'\n",
      "           ^^^^^^^^^^^^^^^^^^^^^^^^^^^^^^^\n",
      "AssertionError: can only test a child process\n"
     ]
    },
    {
     "name": "stdout",
     "output_type": "stream",
     "text": [
      "Stage 32px Ep3 avg saliency loss: 0.103979\n",
      "Stage 32px Ep3 val acc: 82.42%\n"
     ]
    },
    {
     "data": {
      "application/vnd.jupyter.widget-view+json": {
       "model_id": "597110f6fd674741bd2d0e8018c14730",
       "version_major": 2,
       "version_minor": 0
      },
      "text/plain": [
       "Stage 32px Ep4/10:   0%|          | 0/352 [00:00<?, ?it/s]"
      ]
     },
     "metadata": {},
     "output_type": "display_data"
    },
    {
     "name": "stdout",
     "output_type": "stream",
     "text": [
      "Stage 32px Ep4 avg saliency loss: 0.103883\n",
      "Stage 32px Ep4 val acc: 82.24%\n"
     ]
    },
    {
     "data": {
      "application/vnd.jupyter.widget-view+json": {
       "model_id": "ae151edd2e504000802d16de75ca5ffd",
       "version_major": 2,
       "version_minor": 0
      },
      "text/plain": [
       "Stage 32px Ep5/10:   0%|          | 0/352 [00:00<?, ?it/s]"
      ]
     },
     "metadata": {},
     "output_type": "display_data"
    },
    {
     "name": "stdout",
     "output_type": "stream",
     "text": [
      "Stage 32px Ep5 avg saliency loss: 0.103719\n",
      "Stage 32px Ep5 val acc: 81.50%\n"
     ]
    },
    {
     "data": {
      "application/vnd.jupyter.widget-view+json": {
       "model_id": "b3763c394fda42d1abbcd851899b261a",
       "version_major": 2,
       "version_minor": 0
      },
      "text/plain": [
       "Stage 32px Ep6/10:   0%|          | 0/352 [00:00<?, ?it/s]"
      ]
     },
     "metadata": {},
     "output_type": "display_data"
    },
    {
     "name": "stderr",
     "output_type": "stream",
     "text": [
      "Exception ignored in: <function _MultiProcessingDataLoaderIter.__del__ at 0x78306c4be340>\n",
      "Traceback (most recent call last):\n",
      "  File \"/usr/local/lib/python3.11/dist-packages/torch/utils/data/dataloader.py\", line 1604, in __del__\n",
      "    self._shutdown_workers()\n",
      "  File \"/usr/local/lib/python3.11/dist-packages/torch/utils/data/dataloader.py\", line 1587, in _shutdown_workers\n",
      "    if w.is_alive():\n",
      "       ^^^^^^^^^^^^\n",
      "  File \"/usr/lib/python3.11/multiprocessing/process.py\", line 160, in is_alive\n",
      "    Exception ignored in: <function _MultiProcessingDataLoaderIter.__del__ at 0x78306c4be340>assert self._parent_pid == os.getpid(), 'can only test a child process'\n",
      " \n",
      "Traceback (most recent call last):\n",
      "   File \"/usr/local/lib/python3.11/dist-packages/torch/utils/data/dataloader.py\", line 1604, in __del__\n",
      "      self._shutdown_workers() \n",
      "   File \"/usr/local/lib/python3.11/dist-packages/torch/utils/data/dataloader.py\", line 1587, in _shutdown_workers\n",
      "         Exception ignored in: if w.is_alive():^\n",
      "<function _MultiProcessingDataLoaderIter.__del__ at 0x78306c4be340>^^\n",
      "Traceback (most recent call last):\n",
      " ^   File \"/usr/local/lib/python3.11/dist-packages/torch/utils/data/dataloader.py\", line 1604, in __del__\n",
      "^ ^     ^ self._shutdown_workers() ^\n",
      " ^  File \"/usr/local/lib/python3.11/dist-packages/torch/utils/data/dataloader.py\", line 1587, in _shutdown_workers\n",
      "^^^    ^if w.is_alive():^^\n",
      "^^ ^^ ^ ^^^ ^^  ^ ^^^^^^^^^^\n",
      "^  File \"/usr/lib/python3.11/multiprocessing/process.py\", line 160, in is_alive\n",
      "^^    ^assert self._parent_pid == os.getpid(), 'can only test a child process'^\n",
      "^^^ ^^ ^ ^^ ^ ^^ ^^ ^\n",
      " \n",
      "  File \"/usr/lib/python3.11/multiprocessing/process.py\", line 160, in is_alive\n",
      " AssertionError:      can only test a child process ^\n",
      "assert self._parent_pid == os.getpid(), 'can only test a child process'^\n",
      "^  ^ ^ ^ ^   ^ ^^^ ^ ^^^^^^^^^^^^^^^^^^^^^^^^^^^^^^^^^\n",
      "AssertionError^: ^can only test a child process\n",
      "^^^^^^^^^^^^^^^\n",
      "AssertionError: can only test a child process\n",
      "Exception ignored in: <function _MultiProcessingDataLoaderIter.__del__ at 0x78306c4be340>\n",
      "Traceback (most recent call last):\n",
      "  File \"/usr/local/lib/python3.11/dist-packages/torch/utils/data/dataloader.py\", line 1604, in __del__\n",
      "    self._shutdown_workers()\n",
      "  File \"/usr/local/lib/python3.11/dist-packages/torch/utils/data/dataloader.py\", line 1587, in _shutdown_workers\n",
      "    if w.is_alive():\n",
      "       ^^^^^^^^^^^^\n",
      "  File \"/usr/lib/python3.11/multiprocessing/process.py\", line 160, in is_alive\n",
      "    assert self._parent_pid == os.getpid(), 'can only test a child process'\n",
      "           ^^^^^^^^^^^^^^^^^^^^^^^^^^^^^^^\n",
      "AssertionError: can only test a child process\n"
     ]
    },
    {
     "name": "stdout",
     "output_type": "stream",
     "text": [
      "Stage 32px Ep6 avg saliency loss: 0.103895\n",
      "Stage 32px Ep6 val acc: 82.16%\n"
     ]
    },
    {
     "data": {
      "application/vnd.jupyter.widget-view+json": {
       "model_id": "ff035d1252b940069d1608ea91f3a576",
       "version_major": 2,
       "version_minor": 0
      },
      "text/plain": [
       "Stage 32px Ep7/10:   0%|          | 0/352 [00:00<?, ?it/s]"
      ]
     },
     "metadata": {},
     "output_type": "display_data"
    },
    {
     "name": "stdout",
     "output_type": "stream",
     "text": [
      "Stage 32px Ep7 avg saliency loss: 0.103368\n",
      "Stage 32px Ep7 val acc: 81.90%\n"
     ]
    },
    {
     "data": {
      "application/vnd.jupyter.widget-view+json": {
       "model_id": "e3f3b538af134acaacd10b5f7fe48e64",
       "version_major": 2,
       "version_minor": 0
      },
      "text/plain": [
       "Stage 32px Ep8/10:   0%|          | 0/352 [00:00<?, ?it/s]"
      ]
     },
     "metadata": {},
     "output_type": "display_data"
    },
    {
     "name": "stdout",
     "output_type": "stream",
     "text": [
      "Stage 32px Ep8 avg saliency loss: 0.102741\n",
      "Stage 32px Ep8 val acc: 82.88%\n"
     ]
    },
    {
     "data": {
      "application/vnd.jupyter.widget-view+json": {
       "model_id": "4c6ebdf9c34145edbcb2c963350e735e",
       "version_major": 2,
       "version_minor": 0
      },
      "text/plain": [
       "Stage 32px Ep9/10:   0%|          | 0/352 [00:00<?, ?it/s]"
      ]
     },
     "metadata": {},
     "output_type": "display_data"
    },
    {
     "name": "stderr",
     "output_type": "stream",
     "text": [
      "Exception ignored in: <function _MultiProcessingDataLoaderIter.__del__ at 0x78306c4be340>\n",
      "Traceback (most recent call last):\n",
      "  File \"/usr/local/lib/python3.11/dist-packages/torch/utils/data/dataloader.py\", line 1604, in __del__\n",
      "    self._shutdown_workers()\n",
      "  File \"/usr/local/lib/python3.11/dist-packages/torch/utils/data/dataloader.py\", line 1587, in _shutdown_workers\n",
      "    if w.is_alive():\n",
      "       ^^^^^^^^^^^^\n",
      "  File \"/usr/lib/python3.11/multiprocessing/process.py\", line 160, in is_alive\n",
      "    assert self._parent_pid == os.getpid(), 'can only test a child process'\n",
      "       Exception ignored in:  Exception ignored in: <function _MultiProcessingDataLoaderIter.__del__ at 0x78306c4be340> <function _MultiProcessingDataLoaderIter.__del__ at 0x78306c4be340> \n",
      "\n",
      " ^Traceback (most recent call last):\n",
      "^Traceback (most recent call last):\n",
      "  File \"/usr/local/lib/python3.11/dist-packages/torch/utils/data/dataloader.py\", line 1604, in __del__\n",
      "      File \"/usr/local/lib/python3.11/dist-packages/torch/utils/data/dataloader.py\", line 1604, in __del__\n",
      "^self._shutdown_workers()\n",
      "^  File \"/usr/local/lib/python3.11/dist-packages/torch/utils/data/dataloader.py\", line 1587, in _shutdown_workers\n",
      "^        self._shutdown_workers()if w.is_alive():^\n",
      "^\n",
      "  File \"/usr/local/lib/python3.11/dist-packages/torch/utils/data/dataloader.py\", line 1587, in _shutdown_workers\n",
      " ^ ^    ^ if w.is_alive():^ \n",
      " ^  ^  ^^^ ^  ^^ ^^ ^^^^^^^^^^^^^^^^^^^^^^\n",
      "^^  File \"/usr/lib/python3.11/multiprocessing/process.py\", line 160, in is_alive\n",
      "^    ^assert self._parent_pid == os.getpid(), 'can only test a child process'^\n",
      "^ ^^ ^^AssertionError^ ^\n",
      ": can only test a child process \n",
      " \n",
      "  File \"/usr/lib/python3.11/multiprocessing/process.py\", line 160, in is_alive\n",
      "       assert self._parent_pid == os.getpid(), 'can only test a child process' \n",
      "    ^ ^ ^^ ^ ^^ ^  ^ ^ ^^^^^^^^^^^^^^^^^^^^^^^^^^^^^^^^^^^^^^^^^^\n",
      "AssertionError^: can only test a child process^\n",
      "^^^^^^^^\n",
      "AssertionError: can only test a child process\n",
      "Exception ignored in: <function _MultiProcessingDataLoaderIter.__del__ at 0x78306c4be340>\n",
      "Traceback (most recent call last):\n",
      "  File \"/usr/local/lib/python3.11/dist-packages/torch/utils/data/dataloader.py\", line 1604, in __del__\n",
      "    self._shutdown_workers()\n",
      "  File \"/usr/local/lib/python3.11/dist-packages/torch/utils/data/dataloader.py\", line 1587, in _shutdown_workers\n",
      "    if w.is_alive():\n",
      "       ^^^^^^^^^^^^\n",
      "  File \"/usr/lib/python3.11/multiprocessing/process.py\", line 160, in is_alive\n",
      "    assert self._parent_pid == os.getpid(), 'can only test a child process'\n",
      "           ^^^^^^^^^^^^^^^^^^^^^^^^^^^^^^^\n",
      "AssertionError: can only test a child process\n"
     ]
    },
    {
     "name": "stdout",
     "output_type": "stream",
     "text": [
      "Stage 32px Ep9 avg saliency loss: 0.102464\n",
      "Stage 32px Ep9 val acc: 82.38%\n"
     ]
    },
    {
     "data": {
      "application/vnd.jupyter.widget-view+json": {
       "model_id": "1984c6f7c0d34568b1a425cee3456192",
       "version_major": 2,
       "version_minor": 0
      },
      "text/plain": [
       "Stage 32px Ep10/10:   0%|          | 0/352 [00:00<?, ?it/s]"
      ]
     },
     "metadata": {},
     "output_type": "display_data"
    },
    {
     "data": {
      "image/png": "[encoded data removed]",
      "text/plain": [
       "<Figure size 800x800 with 4 Axes>"
      ]
     },
     "metadata": {},
     "output_type": "display_data"
    },
    {
     "name": "stdout",
     "output_type": "stream",
     "text": [
      "Stage 32px Ep10 avg saliency loss: 0.102116\n",
      "Stage 32px Ep10 val acc: 81.90%\n",
      "Student Acc: 81.67%\n"
     ]
    }
   ],
   "source": [
    "import os\n",
    "import math\n",
    "import numpy as np\n",
    "import torch\n",
    "import torch.nn as nn\n",
    "import torch.nn.functional as F\n",
    "import torch.optim as optim\n",
    "import matplotlib.pyplot as plt\n",
    "from torch.utils.data import DataLoader, Subset\n",
    "from torchvision import datasets, transforms\n",
    "from torchvision.transforms import AutoAugment, AutoAugmentPolicy, RandomErasing\n",
    "from transformers import (\n",
    "    DeiTConfig,\n",
    "    DeiTForImageClassification,\n",
    "    ViTConfig,\n",
    "    ViTPreTrainedModel,\n",
    "    ViTModel\n",
    ")\n",
    "\n",
    "# ---------------------------------------------\n",
    "# Configuration and Hyperparameters\n",
    "# ---------------------------------------------\n",
    "use_dp = False  # Whether to use DataParallel\n",
    "\n",
    "device = torch.device(\"cuda\" if torch.cuda.is_available() else \"cpu\")\n",
    "torch.manual_seed(42)\n",
    "np.random.seed(42)\n",
    "\n",
    "mean = (0.4914, 0.4822, 0.4465)\n",
    "std  = (0.2023, 0.1994, 0.2010)\n",
    "\n",
    "gamma, alpha, temp = 0.8, 0.5, 4.0\n",
    "stages = [(r, 10) for r in [12, 16, 20, 24, 28, 32]]\n",
    "\n",
    "# ---------------------------------------------\n",
    "# Model Definitions\n",
    "# ---------------------------------------------\n",
    "class ViTWithDistillation(ViTPreTrainedModel):\n",
    "    def __init__(self, config: ViTConfig):\n",
    "        super().__init__(config)\n",
    "        self.vit = ViTModel(config)\n",
    "        self.distill_token = nn.Parameter(torch.zeros(1, 1, config.hidden_size))\n",
    "        self.classifier = nn.Linear(config.hidden_size, config.num_labels)\n",
    "        self.distiller = nn.Linear(config.hidden_size, config.num_labels)\n",
    "        self.init_weights()\n",
    "\n",
    "    def forward(self, pixel_values, labels=None, teacher_logits=None,\n",
    "                alpha=0.5, temperature=1.0):\n",
    "        B = pixel_values.size(0)\n",
    "        # Embeddings + add distill token\n",
    "        embeds = self.vit.embeddings(pixel_values, interpolate_pos_encoding=True)\n",
    "        cls_emb, patch_emb = embeds[:, :1, :], embeds[:, 1:, :]\n",
    "        dist_tok = self.distill_token.expand(B, -1, -1)\n",
    "        x = torch.cat([cls_emb, dist_tok, patch_emb], dim=1)\n",
    "        x = self.vit.encoder(x)[0]\n",
    "        cls_out, dist_out = x[:, 0], x[:, 1]\n",
    "        logits = self.classifier(cls_out)\n",
    "        dist_logits = self.distiller(dist_out)\n",
    "        output = {\"logits\": logits, \"distill_logits\": dist_logits}\n",
    "\n",
    "        # Compute combined loss if labels + teacher logits provided\n",
    "        if labels is not None and teacher_logits is not None:\n",
    "            loss_ce = F.cross_entropy(logits, labels)\n",
    "            kd = F.kl_div(\n",
    "                F.log_softmax(dist_logits / temperature, dim=1),\n",
    "                F.softmax(teacher_logits / temperature, dim=1),\n",
    "                reduction='batchmean'\n",
    "            ) * (temperature ** 2)\n",
    "            output[\"loss\"] = (1 - alpha) * loss_ce + alpha * kd\n",
    "\n",
    "        return output\n",
    "\n",
    "\n",
    "class SaliencyDistiller:\n",
    "    def __init__(self, student, teacher, layer_idxs):\n",
    "        self.stu = student.module if isinstance(student, nn.DataParallel) else student\n",
    "        base_t = teacher.module if isinstance(teacher, nn.DataParallel) else teacher\n",
    "        self.tea_encoder = base_t.deit\n",
    "        self.tea_classifier = base_t.classifier\n",
    "        self.layer_idxs = layer_idxs\n",
    "        self.stu_feats = {}\n",
    "        self.tea_feats = {}\n",
    "\n",
    "        for i in layer_idxs:\n",
    "            self.tea_encoder.encoder.layer[i].output.register_forward_hook(\n",
    "                self._hook(self.tea_feats, i)\n",
    "            )\n",
    "            self.stu.vit.encoder.layer[i].output.register_forward_hook(\n",
    "                self._hook(self.stu_feats, i)\n",
    "            )\n",
    "\n",
    "    def _hook(self, store, idx):\n",
    "        def fn(module, inp, out):\n",
    "            store[idx] = out\n",
    "        return fn\n",
    "\n",
    "    def clear(self):\n",
    "        self.stu_feats.clear()\n",
    "        self.tea_feats.clear()\n",
    "\n",
    "    def compute_attention_map(self, P, logits):\n",
    "        B, Np, H = P.shape\n",
    "        side = int(math.sqrt(Np))\n",
    "        maps = []\n",
    "        for c in range(logits.size(1)):\n",
    "            grad = torch.autograd.grad(\n",
    "                outputs=logits[:, c].sum(),\n",
    "                inputs=P,\n",
    "                retain_graph=True,\n",
    "                create_graph=True\n",
    "            )[0]\n",
    "            w = grad.mean(dim=1, keepdim=True)\n",
    "            att = (w * P).relu().sum(dim=2)\n",
    "            maps.append(att.unsqueeze(-1))\n",
    "\n",
    "        M = torch.cat(maps, 2).view(B, side, side, -1)\n",
    "        flat = M.view(B, -1)\n",
    "        mn, mx = flat.min(1, True)[0], flat.max(1, True)[0]\n",
    "        return ((flat - mn) / (mx - mn + 1e-6)).view_as(M)\n",
    "\n",
    "    def saliency_loss(self, student_logits, teacher_logits, return_maps=False):\n",
    "        loss = 0\n",
    "        A_s = A_t = None\n",
    "\n",
    "        for i in self.layer_idxs:\n",
    "            Fs = self.stu_feats[i]\n",
    "            Ft = self.tea_feats[i]\n",
    "\n",
    "            Ps = Fs[:, 2:, :].requires_grad_(True)\n",
    "            Pt = Ft[:, 2:, :].detach().clone().requires_grad_(True)\n",
    "\n",
    "            ls = self.stu.classifier(Ps.mean(1))\n",
    "            lt = self.tea_classifier(Pt.mean(1))\n",
    "\n",
    "            A_s = self.compute_attention_map(Ps, ls)\n",
    "            A_t = self.compute_attention_map(Pt, lt).detach()\n",
    "\n",
    "            loss += F.mse_loss(A_s, A_t)\n",
    "\n",
    "        if return_maps:\n",
    "            return loss, A_s, A_t\n",
    "        return loss\n",
    "\n",
    "# ---------------------------------------------\n",
    "# Prepare Teacher Model\n",
    "# ---------------------------------------------\n",
    "teacher_config = DeiTConfig(\n",
    "    image_size=32,\n",
    "    patch_size=2,\n",
    "    num_labels=10,\n",
    "    hidden_size=384,\n",
    "    num_hidden_layers=12,\n",
    "    num_attention_heads=6,\n",
    "    intermediate_size=1536,\n",
    "    hidden_dropout_prob=0.1,\n",
    "    attention_probs_dropout_prob=0.1,\n",
    "    stochastic_depth_prob=0.1\n",
    ")\n",
    "teacher = DeiTForImageClassification(teacher_config).to(device)\n",
    "if use_dp:\n",
    "    teacher = nn.DataParallel(teacher)\n",
    "\n",
    "ckpt = torch.load(\n",
    "    \"/kaggle/input/best-teacher/pytorch/default/1/best_teacher.pth\",\n",
    "    map_location=device\n",
    ")\n",
    "state = {k.replace('module.', ''): v for k, v in ckpt.items()}\n",
    "teacher.load_state_dict(state, strict=True)\n",
    "teacher.eval()\n",
    "for p in teacher.parameters():\n",
    "    p.requires_grad_(False)\n",
    "\n",
    "# ---------------------------------------------\n",
    "# Data & Fixed Examples for Visualization\n",
    "# ---------------------------------------------\n",
    "tr_tf = transforms.Compose([\n",
    "    transforms.RandomCrop(32, padding=4),\n",
    "    transforms.RandomHorizontalFlip(),\n",
    "    AutoAugment(policy=AutoAugmentPolicy.CIFAR10),\n",
    "    transforms.ToTensor(),\n",
    "    transforms.Normalize(mean, std),\n",
    "    RandomErasing(p=0.2, scale=(0.02,0.2), ratio=(0.3,3.3))\n",
    "])\n",
    "val_tf = transforms.Compose([\n",
    "    transforms.ToTensor(),\n",
    "    transforms.Normalize(mean, std)\n",
    "])\n",
    "\n",
    "# Full train/val splits\n",
    "full_train = datasets.CIFAR10('./data', train=True, download=True, transform=tr_tf)\n",
    "num_val = int(0.1 * len(full_train))\n",
    "num_train = len(full_train) - num_val\n",
    "train_ds, val_idx_ds = torch.utils.data.random_split(\n",
    "    full_train, [num_train, num_val], generator=torch.Generator().manual_seed(42)\n",
    ")\n",
    "full_for_val = datasets.CIFAR10('./data', train=True, download=False, transform=val_tf)\n",
    "val_ds = Subset(full_for_val, val_idx_ds.indices)\n",
    "\n",
    "# Pick two fixed raw images (no transform) for consistent saliency visualization\n",
    "raw_dataset = datasets.CIFAR10('./data', train=True, download=False, transform=None)\n",
    "viz_indices = [0, 1]\n",
    "viz_raw_imgs = [raw_dataset[i][0] for i in viz_indices]\n",
    "viz_labels = torch.tensor([raw_dataset[i][1] for i in viz_indices]).to(device)\n",
    "\n",
    "# ---------------------------------------------\n",
    "# Initialize Student and Distiller\n",
    "# ---------------------------------------------\n",
    "stu_cfg = ViTConfig(\n",
    "    image_size=32,\n",
    "    patch_size=2,\n",
    "    num_labels=10,\n",
    "    hidden_size=192,\n",
    "    num_hidden_layers=12,\n",
    "    num_attention_heads=3,\n",
    "    intermediate_size=768,\n",
    "    hidden_dropout_prob=0.1,\n",
    "    attention_probs_dropout_prob=0.1,\n",
    "    stochastic_depth_prob=0.1\n",
    ")\n",
    "student = ViTWithDistillation(config=stu_cfg).to(device)\n",
    "opt = optim.AdamW(student.parameters(), lr=3e-4, weight_decay=1e-4)\n",
    "dist = SaliencyDistiller(student, teacher, layer_idxs=list(range(12)))\n",
    "\n",
    "# ---------------------------------------------\n",
    "# Curriculum Training Loop with Saliency Visualization\n",
    "# ---------------------------------------------\n",
    "for res, epochs in stages:\n",
    "    print(f\"\\n--- Curriculum Stage: Crop {res}px for {epochs} epochs ---\")\n",
    "    # Define transforms for this stage\n",
    "    train_stage_tf = transforms.Compose([\n",
    "        transforms.RandomCrop(res, padding=4),\n",
    "        transforms.RandomHorizontalFlip(),\n",
    "        transforms.ToTensor(),\n",
    "        transforms.Normalize(mean, std),\n",
    "    ])\n",
    "    val_stage_tf = transforms.Compose([\n",
    "        transforms.CenterCrop(res),\n",
    "        transforms.ToTensor(),\n",
    "        transforms.Normalize(mean, std),\n",
    "    ])\n",
    "\n",
    "    # Prepare the two fixed visualization inputs under this stage's val transform\n",
    "    viz_inputs = torch.stack([val_stage_tf(img) for img in viz_raw_imgs]).to(device)\n",
    "\n",
    "    # Data loaders for this stage\n",
    "    base_train = datasets.CIFAR10('./data', train=True, download=False, transform=train_stage_tf)\n",
    "    base_val = datasets.CIFAR10('./data', train=True, download=False, transform=val_stage_tf)\n",
    "    tr_loader = DataLoader(Subset(base_train, train_ds.indices), batch_size=128, shuffle=True, num_workers=4)\n",
    "    vl_loader = DataLoader(Subset(base_val, val_idx_ds.indices), batch_size=128, shuffle=False, num_workers=4)\n",
    "\n",
    "    for ep in range(1, epochs + 1):\n",
    "        student.train()\n",
    "        total_sal_loss = 0.0\n",
    "        num_batches = 0\n",
    "\n",
    "        for i, (x, y) in enumerate(tqdm(tr_loader, desc=f\"Stage {res}px Ep{ep}/{epochs}\")):\n",
    "            x, y = x.to(device), y.to(device)\n",
    "            dist.clear()\n",
    "\n",
    "            # Get teacher logits\n",
    "            with torch.no_grad():\n",
    "                tlog = teacher(pixel_values=x, interpolate_pos_encoding=True).logits\n",
    "\n",
    "            # Forward student + compute distillation loss\n",
    "            out = student(pixel_values=x, labels=y, teacher_logits=tlog, alpha=alpha, temperature=temp)\n",
    "            sal_loss, As, At = dist.saliency_loss(out['logits'], tlog, return_maps=True)\n",
    "            loss = out['loss'].mean() + gamma * sal_loss\n",
    "            opt.zero_grad()\n",
    "            loss.backward()\n",
    "            opt.step()\n",
    "\n",
    "            # Plot saliency for the two fixed images at epoch 1 and last epoch\n",
    "            if i == 0 and (ep == 1 or ep == epochs):\n",
    "                dist.clear()\n",
    "                with torch.no_grad():\n",
    "                    tlog_v = teacher(pixel_values=viz_inputs, interpolate_pos_encoding=True).logits\n",
    "                out_v = student(pixel_values=viz_inputs, labels=viz_labels,\n",
    "                                teacher_logits=tlog_v, alpha=alpha, temperature=temp)\n",
    "                _, As_v, At_v = dist.saliency_loss(out_v['logits'], tlog_v, return_maps=True)\n",
    "\n",
    "                fig, axes = plt.subplots(2, 2, figsize=(8, 8))\n",
    "                for j in range(2):\n",
    "                    axes[j, 0].imshow(As_v[j, :, :, 0].detach().cpu(), aspect='auto')\n",
    "                    axes[j, 0].set_title(f\"Student Res{res} Ep{ep} Img{viz_indices[j]}\")\n",
    "                    axes[j, 0].axis('off')\n",
    "                    axes[j, 1].imshow(At_v[j, :, :, 0].detach().cpu(), aspect='auto')\n",
    "                    axes[j, 1].set_title(f\"Teacher Res{res} Ep{ep} Img{viz_indices[j]}\")\n",
    "                    axes[j, 1].axis('off')\n",
    "                plt.tight_layout()\n",
    "                plt.show()\n",
    "\n",
    "            total_sal_loss += sal_loss.item()\n",
    "            num_batches += 1\n",
    "\n",
    "        avg_sal = total_sal_loss / num_batches\n",
    "        print(f\"Stage {res}px Ep{ep} avg saliency loss: {avg_sal:.6f}\")\n",
    "\n",
    "        # Validation accuracy\n",
    "        student.eval()\n",
    "        correct = 0\n",
    "        total = 0\n",
    "        with torch.no_grad():\n",
    "            for xb, yb in vl_loader:\n",
    "                xb, yb = xb.to(device), yb.to(device)\n",
    "                preds = student(pixel_values=xb)['logits'].argmax(1)\n",
    "                correct += (preds == yb).sum().item()\n",
    "                total += yb.size(0)\n",
    "        val_acc = 100 * correct / total\n",
    "        print(f\"Stage {res}px Ep{ep} val acc: {val_acc:.2f}%\")\n",
    "\n",
    "# ---------------------------------------------\n",
    "# Final Test\n",
    "# ---------------------------------------------\n",
    "student.eval()\n",
    "test_ds = datasets.CIFAR10('./data', train=False, transform=val_tf)\n",
    "tloader = DataLoader(test_ds, batch_size=128, shuffle=False, num_workers=4)\n",
    "correct = sum(\n",
    "    (student(pixel_values=xb.to(device))['logits'].argmax(1) == yb.to(device)).sum().item()\n",
    "    for xb, yb in tloader\n",
    ")\n",
    "total = len(test_ds)\n",
    "student_acc = 100 * correct / total\n",
    "print(f\"Student Acc: {student_acc:.2f}%\")\n"
   ]
  },
  {
   "cell_type": "code",
   "execution_count": null,
   "metadata": {
    "trusted": true
   },
   "outputs": [],
   "source": []
  },
  {
   "cell_type": "code",
   "execution_count": null,
   "metadata": {},
   "outputs": [],
   "source": []
  },
  {
   "cell_type": "code",
   "execution_count": null,
   "metadata": {
    "trusted": true
   },
   "outputs": [],
   "source": []
  },
  {
   "cell_type": "code",
   "execution_count": null,
   "metadata": {
    "trusted": true
   },
   "outputs": [],
   "source": []
  }
 ],
 "metadata": {
  "kaggle": {
   "accelerator": "gpu",
   "dataSources": [
    {
     "isSourceIdPinned": true,
     "modelId": 323008,
     "modelInstanceId": 302513,
     "sourceId": 364604,
     "sourceType": "modelInstanceVersion"
    }
   ],
   "dockerImageVersionId": 31011,
   "isGpuEnabled": true,
   "isInternetEnabled": true,
   "language": "python",
   "sourceType": "notebook"
  },
  "kernelspec": {
   "display_name": "Python 3",
   "language": "python",
   "name": "python3"
  },
  "language_info": {
   "codemirror_mode": {
    "name": "ipython",
    "version": 3
   },
   "file_extension": ".py",
   "mimetype": "text/x-python",
   "name": "python",
   "nbconvert_exporter": "python",
   "pygments_lexer": "ipython3",
   "version": "3.11.11"
  }
 },
 "nbformat": 4,
 "nbformat_minor": 4
}
